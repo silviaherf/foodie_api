{
  "nbformat": 4,
  "nbformat_minor": 0,
  "metadata": {
    "accelerator": "GPU",
    "colab": {
      "name": "V3_20.ipynb",
      "provenance": [],
      "collapsed_sections": [],
      "toc_visible": true,
      "include_colab_link": true
    },
    "kernelspec": {
      "display_name": "Python 3",
      "name": "python3"
    }
  },
  "cells": [
    {
      "cell_type": "markdown",
      "metadata": {
        "id": "view-in-github",
        "colab_type": "text"
      },
      "source": [
        "<a href=\"https://colab.research.google.com/github/silviaherf/foodie_app/blob/main/V3_20.ipynb\" target=\"_parent\"><img src=\"https://colab.research.google.com/assets/colab-badge.svg\" alt=\"Open In Colab\"/></a>"
      ]
    },
    {
      "cell_type": "markdown",
      "metadata": {
        "id": "MhoQ0WE77laV"
      },
      "source": [
        "##### Copyright 2020 The TensorFlow Authors."
      ]
    },
    {
      "cell_type": "code",
      "metadata": {
        "cellView": "form",
        "id": "_ckMIh7O7s6D"
      },
      "source": [
        "#@title Licensed under the Apache License, Version 2.0 (the \"License\");\n",
        "# you may not use this file except in compliance with the License.\n",
        "# You may obtain a copy of the License at\n",
        "#\n",
        "# https://www.apache.org/licenses/LICENSE-2.0\n",
        "#\n",
        "# Unless required by applicable law or agreed to in writing, software\n",
        "# distributed under the License is distributed on an \"AS IS\" BASIS,\n",
        "# WITHOUT WARRANTIES OR CONDITIONS OF ANY KIND, either express or implied.\n",
        "# See the License for the specific language governing permissions and\n",
        "# limitations under the License."
      ],
      "execution_count": 1,
      "outputs": []
    },
    {
      "cell_type": "markdown",
      "metadata": {
        "id": "jYysdyb-CaWM"
      },
      "source": [
        "# Train and serve a TensorFlow model with TensorFlow Serving"
      ]
    },
    {
      "cell_type": "markdown",
      "metadata": {
        "id": "E6FwTNtl3S4v"
      },
      "source": [
        "**Warning: This notebook is designed to be run in a Google Colab only**.  It installs packages on the system and requires root access.  If you want to run it in a local Jupyter notebook, please proceed with caution.\n",
        "\n",
        "Note: You can run this example right now in a Jupyter-style notebook, no setup required!  Just click \"Run in Google Colab\"\n",
        "\n",
        "<div class=\"devsite-table-wrapper\"><table class=\"tfo-notebook-buttons\" align=\"left\">\n",
        "<tr><td><a target=\"_blank\" href=\"https://www.tensorflow.org/tfx/tutorials/serving/rest_simple\">\n",
        "<img src=\"https://www.tensorflow.org/images/tf_logo_32px.png\" />View on TensorFlow.org</a></td>\n",
        "<td><a target=\"_blank\" href=\"https://colab.research.google.com/github/tensorflow/tfx/blob/master/docs/tutorials/serving/rest_simple.ipynb\">\n",
        "<img src=\"https://www.tensorflow.org/images/colab_logo_32px.png\">Run in Google Colab</a></td>\n",
        "<td><a target=\"_blank\" href=\"https://github.com/tensorflow/tfx/blob/master/docs/tutorials/serving/rest_simple.ipynb\">\n",
        "<img width=32px src=\"https://www.tensorflow.org/images/GitHub-Mark-32px.png\">View source on GitHub</a></td>\n",
        "</tr></table></div>"
      ]
    },
    {
      "cell_type": "markdown",
      "metadata": {
        "id": "FbVhjPpzn6BM"
      },
      "source": [
        "This guide trains a neural network model to classify [images of clothing, like sneakers and shirts](https://github.com/zalandoresearch/fashion-mnist), saves the trained model, and then serves it with [TensorFlow Serving](https://www.tensorflow.org/serving/).  The focus is on TensorFlow Serving, rather than the modeling and training in TensorFlow, so for a complete example which focuses on the modeling and training see the [Basic Classification example](https://github.com/tensorflow/docs/blob/master/site/en/r1/tutorials/keras/basic_classification.ipynb).\n",
        "\n",
        "This guide uses [tf.keras](https://github.com/tensorflow/docs/blob/master/site/en/r1/guide/keras.ipynb), a high-level API to build and train models in TensorFlow."
      ]
    },
    {
      "cell_type": "code",
      "metadata": {
        "id": "FWkuJabJSKGB"
      },
      "source": [
        "import sys\n",
        "\n",
        "# Confirm that we're using Python 3\n",
        "assert sys.version_info.major is 3, 'Oops, not running Python 3. Use Runtime > Change runtime type'"
      ],
      "execution_count": 2,
      "outputs": []
    },
    {
      "cell_type": "code",
      "metadata": {
        "id": "P7jbH5xyCqLE",
        "outputId": "9b75be37-86a9-4a27-aff8-316272535f5a",
        "colab": {
          "base_uri": "https://localhost:8080/",
          "height": 34
        }
      },
      "source": [
        "# TensorFlow and tf.keras\n",
        "print(\"Installing dependencies for Colab environment\")\n",
        "!pip install -Uq grpcio==1.26.0\n"
      ],
      "execution_count": 3,
      "outputs": [
        {
          "output_type": "stream",
          "text": [
            "Installing dependencies for Colab environment\n"
          ],
          "name": "stdout"
        }
      ]
    },
    {
      "cell_type": "code",
      "metadata": {
        "id": "dzLKpmZICaWN",
        "outputId": "98bc266d-ab05-49c0-a439-6ac13eaa3200",
        "colab": {
          "base_uri": "https://localhost:8080/",
          "height": 34
        }
      },
      "source": [
        "import cv2\n",
        "import glob\n",
        "import os\n",
        "import random\n",
        "import pandas as pd\n",
        "from shutil import copy\n",
        "from shutil import copytree, rmtree\n",
        "import tensorflow as tf\n",
        "from keras.preprocessing.image import ImageDataGenerator\n",
        "from tensorflow.keras import Input\n",
        "import matplotlib.pyplot as plt\n",
        "from PIL import Image\n",
        "import numpy as np\n",
        "from sklearn.model_selection import train_test_split\n",
        "import tensorflow as tf\n",
        "from keras.losses import categorical_crossentropy\n",
        "from tensorflow.keras.regularizers import l2\n",
        "from tensorflow.keras.models import Sequential\n",
        "from tensorflow.keras.layers import Dense\n",
        "from tensorflow.keras.layers import Flatten\n",
        "from tensorflow.keras.layers import Dropout\n",
        "from tensorflow.keras.layers import Conv2D, MaxPooling2D\n",
        "from tensorflow.keras.optimizers import Adam,Adadelta,SGD\n",
        "from tensorflow.keras.backend import mean\n",
        "from tensorflow.keras.losses import mse\n",
        "from tensorflow.keras.callbacks import EarlyStopping, ModelCheckpoint, LearningRateScheduler \n",
        "from tensorflow.keras.applications.inception_v3 import preprocess_input, InceptionV3\n",
        "from tensorflow.keras.layers import GlobalAveragePooling2D\n",
        "from tensorflow.keras.models import Model\n",
        "from zipfile import ZipFile \n",
        "\n",
        "print('TensorFlow version: {}'.format(tf.__version__))"
      ],
      "execution_count": 4,
      "outputs": [
        {
          "output_type": "stream",
          "text": [
            "TensorFlow version: 2.3.0\n"
          ],
          "name": "stdout"
        }
      ]
    },
    {
      "cell_type": "markdown",
      "metadata": {
        "id": "5jAk1ZXqTJqN"
      },
      "source": [
        "## Create your model"
      ]
    },
    {
      "cell_type": "code",
      "metadata": {
        "id": "ORJkMPl8C6y7",
        "outputId": "eba22e3f-8ef6-44d6-bae5-cceeb31a7541",
        "colab": {
          "base_uri": "https://localhost:8080/",
          "height": 34
        }
      },
      "source": [
        "from google.colab import drive\n",
        "\n",
        "drive.mount('/content/drive')"
      ],
      "execution_count": 5,
      "outputs": [
        {
          "output_type": "stream",
          "text": [
            "Drive already mounted at /content/drive; to attempt to forcibly remount, call drive.mount(\"/content/drive\", force_remount=True).\n"
          ],
          "name": "stdout"
        }
      ]
    },
    {
      "cell_type": "code",
      "metadata": {
        "id": "A8X9cyR8FUX-"
      },
      "source": [
        "file_name = '/content/drive/My Drive/foodie API/food.zip'"
      ],
      "execution_count": 6,
      "outputs": []
    },
    {
      "cell_type": "code",
      "metadata": {
        "id": "8Ixv6Ba0iyv7"
      },
      "source": [
        "names=['lobster_roll_sandwich',\n",
        " 'beet_salad',\n",
        " 'red_velvet_cake',\n",
        " 'falafel',\n",
        " 'paella',\n",
        " 'french_onion_soup',\n",
        " 'caesar_salad',\n",
        " 'chicken_quesadilla',\n",
        " 'beef_carpaccio',\n",
        " 'macaroni_and_cheese',\n",
        " 'lobster_bisque',\n",
        " 'ice_cream',\n",
        " 'omelette',\n",
        " 'frozen_yogurt',\n",
        " 'panna_cotta',\n",
        " 'beignets',\n",
        " 'ravioli',\n",
        " 'tacos',\n",
        " 'edamame',\n",
        " 'risotto',\n",
        " 'creme_brulee',\n",
        " 'chocolate_mousse',\n",
        " 'onion_rings',\n",
        " 'hot_and_sour_soup',\n",
        " 'pizza',\n",
        " 'hamburger',\n",
        " 'cannoli',\n",
        " 'pancakes',\n",
        " 'shrimp_and_grits',\n",
        " 'sashimi',\n",
        " 'lasagna',\n",
        " 'hummus',\n",
        " 'oysters',\n",
        " 'baby_back_ribs',\n",
        " 'chocolate_cake',\n",
        " 'guacamole',\n",
        " 'fish_and_chips',\n",
        " 'croque_madame',\n",
        " 'bread_pudding',\n",
        " 'eggs_benedict',\n",
        " 'takoyaki',\n",
        " 'ceviche',\n",
        " 'spaghetti_carbonara',\n",
        " 'scallops',\n",
        " 'spaghetti_bolognese',\n",
        " 'tuna_tartare',\n",
        " 'sushi',\n",
        " 'french_fries',\n",
        " 'pulled_pork_sandwich',\n",
        " 'bruschetta',\n",
        " 'gyoza',\n",
        " 'spring_rolls',\n",
        " 'huevos_rancheros',\n",
        " 'beef_tartare',\n",
        " 'pho',\n",
        " 'hot_dog',\n",
        " 'crab_cakes',\n",
        " 'cup_cakes',\n",
        " 'fried_rice',\n",
        " 'churros',\n",
        " 'escargots',\n",
        " 'ramen',\n",
        " 'foie_gras',\n",
        " 'chicken_curry',\n",
        " 'garlic_bread',\n",
        " 'strawberry_shortcake',\n",
        " 'tiramisu',\n",
        " 'clam_chowder',\n",
        " 'fried_calamari',\n",
        " 'french_toast',\n",
        " 'chicken_wings',\n",
        " 'poutine',\n",
        " 'dumplings',\n",
        " 'samosa',\n",
        " 'steak',\n",
        " 'gnocchi',\n",
        " 'macarons',\n",
        " 'cheesecake',\n",
        " 'waffles',\n",
        " 'cheese_plate',\n",
        " 'nachos',\n",
        " 'greek_salad',\n",
        " 'peking_duck',\n",
        " 'carrot_cake',\n",
        " 'mussels',\n",
        " 'breakfast_burrito',\n",
        " 'filet_mignon',\n",
        " 'pad_thai',\n",
        " 'club_sandwich',\n",
        " 'deviled_eggs',\n",
        " 'baklava',\n",
        " 'caprese_salad',\n",
        " 'seaweed_salad',\n",
        " 'grilled_salmon',\n",
        " 'bibimbap',\n",
        " 'apple_pie',\n",
        " 'donuts',\n",
        " 'prime_rib',\n",
        " 'grilled_cheese_sandwich',\n",
        " 'miso_soup',\n",
        " 'pork_chop']"
      ],
      "execution_count": 7,
      "outputs": []
    },
    {
      "cell_type": "code",
      "metadata": {
        "id": "KUaKp6Tinsp_"
      },
      "source": [
        "from zipfile import ZipFile \n",
        "\n",
        "archive = ZipFile(file_name)\n",
        "\n",
        "for file in archive.namelist():\n",
        "  \n",
        "  if file.split('/')[1] in names[0:20]:\n",
        "      archive.extract(file)"
      ],
      "execution_count": 8,
      "outputs": []
    },
    {
      "cell_type": "code",
      "metadata": {
        "id": "kaORjlzWmYKl"
      },
      "source": [
        "train_datagen = ImageDataGenerator(\n",
        "        rescale=1. / 255,\n",
        "        shear_range=0.2,\n",
        "        horizontal_flip=True)"
      ],
      "execution_count": 9,
      "outputs": []
    },
    {
      "cell_type": "code",
      "metadata": {
        "id": "ExfRC_n9mYQ_"
      },
      "source": [
        "test_datagen = ImageDataGenerator(rescale=1. / 255)"
      ],
      "execution_count": 10,
      "outputs": []
    },
    {
      "cell_type": "code",
      "metadata": {
        "id": "6mrQkp5GmYTW",
        "outputId": "0d34df4c-6d79-455e-f144-02944b538899",
        "colab": {
          "base_uri": "https://localhost:8080/",
          "height": 34
        }
      },
      "source": [
        "train_generator = train_datagen.flow_from_directory(\n",
        "    '/content/train',\n",
        "    target_size=(75,75),\n",
        "    batch_size=80,\n",
        "    class_mode='categorical',\n",
        "    color_mode='rgb')"
      ],
      "execution_count": 11,
      "outputs": [
        {
          "output_type": "stream",
          "text": [
            "Found 15000 images belonging to 20 classes.\n"
          ],
          "name": "stdout"
        }
      ]
    },
    {
      "cell_type": "code",
      "metadata": {
        "id": "3VieON_GmYXv",
        "outputId": "94842d39-b325-46fe-8841-ba1777a4e147",
        "colab": {
          "base_uri": "https://localhost:8080/",
          "height": 34
        }
      },
      "source": [
        "test_generator = test_datagen.flow_from_directory(\n",
        "    '/content/test',\n",
        "    target_size=(75,75),\n",
        "    batch_size=80,\n",
        "    class_mode='categorical',\n",
        "    color_mode='rgb')"
      ],
      "execution_count": 12,
      "outputs": [
        {
          "output_type": "stream",
          "text": [
            "Found 5000 images belonging to 20 classes.\n"
          ],
          "name": "stdout"
        }
      ]
    },
    {
      "cell_type": "code",
      "metadata": {
        "id": "0-vN5d00nD-0",
        "outputId": "9555fc3c-b106-4e21-c092-e155b51575be",
        "colab": {
          "base_uri": "https://localhost:8080/",
          "height": 285
        }
      },
      "source": [
        "plt.imshow(train_generator[0][0][0])"
      ],
      "execution_count": 13,
      "outputs": [
        {
          "output_type": "execute_result",
          "data": {
            "text/plain": [
              "<matplotlib.image.AxesImage at 0x7fe188361400>"
            ]
          },
          "metadata": {
            "tags": []
          },
          "execution_count": 13
        },
        {
          "output_type": "display_data",
          "data": {
            "image/png": "[encoded data removed]",
            "text/plain": [
              "<Figure size 432x288 with 1 Axes>"
            ]
          },
          "metadata": {
            "tags": [],
            "needs_background": "light"
          }
        }
      ]
    },
    {
      "cell_type": "code",
      "metadata": {
        "id": "zdJPmouQnEBn"
      },
      "source": [
        ""
      ],
      "execution_count": 13,
      "outputs": []
    },
    {
      "cell_type": "markdown",
      "metadata": {
        "id": "toi-X5LnnVbi"
      },
      "source": [
        "We define our net topology\n"
      ]
    },
    {
      "cell_type": "code",
      "metadata": {
        "id": "JvHDiSDHnEHG"
      },
      "source": [
        "epocas=50\n",
        "n_classes=len(train_generator.class_indices)\n",
        "#opt = tf.keras.optimizers.Adam(learning_rate=0.1)\n",
        "#optimizer = tf.train.AdamOptimizer(0.001)\n",
        "opt = SGD(lr=1e-2, momentum=0.9, decay=1e-2 / epocas)\n",
        "loss=\"categorical_crossentropy\"\n",
        "optimizers=[Adam(),Adadelta(),SGD(learning_rate=1)]"
      ],
      "execution_count": 14,
      "outputs": []
    },
    {
      "cell_type": "code",
      "metadata": {
        "id": "Qa6z_kyQnENj",
        "outputId": "24a89bbc-149c-4b30-d28d-6fd6ee1464f4",
        "colab": {
          "base_uri": "https://localhost:8080/",
          "height": 901
        }
      },
      "source": [
        "model = Sequential()\n",
        "\n",
        "\n",
        "model.add(Conv2D(filters= 64, kernel_size= (3,3), strides= (1,1), padding='same', input_shape= (75, 75, 3), activation= 'relu'))\n",
        "model.add(Conv2D(filters= 64, kernel_size= (3,3), strides= (1,1), padding='same', activation= 'relu'))\n",
        "model.add(MaxPooling2D(pool_size= (2,2), strides=(2,2)))\n",
        "\n",
        "\n",
        "model.add(Conv2D(filters= 128, kernel_size= (3,3), strides= (1,1), padding='same', activation= 'relu'))\n",
        "model.add(Conv2D(filters= 128, kernel_size= (3,3), strides= (1,1), padding='same', activation= 'relu'))\n",
        "model.add(MaxPooling2D(pool_size= (2,2), strides=(2,2)))\n",
        "\n",
        "\n",
        "model.add(Conv2D(filters= 256, kernel_size= (3,3), strides= (1,1), padding='same', activation= 'relu'))\n",
        "model.add(Conv2D(filters= 256, kernel_size= (3,3), strides= (1,1), padding='same', activation= 'relu'))\n",
        "model.add(Conv2D(filters= 256, kernel_size= (3,3), strides= (1,1), padding='same', activation= 'relu'))\n",
        "model.add(MaxPooling2D(pool_size= (2,2), strides=(2,2)))\n",
        "\n",
        "\n",
        "model.add(Conv2D(filters= 512, kernel_size= (3,3), strides= (1,1), padding='same', activation= 'relu'))\n",
        "model.add(Conv2D(filters= 512, kernel_size= (3,3), strides= (1,1), padding='same', activation= 'relu'))\n",
        "model.add(Conv2D(filters= 512, kernel_size= (3,3), strides= (1,1), padding='same', activation= 'relu'))\n",
        "model.add(MaxPooling2D(pool_size= (2,2), strides=(2,2)))\n",
        "\n",
        "\n",
        "model.add(Conv2D(filters= 512, kernel_size= (3,3), strides= (1,1), padding='same', activation= 'relu'))\n",
        "model.add(Conv2D(filters= 512, kernel_size= (3,3), strides= (1,1), padding='same', activation= 'relu'))\n",
        "model.add(Conv2D(filters= 512, kernel_size= (3,3), strides= (1,1), padding='same', activation= 'relu'))\n",
        "model.add(MaxPooling2D(pool_size= (2,2), strides=(2,2)))\n",
        "\n",
        "\n",
        "model.add(Flatten())\n",
        "\n",
        "\n",
        "model.add(Dense(units= 4096, activation='relu'))\n",
        "model.add(Dense(units= 4096, activation='relu'))\n",
        "\n",
        "\n",
        "model.add(Dense(n_classes, activation='softmax'))\n",
        "\n",
        "model.compile(optimizer=opt, loss=loss, metrics=['accuracy'])\n",
        "\n",
        "model.summary()"
      ],
      "execution_count": 15,
      "outputs": [
        {
          "output_type": "stream",
          "text": [
            "Model: \"sequential\"\n",
            "_________________________________________________________________\n",
            "Layer (type)                 Output Shape              Param #   \n",
            "=================================================================\n",
            "conv2d (Conv2D)              (None, 75, 75, 64)        1792      \n",
            "_________________________________________________________________\n",
            "conv2d_1 (Conv2D)            (None, 75, 75, 64)        36928     \n",
            "_________________________________________________________________\n",
            "max_pooling2d (MaxPooling2D) (None, 37, 37, 64)        0         \n",
            "_________________________________________________________________\n",
            "conv2d_2 (Conv2D)            (None, 37, 37, 128)       73856     \n",
            "_________________________________________________________________\n",
            "conv2d_3 (Conv2D)            (None, 37, 37, 128)       147584    \n",
            "_________________________________________________________________\n",
            "max_pooling2d_1 (MaxPooling2 (None, 18, 18, 128)       0         \n",
            "_________________________________________________________________\n",
            "conv2d_4 (Conv2D)            (None, 18, 18, 256)       295168    \n",
            "_________________________________________________________________\n",
            "conv2d_5 (Conv2D)            (None, 18, 18, 256)       590080    \n",
            "_________________________________________________________________\n",
            "conv2d_6 (Conv2D)            (None, 18, 18, 256)       590080    \n",
            "_________________________________________________________________\n",
            "max_pooling2d_2 (MaxPooling2 (None, 9, 9, 256)         0         \n",
            "_________________________________________________________________\n",
            "conv2d_7 (Conv2D)            (None, 9, 9, 512)         1180160   \n",
            "_________________________________________________________________\n",
            "conv2d_8 (Conv2D)            (None, 9, 9, 512)         2359808   \n",
            "_________________________________________________________________\n",
            "conv2d_9 (Conv2D)            (None, 9, 9, 512)         2359808   \n",
            "_________________________________________________________________\n",
            "max_pooling2d_3 (MaxPooling2 (None, 4, 4, 512)         0         \n",
            "_________________________________________________________________\n",
            "conv2d_10 (Conv2D)           (None, 4, 4, 512)         2359808   \n",
            "_________________________________________________________________\n",
            "conv2d_11 (Conv2D)           (None, 4, 4, 512)         2359808   \n",
            "_________________________________________________________________\n",
            "conv2d_12 (Conv2D)           (None, 4, 4, 512)         2359808   \n",
            "_________________________________________________________________\n",
            "max_pooling2d_4 (MaxPooling2 (None, 2, 2, 512)         0         \n",
            "_________________________________________________________________\n",
            "flatten (Flatten)            (None, 2048)              0         \n",
            "_________________________________________________________________\n",
            "dense (Dense)                (None, 4096)              8392704   \n",
            "_________________________________________________________________\n",
            "dense_1 (Dense)              (None, 4096)              16781312  \n",
            "_________________________________________________________________\n",
            "dense_2 (Dense)              (None, 20)                81940     \n",
            "=================================================================\n",
            "Total params: 39,970,644\n",
            "Trainable params: 39,970,644\n",
            "Non-trainable params: 0\n",
            "_________________________________________________________________\n"
          ],
          "name": "stdout"
        }
      ]
    },
    {
      "cell_type": "code",
      "metadata": {
        "id": "TBAQcF-18Mka"
      },
      "source": [
        "import os\n",
        "os.mkdir('../content/models/')"
      ],
      "execution_count": 20,
      "outputs": []
    },
    {
      "cell_type": "code",
      "metadata": {
        "id": "8b8jS-m4nETy"
      },
      "source": [
        "earlystopping = EarlyStopping(\n",
        "    monitor = 'loss', \n",
        "    verbose = 1, \n",
        "    patience = 20\n",
        ")\n",
        "checkpointer = ModelCheckpoint(filepath='../content/models/part_V3_check.hdf5', verbose=1, save_best_only=False)"
      ],
      "execution_count": 16,
      "outputs": []
    },
    {
      "cell_type": "code",
      "metadata": {
        "id": "EPcsLEJlnEYC",
        "outputId": "4d2bf278-63f0-4a28-de4f-54737859d5cb",
        "colab": {
          "base_uri": "https://localhost:8080/",
          "height": 1000
        }
      },
      "source": [
        "history = model.fit(train_generator,\n",
        "                    validation_data=test_generator,\n",
        "                    epochs=epocas,\n",
        "                    verbose=1,\n",
        "                    callbacks=[earlystopping,checkpointer])\n",
        "\n",
        "model.save('../content/models/part_V3_model.hdf5')"
      ],
      "execution_count": 17,
      "outputs": [
        {
          "output_type": "stream",
          "text": [
            "Epoch 1/50\n",
            "  2/188 [..............................] - ETA: 12s - loss: 2.9958 - accuracy: 0.0688WARNING:tensorflow:Callbacks method `on_train_batch_end` is slow compared to the batch time (batch time: 0.0430s vs `on_train_batch_end` time: 0.0945s). Check your callbacks.\n",
            "188/188 [==============================] - ETA: 0s - loss: 2.9964 - accuracy: 0.0477\n",
            "Epoch 00001: saving model to ../content/models/part_V3_check.hdf5\n",
            "188/188 [==============================] - 102s 545ms/step - loss: 2.9964 - accuracy: 0.0477 - val_loss: 2.9956 - val_accuracy: 0.0500\n",
            "Epoch 2/50\n",
            "188/188 [==============================] - ETA: 0s - loss: 2.9953 - accuracy: 0.0492\n",
            "Epoch 00002: saving model to ../content/models/part_V3_check.hdf5\n",
            "188/188 [==============================] - 103s 548ms/step - loss: 2.9953 - accuracy: 0.0492 - val_loss: 2.9914 - val_accuracy: 0.0724\n",
            "Epoch 3/50\n",
            "188/188 [==============================] - ETA: 0s - loss: 2.9635 - accuracy: 0.0757\n",
            "Epoch 00003: saving model to ../content/models/part_V3_check.hdf5\n",
            "188/188 [==============================] - 103s 547ms/step - loss: 2.9635 - accuracy: 0.0757 - val_loss: 2.9103 - val_accuracy: 0.1004\n",
            "Epoch 4/50\n",
            "188/188 [==============================] - ETA: 0s - loss: 2.8610 - accuracy: 0.1016\n",
            "Epoch 00004: saving model to ../content/models/part_V3_check.hdf5\n",
            "188/188 [==============================] - 100s 530ms/step - loss: 2.8610 - accuracy: 0.1016 - val_loss: 2.7587 - val_accuracy: 0.1308\n",
            "Epoch 5/50\n",
            "188/188 [==============================] - ETA: 0s - loss: 2.7898 - accuracy: 0.1262\n",
            "Epoch 00005: saving model to ../content/models/part_V3_check.hdf5\n",
            "188/188 [==============================] - 97s 515ms/step - loss: 2.7898 - accuracy: 0.1262 - val_loss: 2.7432 - val_accuracy: 0.1568\n",
            "Epoch 6/50\n",
            "188/188 [==============================] - ETA: 0s - loss: 2.6987 - accuracy: 0.1641\n",
            "Epoch 00006: saving model to ../content/models/part_V3_check.hdf5\n",
            "188/188 [==============================] - 97s 515ms/step - loss: 2.6987 - accuracy: 0.1641 - val_loss: 2.5766 - val_accuracy: 0.1944\n",
            "Epoch 7/50\n",
            "188/188 [==============================] - ETA: 0s - loss: 2.5962 - accuracy: 0.1897\n",
            "Epoch 00007: saving model to ../content/models/part_V3_check.hdf5\n",
            "188/188 [==============================] - 98s 520ms/step - loss: 2.5962 - accuracy: 0.1897 - val_loss: 2.5369 - val_accuracy: 0.1986\n",
            "Epoch 8/50\n",
            "188/188 [==============================] - ETA: 0s - loss: 2.5224 - accuracy: 0.2050\n",
            "Epoch 00008: saving model to ../content/models/part_V3_check.hdf5\n",
            "188/188 [==============================] - 99s 529ms/step - loss: 2.5224 - accuracy: 0.2050 - val_loss: 2.4113 - val_accuracy: 0.2398\n",
            "Epoch 9/50\n",
            "188/188 [==============================] - ETA: 0s - loss: 2.4572 - accuracy: 0.2344\n",
            "Epoch 00009: saving model to ../content/models/part_V3_check.hdf5\n",
            "188/188 [==============================] - 101s 538ms/step - loss: 2.4572 - accuracy: 0.2344 - val_loss: 2.4412 - val_accuracy: 0.2378\n",
            "Epoch 10/50\n",
            "188/188 [==============================] - ETA: 0s - loss: 2.3885 - accuracy: 0.2518\n",
            "Epoch 00010: saving model to ../content/models/part_V3_check.hdf5\n",
            "188/188 [==============================] - 101s 535ms/step - loss: 2.3885 - accuracy: 0.2518 - val_loss: 2.2811 - val_accuracy: 0.2780\n",
            "Epoch 11/50\n",
            "188/188 [==============================] - ETA: 0s - loss: 2.3531 - accuracy: 0.2653\n",
            "Epoch 00011: saving model to ../content/models/part_V3_check.hdf5\n",
            "188/188 [==============================] - 102s 541ms/step - loss: 2.3531 - accuracy: 0.2653 - val_loss: 2.2706 - val_accuracy: 0.2946\n",
            "Epoch 12/50\n",
            "188/188 [==============================] - ETA: 0s - loss: 2.2768 - accuracy: 0.2890\n",
            "Epoch 00012: saving model to ../content/models/part_V3_check.hdf5\n",
            "188/188 [==============================] - 103s 546ms/step - loss: 2.2768 - accuracy: 0.2890 - val_loss: 2.1570 - val_accuracy: 0.3220\n",
            "Epoch 13/50\n",
            "188/188 [==============================] - ETA: 0s - loss: 2.2143 - accuracy: 0.3077\n",
            "Epoch 00013: saving model to ../content/models/part_V3_check.hdf5\n",
            "188/188 [==============================] - 102s 544ms/step - loss: 2.2143 - accuracy: 0.3077 - val_loss: 2.1368 - val_accuracy: 0.3282\n",
            "Epoch 14/50\n",
            "188/188 [==============================] - ETA: 0s - loss: 2.1540 - accuracy: 0.3225\n",
            "Epoch 00014: saving model to ../content/models/part_V3_check.hdf5\n",
            "188/188 [==============================] - 103s 546ms/step - loss: 2.1540 - accuracy: 0.3225 - val_loss: 2.0800 - val_accuracy: 0.3438\n",
            "Epoch 15/50\n",
            "188/188 [==============================] - ETA: 0s - loss: 2.1064 - accuracy: 0.3420\n",
            "Epoch 00015: saving model to ../content/models/part_V3_check.hdf5\n",
            "188/188 [==============================] - 103s 549ms/step - loss: 2.1064 - accuracy: 0.3420 - val_loss: 2.0703 - val_accuracy: 0.3514\n",
            "Epoch 16/50\n",
            "188/188 [==============================] - ETA: 0s - loss: 2.0499 - accuracy: 0.3542\n",
            "Epoch 00016: saving model to ../content/models/part_V3_check.hdf5\n",
            "188/188 [==============================] - 103s 547ms/step - loss: 2.0499 - accuracy: 0.3542 - val_loss: 1.9635 - val_accuracy: 0.3802\n",
            "Epoch 17/50\n",
            "188/188 [==============================] - ETA: 0s - loss: 1.9710 - accuracy: 0.3765\n",
            "Epoch 00017: saving model to ../content/models/part_V3_check.hdf5\n",
            "188/188 [==============================] - 103s 548ms/step - loss: 1.9710 - accuracy: 0.3765 - val_loss: 1.9449 - val_accuracy: 0.3896\n",
            "Epoch 18/50\n",
            "188/188 [==============================] - ETA: 0s - loss: 1.9059 - accuracy: 0.3981\n",
            "Epoch 00018: saving model to ../content/models/part_V3_check.hdf5\n",
            "188/188 [==============================] - 104s 553ms/step - loss: 1.9059 - accuracy: 0.3981 - val_loss: 1.9163 - val_accuracy: 0.3930\n",
            "Epoch 19/50\n",
            "188/188 [==============================] - ETA: 0s - loss: 1.8413 - accuracy: 0.4221\n",
            "Epoch 00019: saving model to ../content/models/part_V3_check.hdf5\n",
            "188/188 [==============================] - 103s 546ms/step - loss: 1.8413 - accuracy: 0.4221 - val_loss: 1.9217 - val_accuracy: 0.3948\n",
            "Epoch 20/50\n",
            "188/188 [==============================] - ETA: 0s - loss: 1.7652 - accuracy: 0.4458\n",
            "Epoch 00020: saving model to ../content/models/part_V3_check.hdf5\n",
            "188/188 [==============================] - 102s 544ms/step - loss: 1.7652 - accuracy: 0.4458 - val_loss: 1.8707 - val_accuracy: 0.4218\n",
            "Epoch 21/50\n",
            "188/188 [==============================] - ETA: 0s - loss: 1.6846 - accuracy: 0.4649\n",
            "Epoch 00021: saving model to ../content/models/part_V3_check.hdf5\n",
            "188/188 [==============================] - 103s 547ms/step - loss: 1.6846 - accuracy: 0.4649 - val_loss: 1.9111 - val_accuracy: 0.3964\n",
            "Epoch 22/50\n",
            "188/188 [==============================] - ETA: 0s - loss: 1.6209 - accuracy: 0.4907\n",
            "Epoch 00022: saving model to ../content/models/part_V3_check.hdf5\n",
            "188/188 [==============================] - 102s 543ms/step - loss: 1.6209 - accuracy: 0.4907 - val_loss: 1.8856 - val_accuracy: 0.4230\n",
            "Epoch 23/50\n",
            "188/188 [==============================] - ETA: 0s - loss: 1.5317 - accuracy: 0.5196\n",
            "Epoch 00023: saving model to ../content/models/part_V3_check.hdf5\n",
            "188/188 [==============================] - 103s 548ms/step - loss: 1.5317 - accuracy: 0.5196 - val_loss: 1.8885 - val_accuracy: 0.4210\n",
            "Epoch 24/50\n",
            "188/188 [==============================] - ETA: 0s - loss: 1.4419 - accuracy: 0.5417\n",
            "Epoch 00024: saving model to ../content/models/part_V3_check.hdf5\n",
            "188/188 [==============================] - 104s 551ms/step - loss: 1.4419 - accuracy: 0.5417 - val_loss: 2.0704 - val_accuracy: 0.4170\n",
            "Epoch 25/50\n",
            "188/188 [==============================] - ETA: 0s - loss: 1.3624 - accuracy: 0.5688\n",
            "Epoch 00025: saving model to ../content/models/part_V3_check.hdf5\n",
            "188/188 [==============================] - 102s 540ms/step - loss: 1.3624 - accuracy: 0.5688 - val_loss: 2.0173 - val_accuracy: 0.4016\n",
            "Epoch 26/50\n",
            "188/188 [==============================] - ETA: 0s - loss: 1.2326 - accuracy: 0.6035\n",
            "Epoch 00026: saving model to ../content/models/part_V3_check.hdf5\n",
            "188/188 [==============================] - 103s 547ms/step - loss: 1.2326 - accuracy: 0.6035 - val_loss: 2.0755 - val_accuracy: 0.4014\n",
            "Epoch 27/50\n",
            "188/188 [==============================] - ETA: 0s - loss: 1.1284 - accuracy: 0.6357\n",
            "Epoch 00027: saving model to ../content/models/part_V3_check.hdf5\n",
            "188/188 [==============================] - 103s 547ms/step - loss: 1.1284 - accuracy: 0.6357 - val_loss: 2.0571 - val_accuracy: 0.4174\n",
            "Epoch 28/50\n",
            "188/188 [==============================] - ETA: 0s - loss: 1.0317 - accuracy: 0.6710\n",
            "Epoch 00028: saving model to ../content/models/part_V3_check.hdf5\n",
            "188/188 [==============================] - 103s 548ms/step - loss: 1.0317 - accuracy: 0.6710 - val_loss: 2.2188 - val_accuracy: 0.4096\n",
            "Epoch 29/50\n",
            "188/188 [==============================] - ETA: 0s - loss: 0.8913 - accuracy: 0.7141\n",
            "Epoch 00029: saving model to ../content/models/part_V3_check.hdf5\n",
            "188/188 [==============================] - 99s 529ms/step - loss: 0.8913 - accuracy: 0.7141 - val_loss: 2.3354 - val_accuracy: 0.4172\n",
            "Epoch 30/50\n",
            "188/188 [==============================] - ETA: 0s - loss: 0.7856 - accuracy: 0.7502\n",
            "Epoch 00030: saving model to ../content/models/part_V3_check.hdf5\n",
            "188/188 [==============================] - 98s 519ms/step - loss: 0.7856 - accuracy: 0.7502 - val_loss: 2.4250 - val_accuracy: 0.4088\n",
            "Epoch 31/50\n",
            "188/188 [==============================] - ETA: 0s - loss: 0.7420 - accuracy: 0.7597\n",
            "Epoch 00031: saving model to ../content/models/part_V3_check.hdf5\n",
            "188/188 [==============================] - 99s 525ms/step - loss: 0.7420 - accuracy: 0.7597 - val_loss: 2.5504 - val_accuracy: 0.3960\n",
            "Epoch 32/50\n",
            "188/188 [==============================] - ETA: 0s - loss: 0.6285 - accuracy: 0.8017\n",
            "Epoch 00032: saving model to ../content/models/part_V3_check.hdf5\n",
            "188/188 [==============================] - 100s 530ms/step - loss: 0.6285 - accuracy: 0.8017 - val_loss: 2.6580 - val_accuracy: 0.3992\n",
            "Epoch 33/50\n",
            "188/188 [==============================] - ETA: 0s - loss: 0.5386 - accuracy: 0.8303\n",
            "Epoch 00033: saving model to ../content/models/part_V3_check.hdf5\n",
            "188/188 [==============================] - 100s 533ms/step - loss: 0.5386 - accuracy: 0.8303 - val_loss: 2.8351 - val_accuracy: 0.4032\n",
            "Epoch 34/50\n",
            "188/188 [==============================] - ETA: 0s - loss: 0.5118 - accuracy: 0.8355\n",
            "Epoch 00034: saving model to ../content/models/part_V3_check.hdf5\n",
            "188/188 [==============================] - 101s 539ms/step - loss: 0.5118 - accuracy: 0.8355 - val_loss: 3.0194 - val_accuracy: 0.4022\n",
            "Epoch 35/50\n",
            "188/188 [==============================] - ETA: 0s - loss: 0.4276 - accuracy: 0.8636\n",
            "Epoch 00035: saving model to ../content/models/part_V3_check.hdf5\n",
            "188/188 [==============================] - 102s 542ms/step - loss: 0.4276 - accuracy: 0.8636 - val_loss: 3.1728 - val_accuracy: 0.3908\n",
            "Epoch 36/50\n",
            "188/188 [==============================] - ETA: 0s - loss: 0.3825 - accuracy: 0.8773\n",
            "Epoch 00036: saving model to ../content/models/part_V3_check.hdf5\n",
            "188/188 [==============================] - 102s 540ms/step - loss: 0.3825 - accuracy: 0.8773 - val_loss: 3.1875 - val_accuracy: 0.3976\n",
            "Epoch 37/50\n",
            "188/188 [==============================] - ETA: 0s - loss: 0.3042 - accuracy: 0.9031\n",
            "Epoch 00037: saving model to ../content/models/part_V3_check.hdf5\n",
            "188/188 [==============================] - 102s 544ms/step - loss: 0.3042 - accuracy: 0.9031 - val_loss: 3.4439 - val_accuracy: 0.3974\n",
            "Epoch 38/50\n",
            "188/188 [==============================] - ETA: 0s - loss: 0.2756 - accuracy: 0.9121\n",
            "Epoch 00038: saving model to ../content/models/part_V3_check.hdf5\n",
            "188/188 [==============================] - 103s 546ms/step - loss: 0.2756 - accuracy: 0.9121 - val_loss: 3.2066 - val_accuracy: 0.3850\n",
            "Epoch 39/50\n",
            "188/188 [==============================] - ETA: 0s - loss: 0.2508 - accuracy: 0.9197\n",
            "Epoch 00039: saving model to ../content/models/part_V3_check.hdf5\n",
            "188/188 [==============================] - 102s 542ms/step - loss: 0.2508 - accuracy: 0.9197 - val_loss: 3.5972 - val_accuracy: 0.4006\n",
            "Epoch 40/50\n",
            "188/188 [==============================] - ETA: 0s - loss: 0.2073 - accuracy: 0.9343\n",
            "Epoch 00040: saving model to ../content/models/part_V3_check.hdf5\n",
            "188/188 [==============================] - 99s 528ms/step - loss: 0.2073 - accuracy: 0.9343 - val_loss: 4.0027 - val_accuracy: 0.4090\n",
            "Epoch 41/50\n",
            "188/188 [==============================] - ETA: 0s - loss: 0.2033 - accuracy: 0.9358\n",
            "Epoch 00041: saving model to ../content/models/part_V3_check.hdf5\n",
            "188/188 [==============================] - 96s 513ms/step - loss: 0.2033 - accuracy: 0.9358 - val_loss: 3.7416 - val_accuracy: 0.3798\n",
            "Epoch 42/50\n",
            "188/188 [==============================] - ETA: 0s - loss: 0.1718 - accuracy: 0.9465\n",
            "Epoch 00042: saving model to ../content/models/part_V3_check.hdf5\n",
            "188/188 [==============================] - 96s 510ms/step - loss: 0.1718 - accuracy: 0.9465 - val_loss: 3.6656 - val_accuracy: 0.3892\n",
            "Epoch 43/50\n",
            "188/188 [==============================] - ETA: 0s - loss: 0.1483 - accuracy: 0.9522\n",
            "Epoch 00043: saving model to ../content/models/part_V3_check.hdf5\n",
            "188/188 [==============================] - 97s 515ms/step - loss: 0.1483 - accuracy: 0.9522 - val_loss: 4.0469 - val_accuracy: 0.3964\n",
            "Epoch 44/50\n",
            "188/188 [==============================] - ETA: 0s - loss: 0.1418 - accuracy: 0.9540\n",
            "Epoch 00044: saving model to ../content/models/part_V3_check.hdf5\n",
            "188/188 [==============================] - 99s 526ms/step - loss: 0.1418 - accuracy: 0.9540 - val_loss: 3.9184 - val_accuracy: 0.4004\n",
            "Epoch 45/50\n",
            "188/188 [==============================] - ETA: 0s - loss: 0.1304 - accuracy: 0.9589\n",
            "Epoch 00045: saving model to ../content/models/part_V3_check.hdf5\n",
            "188/188 [==============================] - 100s 534ms/step - loss: 0.1304 - accuracy: 0.9589 - val_loss: 3.9299 - val_accuracy: 0.4016\n",
            "Epoch 46/50\n",
            "188/188 [==============================] - ETA: 0s - loss: 0.1066 - accuracy: 0.9655\n",
            "Epoch 00046: saving model to ../content/models/part_V3_check.hdf5\n",
            "188/188 [==============================] - 99s 529ms/step - loss: 0.1066 - accuracy: 0.9655 - val_loss: 4.3999 - val_accuracy: 0.3972\n",
            "Epoch 47/50\n",
            "188/188 [==============================] - ETA: 0s - loss: 0.0988 - accuracy: 0.9673\n",
            "Epoch 00047: saving model to ../content/models/part_V3_check.hdf5\n",
            "188/188 [==============================] - 101s 538ms/step - loss: 0.0988 - accuracy: 0.9673 - val_loss: 4.6329 - val_accuracy: 0.3954\n",
            "Epoch 48/50\n",
            "188/188 [==============================] - ETA: 0s - loss: 0.0833 - accuracy: 0.9739\n",
            "Epoch 00048: saving model to ../content/models/part_V3_check.hdf5\n",
            "188/188 [==============================] - 102s 541ms/step - loss: 0.0833 - accuracy: 0.9739 - val_loss: 4.3944 - val_accuracy: 0.3966\n",
            "Epoch 49/50\n",
            "188/188 [==============================] - ETA: 0s - loss: 0.0897 - accuracy: 0.9711\n",
            "Epoch 00049: saving model to ../content/models/part_V3_check.hdf5\n",
            "188/188 [==============================] - 101s 539ms/step - loss: 0.0897 - accuracy: 0.9711 - val_loss: 4.7047 - val_accuracy: 0.3936\n",
            "Epoch 50/50\n",
            "188/188 [==============================] - ETA: 0s - loss: 0.0793 - accuracy: 0.9747\n",
            "Epoch 00050: saving model to ../content/models/part_V3_check.hdf5\n",
            "188/188 [==============================] - 101s 538ms/step - loss: 0.0793 - accuracy: 0.9747 - val_loss: 4.9450 - val_accuracy: 0.3972\n"
          ],
          "name": "stdout"
        },
        {
          "output_type": "error",
          "ename": "OSError",
          "evalue": "ignored",
          "traceback": [
            "\u001b[0;31m---------------------------------------------------------------------------\u001b[0m",
            "\u001b[0;31mOSError\u001b[0m                                   Traceback (most recent call last)",
            "\u001b[0;32m<ipython-input-17-7fe3c9a8a457>\u001b[0m in \u001b[0;36m<module>\u001b[0;34m()\u001b[0m\n\u001b[1;32m      5\u001b[0m                     callbacks=[earlystopping,checkpointer])\n\u001b[1;32m      6\u001b[0m \u001b[0;34m\u001b[0m\u001b[0m\n\u001b[0;32m----> 7\u001b[0;31m \u001b[0mmodel\u001b[0m\u001b[0;34m.\u001b[0m\u001b[0msave\u001b[0m\u001b[0;34m(\u001b[0m\u001b[0;34m'../content/models/part_V3_model.hdf5'\u001b[0m\u001b[0;34m)\u001b[0m\u001b[0;34m\u001b[0m\u001b[0;34m\u001b[0m\u001b[0m\n\u001b[0m",
            "\u001b[0;32m/usr/local/lib/python3.6/dist-packages/tensorflow/python/keras/engine/training.py\u001b[0m in \u001b[0;36msave\u001b[0;34m(self, filepath, overwrite, include_optimizer, save_format, signatures, options)\u001b[0m\n\u001b[1;32m   1977\u001b[0m     \"\"\"\n\u001b[1;32m   1978\u001b[0m     save.save_model(self, filepath, overwrite, include_optimizer, save_format,\n\u001b[0;32m-> 1979\u001b[0;31m                     signatures, options)\n\u001b[0m\u001b[1;32m   1980\u001b[0m \u001b[0;34m\u001b[0m\u001b[0m\n\u001b[1;32m   1981\u001b[0m   def save_weights(self,\n",
            "\u001b[0;32m/usr/local/lib/python3.6/dist-packages/tensorflow/python/keras/saving/save.py\u001b[0m in \u001b[0;36msave_model\u001b[0;34m(model, filepath, overwrite, include_optimizer, save_format, signatures, options)\u001b[0m\n\u001b[1;32m    129\u001b[0m           'or using `save_weights`.')\n\u001b[1;32m    130\u001b[0m     hdf5_format.save_model_to_hdf5(\n\u001b[0;32m--> 131\u001b[0;31m         model, filepath, overwrite, include_optimizer)\n\u001b[0m\u001b[1;32m    132\u001b[0m   \u001b[0;32melse\u001b[0m\u001b[0;34m:\u001b[0m\u001b[0;34m\u001b[0m\u001b[0;34m\u001b[0m\u001b[0m\n\u001b[1;32m    133\u001b[0m     saved_model_save.save(model, filepath, overwrite, include_optimizer,\n",
            "\u001b[0;32m/usr/local/lib/python3.6/dist-packages/tensorflow/python/keras/saving/hdf5_format.py\u001b[0m in \u001b[0;36msave_model_to_hdf5\u001b[0;34m(model, filepath, overwrite, include_optimizer)\u001b[0m\n\u001b[1;32m    100\u001b[0m         \u001b[0;32mreturn\u001b[0m\u001b[0;34m\u001b[0m\u001b[0;34m\u001b[0m\u001b[0m\n\u001b[1;32m    101\u001b[0m \u001b[0;34m\u001b[0m\u001b[0m\n\u001b[0;32m--> 102\u001b[0;31m     \u001b[0mf\u001b[0m \u001b[0;34m=\u001b[0m \u001b[0mh5py\u001b[0m\u001b[0;34m.\u001b[0m\u001b[0mFile\u001b[0m\u001b[0;34m(\u001b[0m\u001b[0mfilepath\u001b[0m\u001b[0;34m,\u001b[0m \u001b[0mmode\u001b[0m\u001b[0;34m=\u001b[0m\u001b[0;34m'w'\u001b[0m\u001b[0;34m)\u001b[0m\u001b[0;34m\u001b[0m\u001b[0;34m\u001b[0m\u001b[0m\n\u001b[0m\u001b[1;32m    103\u001b[0m     \u001b[0mopened_new_file\u001b[0m \u001b[0;34m=\u001b[0m \u001b[0;32mTrue\u001b[0m\u001b[0;34m\u001b[0m\u001b[0;34m\u001b[0m\u001b[0m\n\u001b[1;32m    104\u001b[0m   \u001b[0;32melse\u001b[0m\u001b[0;34m:\u001b[0m\u001b[0;34m\u001b[0m\u001b[0;34m\u001b[0m\u001b[0m\n",
            "\u001b[0;32m/usr/local/lib/python3.6/dist-packages/h5py/_hl/files.py\u001b[0m in \u001b[0;36m__init__\u001b[0;34m(self, name, mode, driver, libver, userblock_size, swmr, rdcc_nslots, rdcc_nbytes, rdcc_w0, track_order, **kwds)\u001b[0m\n\u001b[1;32m    406\u001b[0m                 fid = make_fid(name, mode, userblock_size,\n\u001b[1;32m    407\u001b[0m                                \u001b[0mfapl\u001b[0m\u001b[0;34m,\u001b[0m \u001b[0mfcpl\u001b[0m\u001b[0;34m=\u001b[0m\u001b[0mmake_fcpl\u001b[0m\u001b[0;34m(\u001b[0m\u001b[0mtrack_order\u001b[0m\u001b[0;34m=\u001b[0m\u001b[0mtrack_order\u001b[0m\u001b[0;34m)\u001b[0m\u001b[0;34m,\u001b[0m\u001b[0;34m\u001b[0m\u001b[0;34m\u001b[0m\u001b[0m\n\u001b[0;32m--> 408\u001b[0;31m                                swmr=swmr)\n\u001b[0m\u001b[1;32m    409\u001b[0m \u001b[0;34m\u001b[0m\u001b[0m\n\u001b[1;32m    410\u001b[0m             \u001b[0;32mif\u001b[0m \u001b[0misinstance\u001b[0m\u001b[0;34m(\u001b[0m\u001b[0mlibver\u001b[0m\u001b[0;34m,\u001b[0m \u001b[0mtuple\u001b[0m\u001b[0;34m)\u001b[0m\u001b[0;34m:\u001b[0m\u001b[0;34m\u001b[0m\u001b[0;34m\u001b[0m\u001b[0m\n",
            "\u001b[0;32m/usr/local/lib/python3.6/dist-packages/h5py/_hl/files.py\u001b[0m in \u001b[0;36mmake_fid\u001b[0;34m(name, mode, userblock_size, fapl, fcpl, swmr)\u001b[0m\n\u001b[1;32m    177\u001b[0m         \u001b[0mfid\u001b[0m \u001b[0;34m=\u001b[0m \u001b[0mh5f\u001b[0m\u001b[0;34m.\u001b[0m\u001b[0mcreate\u001b[0m\u001b[0;34m(\u001b[0m\u001b[0mname\u001b[0m\u001b[0;34m,\u001b[0m \u001b[0mh5f\u001b[0m\u001b[0;34m.\u001b[0m\u001b[0mACC_EXCL\u001b[0m\u001b[0;34m,\u001b[0m \u001b[0mfapl\u001b[0m\u001b[0;34m=\u001b[0m\u001b[0mfapl\u001b[0m\u001b[0;34m,\u001b[0m \u001b[0mfcpl\u001b[0m\u001b[0;34m=\u001b[0m\u001b[0mfcpl\u001b[0m\u001b[0;34m)\u001b[0m\u001b[0;34m\u001b[0m\u001b[0;34m\u001b[0m\u001b[0m\n\u001b[1;32m    178\u001b[0m     \u001b[0;32melif\u001b[0m \u001b[0mmode\u001b[0m \u001b[0;34m==\u001b[0m \u001b[0;34m'w'\u001b[0m\u001b[0;34m:\u001b[0m\u001b[0;34m\u001b[0m\u001b[0;34m\u001b[0m\u001b[0m\n\u001b[0;32m--> 179\u001b[0;31m         \u001b[0mfid\u001b[0m \u001b[0;34m=\u001b[0m \u001b[0mh5f\u001b[0m\u001b[0;34m.\u001b[0m\u001b[0mcreate\u001b[0m\u001b[0;34m(\u001b[0m\u001b[0mname\u001b[0m\u001b[0;34m,\u001b[0m \u001b[0mh5f\u001b[0m\u001b[0;34m.\u001b[0m\u001b[0mACC_TRUNC\u001b[0m\u001b[0;34m,\u001b[0m \u001b[0mfapl\u001b[0m\u001b[0;34m=\u001b[0m\u001b[0mfapl\u001b[0m\u001b[0;34m,\u001b[0m \u001b[0mfcpl\u001b[0m\u001b[0;34m=\u001b[0m\u001b[0mfcpl\u001b[0m\u001b[0;34m)\u001b[0m\u001b[0;34m\u001b[0m\u001b[0;34m\u001b[0m\u001b[0m\n\u001b[0m\u001b[1;32m    180\u001b[0m     \u001b[0;32melif\u001b[0m \u001b[0mmode\u001b[0m \u001b[0;34m==\u001b[0m \u001b[0;34m'a'\u001b[0m\u001b[0;34m:\u001b[0m\u001b[0;34m\u001b[0m\u001b[0;34m\u001b[0m\u001b[0m\n\u001b[1;32m    181\u001b[0m         \u001b[0;31m# Open in append mode (read/write).\u001b[0m\u001b[0;34m\u001b[0m\u001b[0;34m\u001b[0m\u001b[0;34m\u001b[0m\u001b[0m\n",
            "\u001b[0;32mh5py/_objects.pyx\u001b[0m in \u001b[0;36mh5py._objects.with_phil.wrapper\u001b[0;34m()\u001b[0m\n",
            "\u001b[0;32mh5py/_objects.pyx\u001b[0m in \u001b[0;36mh5py._objects.with_phil.wrapper\u001b[0;34m()\u001b[0m\n",
            "\u001b[0;32mh5py/h5f.pyx\u001b[0m in \u001b[0;36mh5py.h5f.create\u001b[0;34m()\u001b[0m\n",
            "\u001b[0;31mOSError\u001b[0m: Unable to create file (unable to open file: name = '../content/models/part_V3_model.hdf5', errno = 2, error message = 'No such file or directory', flags = 13, o_flags = 242)"
          ]
        }
      ]
    },
    {
      "cell_type": "code",
      "metadata": {
        "id": "cr9Hdb358Kza"
      },
      "source": [
        "model.save('../content/models/part_V3_model.hdf5')"
      ],
      "execution_count": 21,
      "outputs": []
    },
    {
      "cell_type": "code",
      "metadata": {
        "id": "JKXdXgNVuSJZ",
        "outputId": "1fa105c6-70af-448b-e8cf-78ef1a3ed9d2",
        "colab": {
          "base_uri": "https://localhost:8080/",
          "height": 513
        }
      },
      "source": [
        "plt.figure(figsize=(8,8))\n",
        "plt.subplot(2,1,1)\n",
        "plt.title('VGG16-Arquitecture model')\n",
        "plt.plot(history.history['accuracy'],'r')\n",
        "plt.ylabel('Accuracy')\n",
        "plt.plot(history.history['val_accuracy'],'y')\n",
        "plt.legend(['train accuracy','validation accuracy'], loc='best')\n",
        "\n",
        "\n",
        "\n",
        "plt.subplot(2,1,2)\n",
        "plt.plot(history.history['loss'],'g')\n",
        "plt.ylabel('Loss')\n",
        "plt.xlabel('Epoch')\n",
        "plt.plot(history.history['val_loss'],'b')\n",
        "plt.legend(['train loss','validation loss'], loc='best')\n",
        "\n",
        "\n",
        "plt.savefig('../content/models/graphV3.png')"
      ],
      "execution_count": 22,
      "outputs": [
        {
          "output_type": "display_data",
          "data": {
            "image/png": "[encoded data removed]",
            "text/plain": [
              "<Figure size 576x576 with 2 Axes>"
            ]
          },
          "metadata": {
            "tags": [],
            "needs_background": "light"
          }
        }
      ]
    },
    {
      "cell_type": "code",
      "metadata": {
        "id": "7LW7NI9HWsQV"
      },
      "source": [
        "from google.colab import files"
      ],
      "execution_count": 23,
      "outputs": []
    },
    {
      "cell_type": "code",
      "metadata": {
        "id": "wnmPFgHTnEcW",
        "outputId": "e29c32fe-6ded-45d7-a5b0-df790954cf1b",
        "colab": {
          "base_uri": "https://localhost:8080/",
          "height": 17
        }
      },
      "source": [
        "files.download('../content/models/graphV3.png')"
      ],
      "execution_count": 24,
      "outputs": [
        {
          "output_type": "display_data",
          "data": {
            "application/javascript": [
              "\n",
              "    async function download(id, filename, size) {\n",
              "      if (!google.colab.kernel.accessAllowed) {\n",
              "        return;\n",
              "      }\n",
              "      const div = document.createElement('div');\n",
              "      const label = document.createElement('label');\n",
              "      label.textContent = `Downloading \"${filename}\": `;\n",
              "      div.appendChild(label);\n",
              "      const progress = document.createElement('progress');\n",
              "      progress.max = size;\n",
              "      div.appendChild(progress);\n",
              "      document.body.appendChild(div);\n",
              "\n",
              "      const buffers = [];\n",
              "      let downloaded = 0;\n",
              "\n",
              "      const channel = await google.colab.kernel.comms.open(id);\n",
              "      // Send a message to notify the kernel that we're ready.\n",
              "      channel.send({})\n",
              "\n",
              "      for await (const message of channel.messages) {\n",
              "        // Send a message to notify the kernel that we're ready.\n",
              "        channel.send({})\n",
              "        if (message.buffers) {\n",
              "          for (const buffer of message.buffers) {\n",
              "            buffers.push(buffer);\n",
              "            downloaded += buffer.byteLength;\n",
              "            progress.value = downloaded;\n",
              "          }\n",
              "        }\n",
              "      }\n",
              "      const blob = new Blob(buffers, {type: 'application/binary'});\n",
              "      const a = document.createElement('a');\n",
              "      a.href = window.URL.createObjectURL(blob);\n",
              "      a.download = filename;\n",
              "      div.appendChild(a);\n",
              "      a.click();\n",
              "      div.remove();\n",
              "    }\n",
              "  "
            ],
            "text/plain": [
              "<IPython.core.display.Javascript object>"
            ]
          },
          "metadata": {
            "tags": []
          }
        },
        {
          "output_type": "display_data",
          "data": {
            "application/javascript": [
              "download(\"download_a1db9db4-7b06-4121-bea3-87d3133c8981\", \"graphV3.png\", 35587)"
            ],
            "text/plain": [
              "<IPython.core.display.Javascript object>"
            ]
          },
          "metadata": {
            "tags": []
          }
        }
      ]
    },
    {
      "cell_type": "code",
      "metadata": {
        "id": "OBxFH57onEa7"
      },
      "source": [
        "files.download('../content/models/part_V3_model.hdf5')"
      ],
      "execution_count": null,
      "outputs": []
    },
    {
      "cell_type": "code",
      "metadata": {
        "id": "gv_l5zFhnEWS"
      },
      "source": [
        ""
      ],
      "execution_count": null,
      "outputs": []
    },
    {
      "cell_type": "code",
      "metadata": {
        "id": "i_YHYiVmnELZ"
      },
      "source": [
        ""
      ],
      "execution_count": null,
      "outputs": []
    },
    {
      "cell_type": "code",
      "metadata": {
        "id": "kPRL9bxPnEJ1"
      },
      "source": [
        ""
      ],
      "execution_count": null,
      "outputs": []
    }
  ]
}