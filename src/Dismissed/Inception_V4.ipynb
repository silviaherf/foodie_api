{
  "nbformat": 4,
  "nbformat_minor": 0,
  "metadata": {
    "accelerator": "GPU",
    "colab": {
      "name": "Inception_V4.ipynb",
      "provenance": [],
      "collapsed_sections": [],
      "toc_visible": true,
      "include_colab_link": true
    },
    "kernelspec": {
      "display_name": "Python 3",
      "name": "python3"
    }
  },
  "cells": [
    {
      "cell_type": "markdown",
      "metadata": {
        "id": "view-in-github",
        "colab_type": "text"
      },
      "source": [
        "<a href=\"https://colab.research.google.com/github/silviaherf/foodie_api/blob/main/src/Dismissed/Inception_V4.ipynb\" target=\"_parent\"><img src=\"https://colab.research.google.com/assets/colab-badge.svg\" alt=\"Open In Colab\"/></a>"
      ]
    },
    {
      "cell_type": "markdown",
      "metadata": {
        "id": "MhoQ0WE77laV"
      },
      "source": [
        "##### Copyright 2020 The TensorFlow Authors."
      ]
    },
    {
      "cell_type": "code",
      "metadata": {
        "cellView": "form",
        "id": "_ckMIh7O7s6D"
      },
      "source": [
        "#@title Licensed under the Apache License, Version 2.0 (the \"License\");\n",
        "# you may not use this file except in compliance with the License.\n",
        "# You may obtain a copy of the License at\n",
        "#\n",
        "# https://www.apache.org/licenses/LICENSE-2.0\n",
        "#\n",
        "# Unless required by applicable law or agreed to in writing, software\n",
        "# distributed under the License is distributed on an \"AS IS\" BASIS,\n",
        "# WITHOUT WARRANTIES OR CONDITIONS OF ANY KIND, either express or implied.\n",
        "# See the License for the specific language governing permissions and\n",
        "# limitations under the License."
      ],
      "execution_count": 1,
      "outputs": []
    },
    {
      "cell_type": "markdown",
      "metadata": {
        "id": "jYysdyb-CaWM"
      },
      "source": [
        "# Train and serve a TensorFlow model with TensorFlow Serving"
      ]
    },
    {
      "cell_type": "markdown",
      "metadata": {
        "id": "E6FwTNtl3S4v"
      },
      "source": [
        "**Warning: This notebook is designed to be run in a Google Colab only**.  It installs packages on the system and requires root access.  If you want to run it in a local Jupyter notebook, please proceed with caution.\n",
        "\n",
        "Note: You can run this example right now in a Jupyter-style notebook, no setup required!  Just click \"Run in Google Colab\"\n",
        "\n",
        "<div class=\"devsite-table-wrapper\"><table class=\"tfo-notebook-buttons\" align=\"left\">\n",
        "<tr><td><a target=\"_blank\" href=\"https://www.tensorflow.org/tfx/tutorials/serving/rest_simple\">\n",
        "<img src=\"https://www.tensorflow.org/images/tf_logo_32px.png\" />View on TensorFlow.org</a></td>\n",
        "<td><a target=\"_blank\" href=\"https://colab.research.google.com/github/tensorflow/tfx/blob/master/docs/tutorials/serving/rest_simple.ipynb\">\n",
        "<img src=\"https://www.tensorflow.org/images/colab_logo_32px.png\">Run in Google Colab</a></td>\n",
        "<td><a target=\"_blank\" href=\"https://github.com/tensorflow/tfx/blob/master/docs/tutorials/serving/rest_simple.ipynb\">\n",
        "<img width=32px src=\"https://www.tensorflow.org/images/GitHub-Mark-32px.png\">View source on GitHub</a></td>\n",
        "</tr></table></div>"
      ]
    },
    {
      "cell_type": "markdown",
      "metadata": {
        "id": "FbVhjPpzn6BM"
      },
      "source": [
        "This guide trains a neural network model to classify [images of clothing, like sneakers and shirts](https://github.com/zalandoresearch/fashion-mnist), saves the trained model, and then serves it with [TensorFlow Serving](https://www.tensorflow.org/serving/).  The focus is on TensorFlow Serving, rather than the modeling and training in TensorFlow, so for a complete example which focuses on the modeling and training see the [Basic Classification example](https://github.com/tensorflow/docs/blob/master/site/en/r1/tutorials/keras/basic_classification.ipynb).\n",
        "\n",
        "This guide uses [tf.keras](https://github.com/tensorflow/docs/blob/master/site/en/r1/guide/keras.ipynb), a high-level API to build and train models in TensorFlow."
      ]
    },
    {
      "cell_type": "code",
      "metadata": {
        "id": "FWkuJabJSKGB"
      },
      "source": [
        "import sys\n",
        "\n",
        "# Confirm that we're using Python 3\n",
        "assert sys.version_info.major is 3, 'Oops, not running Python 3. Use Runtime > Change runtime type'"
      ],
      "execution_count": 2,
      "outputs": []
    },
    {
      "cell_type": "code",
      "metadata": {
        "id": "P7jbH5xyCqLE",
        "outputId": "db6b06b0-c5df-463d-f0df-7b80bba5ecbe",
        "colab": {
          "base_uri": "https://localhost:8080/",
          "height": 51
        }
      },
      "source": [
        "# TensorFlow and tf.keras\n",
        "print(\"Installing dependencies for Colab environment\")\n",
        "!pip install -Uq grpcio==1.26.0\n"
      ],
      "execution_count": 3,
      "outputs": [
        {
          "output_type": "stream",
          "text": [
            "Installing dependencies for Colab environment\n",
            "\u001b[K     |████████████████████████████████| 2.4MB 6.5MB/s \n",
            "\u001b[?25h"
          ],
          "name": "stdout"
        }
      ]
    },
    {
      "cell_type": "code",
      "metadata": {
        "id": "dzLKpmZICaWN",
        "outputId": "24d6fbc6-6b64-4646-bc13-f2614522c166",
        "colab": {
          "base_uri": "https://localhost:8080/",
          "height": 34
        }
      },
      "source": [
        "import cv2\n",
        "import glob\n",
        "import os\n",
        "import random\n",
        "import pandas as pd\n",
        "import seaborn as sns\n",
        "from google.colab import files\n",
        "from shutil import copy\n",
        "from shutil import copytree, rmtree\n",
        "import tensorflow as tf\n",
        "from keras.preprocessing.image import ImageDataGenerator\n",
        "from tensorflow.keras import Input\n",
        "import matplotlib.pyplot as plt\n",
        "from PIL import Image\n",
        "import numpy as np\n",
        "from sklearn.model_selection import train_test_split\n",
        "import tensorflow as tf\n",
        "from keras.losses import categorical_crossentropy\n",
        "from tensorflow.keras.regularizers import l2\n",
        "from tensorflow.keras.models import Sequential\n",
        "from tensorflow.keras.layers import Dense\n",
        "from tensorflow.keras.layers import Flatten\n",
        "from tensorflow.keras.layers import Dropout\n",
        "from tensorflow.keras.layers import Conv2D, MaxPooling2D\n",
        "from tensorflow.keras.optimizers import Adam,Adadelta,SGD\n",
        "from tensorflow.keras.backend import mean\n",
        "from tensorflow.keras.losses import mse\n",
        "from tensorflow.keras.callbacks import EarlyStopping, ModelCheckpoint, LearningRateScheduler \n",
        "from tensorflow.keras.applications.inception_v3 import preprocess_input, InceptionV3\n",
        "from tensorflow.keras.layers import GlobalAveragePooling2D\n",
        "from tensorflow.keras.models import Model\n",
        "from zipfile import ZipFile \n",
        "from sklearn.metrics import confusion_matrix\n",
        "\n",
        "print('TensorFlow version: {}'.format(tf.__version__))"
      ],
      "execution_count": 4,
      "outputs": [
        {
          "output_type": "stream",
          "text": [
            "TensorFlow version: 2.3.0\n"
          ],
          "name": "stdout"
        }
      ]
    },
    {
      "cell_type": "markdown",
      "metadata": {
        "id": "5jAk1ZXqTJqN"
      },
      "source": [
        "## Create your model"
      ]
    },
    {
      "cell_type": "code",
      "metadata": {
        "id": "ORJkMPl8C6y7",
        "outputId": "be71aad7-7f8d-449e-a491-6a4700bac876",
        "colab": {
          "base_uri": "https://localhost:8080/",
          "height": 34
        }
      },
      "source": [
        "from google.colab import drive\n",
        "\n",
        "drive.mount('/content/drive')"
      ],
      "execution_count": 5,
      "outputs": [
        {
          "output_type": "stream",
          "text": [
            "Mounted at /content/drive\n"
          ],
          "name": "stdout"
        }
      ]
    },
    {
      "cell_type": "code",
      "metadata": {
        "id": "A8X9cyR8FUX-"
      },
      "source": [
        "file_name = '/content/drive/My Drive/foodie API/food.zip'"
      ],
      "execution_count": 6,
      "outputs": []
    },
    {
      "cell_type": "code",
      "metadata": {
        "id": "8Ixv6Ba0iyv7"
      },
      "source": [
        "names=[\n",
        " 'tacos',\n",
        " 'pizza',\n",
        " 'hamburger',\n",
        " 'spaghetti_bolognese',\n",
        " 'sushi'\n",
        "]"
      ],
      "execution_count": 7,
      "outputs": []
    },
    {
      "cell_type": "code",
      "metadata": {
        "id": "KUaKp6Tinsp_"
      },
      "source": [
        "from zipfile import ZipFile \n",
        "\n",
        "archive = ZipFile(file_name)\n",
        "\n",
        "for file in archive.namelist():\n",
        "  \n",
        "  if file.split('/')[1] in names[0:20]:\n",
        "      archive.extract(file)"
      ],
      "execution_count": 8,
      "outputs": []
    },
    {
      "cell_type": "code",
      "metadata": {
        "id": "kaORjlzWmYKl"
      },
      "source": [
        "train_datagen = ImageDataGenerator(\n",
        "        rescale=1. / 255,\n",
        "        rotation_range=40,\n",
        "        width_shift_range=0.2,\n",
        "        height_shift_range=0.2,\n",
        "        shear_range=0.2,\n",
        "        zoom_range=0.2,\n",
        "        horizontal_flip=True)"
      ],
      "execution_count": 9,
      "outputs": []
    },
    {
      "cell_type": "code",
      "metadata": {
        "id": "ExfRC_n9mYQ_"
      },
      "source": [
        "test_datagen = ImageDataGenerator(rescale=1. / 255)"
      ],
      "execution_count": 10,
      "outputs": []
    },
    {
      "cell_type": "code",
      "metadata": {
        "id": "6mrQkp5GmYTW",
        "outputId": "8ff9050c-2586-4fce-8195-248f70c7f952",
        "colab": {
          "base_uri": "https://localhost:8080/",
          "height": 34
        }
      },
      "source": [
        "train_generator = train_datagen.flow_from_directory(\n",
        "    '/content/train',\n",
        "    target_size=(75,75),\n",
        "    batch_size=80,\n",
        "    class_mode='categorical',\n",
        "    color_mode='rgb')"
      ],
      "execution_count": 11,
      "outputs": [
        {
          "output_type": "stream",
          "text": [
            "Found 3750 images belonging to 5 classes.\n"
          ],
          "name": "stdout"
        }
      ]
    },
    {
      "cell_type": "code",
      "metadata": {
        "id": "3VieON_GmYXv",
        "outputId": "47396a11-3cff-447c-afd5-c8e1fb7dda57",
        "colab": {
          "base_uri": "https://localhost:8080/",
          "height": 34
        }
      },
      "source": [
        "test_generator = test_datagen.flow_from_directory(\n",
        "    '/content/test',\n",
        "    target_size=(75,75),\n",
        "    batch_size=80,\n",
        "    class_mode='categorical',\n",
        "    color_mode='rgb')"
      ],
      "execution_count": 12,
      "outputs": [
        {
          "output_type": "stream",
          "text": [
            "Found 1250 images belonging to 5 classes.\n"
          ],
          "name": "stdout"
        }
      ]
    },
    {
      "cell_type": "code",
      "metadata": {
        "id": "zdJPmouQnEBn"
      },
      "source": [
        ""
      ],
      "execution_count": 12,
      "outputs": []
    },
    {
      "cell_type": "code",
      "metadata": {
        "id": "TBAQcF-18Mka"
      },
      "source": [
        "os.mkdir('../content/models/')"
      ],
      "execution_count": 13,
      "outputs": []
    },
    {
      "cell_type": "markdown",
      "metadata": {
        "id": "toi-X5LnnVbi"
      },
      "source": [
        "We define our net topology\n"
      ]
    },
    {
      "cell_type": "code",
      "metadata": {
        "id": "JvHDiSDHnEHG"
      },
      "source": [
        "epocas=50\n",
        "n_classes=len(train_generator.class_indices)\n",
        "#opt = tf.keras.optimizers.Adam(learning_rate=0.1)\n",
        "#optimizer = tf.train.AdamOptimizer(0.001)\n",
        "opt = SGD(lr=1e-2, momentum=0.9, decay=1e-2 / epocas)\n",
        "loss=\"categorical_crossentropy\"\n",
        "optimizers=[Adam(),Adadelta(),SGD(learning_rate=1)]"
      ],
      "execution_count": 14,
      "outputs": []
    },
    {
      "cell_type": "code",
      "metadata": {
        "id": "Qa6z_kyQnENj",
        "outputId": "2819fa92-65f5-42a8-e7e5-cfb49238d10e",
        "colab": {
          "base_uri": "https://localhost:8080/",
          "height": 71
        }
      },
      "source": [
        "inception=InceptionV3(\n",
        "    include_top=False,\n",
        "    weights=\"imagenet\",\n",
        "    input_shape=(75,75,3),\n",
        "    pooling=None,\n",
        "    classes=n_classes,\n",
        "    classifier_activation=\"softmax\",\n",
        ")\n"
      ],
      "execution_count": 15,
      "outputs": [
        {
          "output_type": "stream",
          "text": [
            "Downloading data from https://storage.googleapis.com/tensorflow/keras-applications/inception_v3/inception_v3_weights_tf_dim_ordering_tf_kernels_notop.h5\n",
            "87916544/87910968 [==============================] - 2s 0us/step\n"
          ],
          "name": "stdout"
        }
      ]
    },
    {
      "cell_type": "code",
      "metadata": {
        "id": "MX8RPn6o-Cyn"
      },
      "source": [
        "x = inception.output\n",
        "x = GlobalAveragePooling2D()(x)\n",
        "x = Dense(128,activation='relu')(x)\n",
        "x = Dropout(0.6)(x)"
      ],
      "execution_count": 16,
      "outputs": []
    },
    {
      "cell_type": "code",
      "metadata": {
        "id": "dJR2_Ltg-Dft"
      },
      "source": [
        "predictions = Dense(n_classes,kernel_regularizer=l2(0.005), activation='softmax')(x)\n",
        "\n",
        "model = Model(inputs=inception.input, outputs=predictions)"
      ],
      "execution_count": 17,
      "outputs": []
    },
    {
      "cell_type": "code",
      "metadata": {
        "id": "cs1i3LXN-FIB"
      },
      "source": [
        "model.compile(optimizer=opt, loss=loss, metrics=['accuracy'])"
      ],
      "execution_count": 18,
      "outputs": []
    },
    {
      "cell_type": "code",
      "metadata": {
        "id": "ueyi7N8_-G2W"
      },
      "source": [
        "earlystopping = EarlyStopping(monitor='val_loss', patience=5, mode='min', verbose=1)\n",
        "\n",
        "checkpointer = ModelCheckpoint(filepath='../content/models/InceptionV2_check.hdf5', verbose=1, save_best_only=True)"
      ],
      "execution_count": 19,
      "outputs": []
    },
    {
      "cell_type": "code",
      "metadata": {
        "id": "EPcsLEJlnEYC",
        "outputId": "56e973fc-2d40-42a0-96dd-59287ce53298",
        "colab": {
          "base_uri": "https://localhost:8080/",
          "height": 1000
        }
      },
      "source": [
        "history = model.fit(train_generator,\n",
        "                    validation_data=test_generator,\n",
        "                    epochs=epocas,\n",
        "                    verbose=1,\n",
        "                    callbacks=[earlystopping,checkpointer])\n",
        "\n"
      ],
      "execution_count": 20,
      "outputs": [
        {
          "output_type": "stream",
          "text": [
            "Epoch 1/50\n",
            "47/47 [==============================] - ETA: 0s - loss: 1.7176 - accuracy: 0.2333\n",
            "Epoch 00001: val_loss improved from inf to 79.90744, saving model to ../content/models/InceptionV2_check.hdf5\n",
            "47/47 [==============================] - 26s 562ms/step - loss: 1.7176 - accuracy: 0.2333 - val_loss: 79.9074 - val_accuracy: 0.2000\n",
            "Epoch 2/50\n",
            "47/47 [==============================] - ETA: 0s - loss: 1.5561 - accuracy: 0.3301\n",
            "Epoch 00002: val_loss improved from 79.90744 to 1.50222, saving model to ../content/models/InceptionV2_check.hdf5\n",
            "47/47 [==============================] - 24s 512ms/step - loss: 1.5561 - accuracy: 0.3301 - val_loss: 1.5022 - val_accuracy: 0.4072\n",
            "Epoch 3/50\n",
            "47/47 [==============================] - ETA: 0s - loss: 1.3354 - accuracy: 0.4592\n",
            "Epoch 00003: val_loss did not improve from 1.50222\n",
            "47/47 [==============================] - 23s 497ms/step - loss: 1.3354 - accuracy: 0.4592 - val_loss: 1.7128 - val_accuracy: 0.3424\n",
            "Epoch 4/50\n",
            "47/47 [==============================] - ETA: 0s - loss: 1.1638 - accuracy: 0.5629\n",
            "Epoch 00004: val_loss did not improve from 1.50222\n",
            "47/47 [==============================] - 23s 499ms/step - loss: 1.1638 - accuracy: 0.5629 - val_loss: 2.4583 - val_accuracy: 0.3256\n",
            "Epoch 5/50\n",
            "47/47 [==============================] - ETA: 0s - loss: 1.0346 - accuracy: 0.6213\n",
            "Epoch 00005: val_loss improved from 1.50222 to 1.02576, saving model to ../content/models/InceptionV2_check.hdf5\n",
            "47/47 [==============================] - 25s 523ms/step - loss: 1.0346 - accuracy: 0.6213 - val_loss: 1.0258 - val_accuracy: 0.6232\n",
            "Epoch 6/50\n",
            "47/47 [==============================] - ETA: 0s - loss: 0.9142 - accuracy: 0.6805\n",
            "Epoch 00006: val_loss did not improve from 1.02576\n",
            "47/47 [==============================] - 23s 499ms/step - loss: 0.9142 - accuracy: 0.6805 - val_loss: 1.2646 - val_accuracy: 0.5288\n",
            "Epoch 7/50\n",
            "47/47 [==============================] - ETA: 0s - loss: 0.8539 - accuracy: 0.7083\n",
            "Epoch 00007: val_loss did not improve from 1.02576\n",
            "47/47 [==============================] - 23s 494ms/step - loss: 0.8539 - accuracy: 0.7083 - val_loss: 1.0876 - val_accuracy: 0.6632\n",
            "Epoch 8/50\n",
            "47/47 [==============================] - ETA: 0s - loss: 0.7815 - accuracy: 0.7472\n",
            "Epoch 00008: val_loss did not improve from 1.02576\n",
            "47/47 [==============================] - 23s 490ms/step - loss: 0.7815 - accuracy: 0.7472 - val_loss: 1.1104 - val_accuracy: 0.7160\n",
            "Epoch 9/50\n",
            "47/47 [==============================] - ETA: 0s - loss: 0.7130 - accuracy: 0.7707\n",
            "Epoch 00009: val_loss improved from 1.02576 to 0.70344, saving model to ../content/models/InceptionV2_check.hdf5\n",
            "47/47 [==============================] - 24s 518ms/step - loss: 0.7130 - accuracy: 0.7707 - val_loss: 0.7034 - val_accuracy: 0.7648\n",
            "Epoch 10/50\n",
            "47/47 [==============================] - ETA: 0s - loss: 0.6651 - accuracy: 0.7888\n",
            "Epoch 00010: val_loss did not improve from 0.70344\n",
            "47/47 [==============================] - 23s 489ms/step - loss: 0.6651 - accuracy: 0.7888 - val_loss: 0.7414 - val_accuracy: 0.7648\n",
            "Epoch 11/50\n",
            "47/47 [==============================] - ETA: 0s - loss: 0.6065 - accuracy: 0.8101\n",
            "Epoch 00011: val_loss improved from 0.70344 to 0.61675, saving model to ../content/models/InceptionV2_check.hdf5\n",
            "47/47 [==============================] - 24s 510ms/step - loss: 0.6065 - accuracy: 0.8101 - val_loss: 0.6167 - val_accuracy: 0.8064\n",
            "Epoch 12/50\n",
            "47/47 [==============================] - ETA: 0s - loss: 0.5755 - accuracy: 0.8184\n",
            "Epoch 00012: val_loss improved from 0.61675 to 0.61568, saving model to ../content/models/InceptionV2_check.hdf5\n",
            "47/47 [==============================] - 24s 516ms/step - loss: 0.5755 - accuracy: 0.8184 - val_loss: 0.6157 - val_accuracy: 0.7944\n",
            "Epoch 13/50\n",
            "47/47 [==============================] - ETA: 0s - loss: 0.5585 - accuracy: 0.8275\n",
            "Epoch 00013: val_loss improved from 0.61568 to 0.54268, saving model to ../content/models/InceptionV2_check.hdf5\n",
            "47/47 [==============================] - 24s 506ms/step - loss: 0.5585 - accuracy: 0.8275 - val_loss: 0.5427 - val_accuracy: 0.8232\n",
            "Epoch 14/50\n",
            "47/47 [==============================] - ETA: 0s - loss: 0.5078 - accuracy: 0.8451\n",
            "Epoch 00014: val_loss did not improve from 0.54268\n",
            "47/47 [==============================] - 23s 491ms/step - loss: 0.5078 - accuracy: 0.8451 - val_loss: 0.7067 - val_accuracy: 0.7584\n",
            "Epoch 15/50\n",
            "47/47 [==============================] - ETA: 0s - loss: 0.5066 - accuracy: 0.8389\n",
            "Epoch 00015: val_loss did not improve from 0.54268\n",
            "47/47 [==============================] - 23s 487ms/step - loss: 0.5066 - accuracy: 0.8389 - val_loss: 0.7916 - val_accuracy: 0.7384\n",
            "Epoch 16/50\n",
            "47/47 [==============================] - ETA: 0s - loss: 0.4791 - accuracy: 0.8493\n",
            "Epoch 00016: val_loss did not improve from 0.54268\n",
            "47/47 [==============================] - 24s 502ms/step - loss: 0.4791 - accuracy: 0.8493 - val_loss: 0.9826 - val_accuracy: 0.6592\n",
            "Epoch 17/50\n",
            "47/47 [==============================] - ETA: 0s - loss: 0.4542 - accuracy: 0.8597\n",
            "Epoch 00017: val_loss did not improve from 0.54268\n",
            "47/47 [==============================] - 23s 493ms/step - loss: 0.4542 - accuracy: 0.8597 - val_loss: 0.7805 - val_accuracy: 0.7384\n",
            "Epoch 18/50\n",
            "47/47 [==============================] - ETA: 0s - loss: 0.4092 - accuracy: 0.8707\n",
            "Epoch 00018: val_loss did not improve from 0.54268\n",
            "47/47 [==============================] - 23s 492ms/step - loss: 0.4092 - accuracy: 0.8707 - val_loss: 0.7578 - val_accuracy: 0.7600\n",
            "Epoch 00018: early stopping\n"
          ],
          "name": "stdout"
        }
      ]
    },
    {
      "cell_type": "code",
      "metadata": {
        "id": "JKXdXgNVuSJZ",
        "outputId": "f8099784-fbf1-4a9a-ce02-09c9a91432b9",
        "colab": {
          "base_uri": "https://localhost:8080/",
          "height": 513
        }
      },
      "source": [
        "plt.figure(figsize=(8,8))\n",
        "plt.subplot(2,1,1)\n",
        "plt.title('InceptionV3 model')\n",
        "plt.plot(history.history['accuracy'],'r')\n",
        "plt.ylabel('Accuracy')\n",
        "plt.plot(history.history['val_accuracy'],'y')\n",
        "plt.legend(['train accuracy','validation accuracy'], loc='best')\n",
        "\n",
        "\n",
        "\n",
        "plt.subplot(2,1,2)\n",
        "plt.plot(history.history['loss'],'g')\n",
        "plt.ylabel('Loss')\n",
        "plt.xlabel('Epoch')\n",
        "plt.plot(history.history['val_loss'],'b')\n",
        "plt.legend(['train loss','validation loss'], loc='best')\n",
        "\n",
        "\n",
        "plt.savefig('../content/models/InceptionV2.png')"
      ],
      "execution_count": 21,
      "outputs": [
        {
          "output_type": "display_data",
          "data": {
            "image/png": "[encoded data removed]",
            "text/plain": [
              "<Figure size 576x576 with 2 Axes>"
            ]
          },
          "metadata": {
            "tags": [],
            "needs_background": "light"
          }
        }
      ]
    },
    {
      "cell_type": "code",
      "metadata": {
        "id": "gId_lPGbXMfa"
      },
      "source": [
        "model.save('../content/models/InceptionV2_model.hdf5')"
      ],
      "execution_count": 22,
      "outputs": []
    },
    {
      "cell_type": "code",
      "metadata": {
        "id": "wnmPFgHTnEcW",
        "outputId": "b2390c69-8e1a-4d0e-dd19-97153a0a3055",
        "colab": {
          "base_uri": "https://localhost:8080/",
          "height": 17
        }
      },
      "source": [
        "files.download('../content/models/InceptionV2.png')"
      ],
      "execution_count": 23,
      "outputs": [
        {
          "output_type": "display_data",
          "data": {
            "application/javascript": [
              "\n",
              "    async function download(id, filename, size) {\n",
              "      if (!google.colab.kernel.accessAllowed) {\n",
              "        return;\n",
              "      }\n",
              "      const div = document.createElement('div');\n",
              "      const label = document.createElement('label');\n",
              "      label.textContent = `Downloading \"${filename}\": `;\n",
              "      div.appendChild(label);\n",
              "      const progress = document.createElement('progress');\n",
              "      progress.max = size;\n",
              "      div.appendChild(progress);\n",
              "      document.body.appendChild(div);\n",
              "\n",
              "      const buffers = [];\n",
              "      let downloaded = 0;\n",
              "\n",
              "      const channel = await google.colab.kernel.comms.open(id);\n",
              "      // Send a message to notify the kernel that we're ready.\n",
              "      channel.send({})\n",
              "\n",
              "      for await (const message of channel.messages) {\n",
              "        // Send a message to notify the kernel that we're ready.\n",
              "        channel.send({})\n",
              "        if (message.buffers) {\n",
              "          for (const buffer of message.buffers) {\n",
              "            buffers.push(buffer);\n",
              "            downloaded += buffer.byteLength;\n",
              "            progress.value = downloaded;\n",
              "          }\n",
              "        }\n",
              "      }\n",
              "      const blob = new Blob(buffers, {type: 'application/binary'});\n",
              "      const a = document.createElement('a');\n",
              "      a.href = window.URL.createObjectURL(blob);\n",
              "      a.download = filename;\n",
              "      div.appendChild(a);\n",
              "      a.click();\n",
              "      div.remove();\n",
              "    }\n",
              "  "
            ],
            "text/plain": [
              "<IPython.core.display.Javascript object>"
            ]
          },
          "metadata": {
            "tags": []
          }
        },
        {
          "output_type": "display_data",
          "data": {
            "application/javascript": [
              "download(\"download_2a90054f-882f-4fd2-8637-d6d653137405\", \"InceptionV2.png\", 34774)"
            ],
            "text/plain": [
              "<IPython.core.display.Javascript object>"
            ]
          },
          "metadata": {
            "tags": []
          }
        }
      ]
    },
    {
      "cell_type": "code",
      "metadata": {
        "id": "YkHm3uAknEfy",
        "outputId": "d37d5d79-9825-4f0d-eb73-a836fdce25c6",
        "colab": {
          "base_uri": "https://localhost:8080/",
          "height": 17
        }
      },
      "source": [
        "files.download('../content/models/InceptionV2_check.hdf5')"
      ],
      "execution_count": 24,
      "outputs": [
        {
          "output_type": "display_data",
          "data": {
            "application/javascript": [
              "\n",
              "    async function download(id, filename, size) {\n",
              "      if (!google.colab.kernel.accessAllowed) {\n",
              "        return;\n",
              "      }\n",
              "      const div = document.createElement('div');\n",
              "      const label = document.createElement('label');\n",
              "      label.textContent = `Downloading \"${filename}\": `;\n",
              "      div.appendChild(label);\n",
              "      const progress = document.createElement('progress');\n",
              "      progress.max = size;\n",
              "      div.appendChild(progress);\n",
              "      document.body.appendChild(div);\n",
              "\n",
              "      const buffers = [];\n",
              "      let downloaded = 0;\n",
              "\n",
              "      const channel = await google.colab.kernel.comms.open(id);\n",
              "      // Send a message to notify the kernel that we're ready.\n",
              "      channel.send({})\n",
              "\n",
              "      for await (const message of channel.messages) {\n",
              "        // Send a message to notify the kernel that we're ready.\n",
              "        channel.send({})\n",
              "        if (message.buffers) {\n",
              "          for (const buffer of message.buffers) {\n",
              "            buffers.push(buffer);\n",
              "            downloaded += buffer.byteLength;\n",
              "            progress.value = downloaded;\n",
              "          }\n",
              "        }\n",
              "      }\n",
              "      const blob = new Blob(buffers, {type: 'application/binary'});\n",
              "      const a = document.createElement('a');\n",
              "      a.href = window.URL.createObjectURL(blob);\n",
              "      a.download = filename;\n",
              "      div.appendChild(a);\n",
              "      a.click();\n",
              "      div.remove();\n",
              "    }\n",
              "  "
            ],
            "text/plain": [
              "<IPython.core.display.Javascript object>"
            ]
          },
          "metadata": {
            "tags": []
          }
        },
        {
          "output_type": "display_data",
          "data": {
            "application/javascript": [
              "download(\"download_2d24fdc8-6ba1-4dd9-aad5-2d38490c403f\", \"InceptionV2_check.hdf5\", 177721480)"
            ],
            "text/plain": [
              "<IPython.core.display.Javascript object>"
            ]
          },
          "metadata": {
            "tags": []
          }
        }
      ]
    },
    {
      "cell_type": "code",
      "metadata": {
        "id": "OBxFH57onEa7",
        "outputId": "f1642c11-62c2-440d-d28f-e122fee0728b",
        "colab": {
          "base_uri": "https://localhost:8080/",
          "height": 17
        }
      },
      "source": [
        "files.download('../content/models/InceptionV2_model.hdf5')"
      ],
      "execution_count": 25,
      "outputs": [
        {
          "output_type": "display_data",
          "data": {
            "application/javascript": [
              "\n",
              "    async function download(id, filename, size) {\n",
              "      if (!google.colab.kernel.accessAllowed) {\n",
              "        return;\n",
              "      }\n",
              "      const div = document.createElement('div');\n",
              "      const label = document.createElement('label');\n",
              "      label.textContent = `Downloading \"${filename}\": `;\n",
              "      div.appendChild(label);\n",
              "      const progress = document.createElement('progress');\n",
              "      progress.max = size;\n",
              "      div.appendChild(progress);\n",
              "      document.body.appendChild(div);\n",
              "\n",
              "      const buffers = [];\n",
              "      let downloaded = 0;\n",
              "\n",
              "      const channel = await google.colab.kernel.comms.open(id);\n",
              "      // Send a message to notify the kernel that we're ready.\n",
              "      channel.send({})\n",
              "\n",
              "      for await (const message of channel.messages) {\n",
              "        // Send a message to notify the kernel that we're ready.\n",
              "        channel.send({})\n",
              "        if (message.buffers) {\n",
              "          for (const buffer of message.buffers) {\n",
              "            buffers.push(buffer);\n",
              "            downloaded += buffer.byteLength;\n",
              "            progress.value = downloaded;\n",
              "          }\n",
              "        }\n",
              "      }\n",
              "      const blob = new Blob(buffers, {type: 'application/binary'});\n",
              "      const a = document.createElement('a');\n",
              "      a.href = window.URL.createObjectURL(blob);\n",
              "      a.download = filename;\n",
              "      div.appendChild(a);\n",
              "      a.click();\n",
              "      div.remove();\n",
              "    }\n",
              "  "
            ],
            "text/plain": [
              "<IPython.core.display.Javascript object>"
            ]
          },
          "metadata": {
            "tags": []
          }
        },
        {
          "output_type": "display_data",
          "data": {
            "application/javascript": [
              "download(\"download_f97d1299-8021-447e-8b2f-bb8a2856ebb8\", \"InceptionV2_model.hdf5\", 177721480)"
            ],
            "text/plain": [
              "<IPython.core.display.Javascript object>"
            ]
          },
          "metadata": {
            "tags": []
          }
        }
      ]
    },
    {
      "cell_type": "code",
      "metadata": {
        "id": "gv_l5zFhnEWS"
      },
      "source": [
        "y_pred=model.predict(test_generator)"
      ],
      "execution_count": 26,
      "outputs": []
    },
    {
      "cell_type": "code",
      "metadata": {
        "id": "i_YHYiVmnELZ"
      },
      "source": [
        "y_pred = np.argmax(y_pred, axis=1)"
      ],
      "execution_count": 27,
      "outputs": []
    },
    {
      "cell_type": "code",
      "metadata": {
        "id": "kPRL9bxPnEJ1",
        "outputId": "fbf78b5d-5c4d-4fd3-add2-1e82d586ff4b",
        "colab": {
          "base_uri": "https://localhost:8080/",
          "height": 282
        }
      },
      "source": [
        "#Confusion Matrix \n",
        "cm=confusion_matrix(test_generator.classes, y_pred)\n",
        "sns.heatmap(cm,annot=True)"
      ],
      "execution_count": 28,
      "outputs": [
        {
          "output_type": "execute_result",
          "data": {
            "text/plain": [
              "<matplotlib.axes._subplots.AxesSubplot at 0x7fefb218a940>"
            ]
          },
          "metadata": {
            "tags": []
          },
          "execution_count": 28
        },
        {
          "output_type": "display_data",
          "data": {
            "image/png": "[encoded data removed]",
            "text/plain": [
              "<Figure size 432x288 with 2 Axes>"
            ]
          },
          "metadata": {
            "tags": [],
            "needs_background": "light"
          }
        }
      ]
    },
    {
      "cell_type": "code",
      "metadata": {
        "id": "0TmD4rQr-itz"
      },
      "source": [
        ""
      ],
      "execution_count": 28,
      "outputs": []
    }
  ]
}