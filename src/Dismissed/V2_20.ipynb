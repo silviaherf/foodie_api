{
  "nbformat": 4,
  "nbformat_minor": 0,
  "metadata": {
    "accelerator": "GPU",
    "colab": {
      "name": "V2_20.ipynb",
      "provenance": [],
      "collapsed_sections": [],
      "toc_visible": true,
      "include_colab_link": true
    },
    "kernelspec": {
      "display_name": "Python 3",
      "name": "python3"
    }
  },
  "cells": [
    {
      "cell_type": "markdown",
      "metadata": {
        "id": "view-in-github",
        "colab_type": "text"
      },
      "source": [
        "<a href=\"https://colab.research.google.com/github/silviaherf/foodie_app/blob/main/src/V2_20.ipynb\" target=\"_parent\"><img src=\"https://colab.research.google.com/assets/colab-badge.svg\" alt=\"Open In Colab\"/></a>"
      ]
    },
    {
      "cell_type": "markdown",
      "metadata": {
        "id": "MhoQ0WE77laV"
      },
      "source": [
        "##### Copyright 2020 The TensorFlow Authors."
      ]
    },
    {
      "cell_type": "code",
      "metadata": {
        "cellView": "form",
        "id": "_ckMIh7O7s6D"
      },
      "source": [
        "#@title Licensed under the Apache License, Version 2.0 (the \"License\");\n",
        "# you may not use this file except in compliance with the License.\n",
        "# You may obtain a copy of the License at\n",
        "#\n",
        "# https://www.apache.org/licenses/LICENSE-2.0\n",
        "#\n",
        "# Unless required by applicable law or agreed to in writing, software\n",
        "# distributed under the License is distributed on an \"AS IS\" BASIS,\n",
        "# WITHOUT WARRANTIES OR CONDITIONS OF ANY KIND, either express or implied.\n",
        "# See the License for the specific language governing permissions and\n",
        "# limitations under the License."
      ],
      "execution_count": 1,
      "outputs": []
    },
    {
      "cell_type": "markdown",
      "metadata": {
        "id": "jYysdyb-CaWM"
      },
      "source": [
        "# Train and serve a TensorFlow model with TensorFlow Serving"
      ]
    },
    {
      "cell_type": "markdown",
      "metadata": {
        "id": "E6FwTNtl3S4v"
      },
      "source": [
        "**Warning: This notebook is designed to be run in a Google Colab only**.  It installs packages on the system and requires root access.  If you want to run it in a local Jupyter notebook, please proceed with caution.\n",
        "\n",
        "Note: You can run this example right now in a Jupyter-style notebook, no setup required!  Just click \"Run in Google Colab\"\n",
        "\n",
        "<div class=\"devsite-table-wrapper\"><table class=\"tfo-notebook-buttons\" align=\"left\">\n",
        "<tr><td><a target=\"_blank\" href=\"https://www.tensorflow.org/tfx/tutorials/serving/rest_simple\">\n",
        "<img src=\"https://www.tensorflow.org/images/tf_logo_32px.png\" />View on TensorFlow.org</a></td>\n",
        "<td><a target=\"_blank\" href=\"https://colab.research.google.com/github/tensorflow/tfx/blob/master/docs/tutorials/serving/rest_simple.ipynb\">\n",
        "<img src=\"https://www.tensorflow.org/images/colab_logo_32px.png\">Run in Google Colab</a></td>\n",
        "<td><a target=\"_blank\" href=\"https://github.com/tensorflow/tfx/blob/master/docs/tutorials/serving/rest_simple.ipynb\">\n",
        "<img width=32px src=\"https://www.tensorflow.org/images/GitHub-Mark-32px.png\">View source on GitHub</a></td>\n",
        "</tr></table></div>"
      ]
    },
    {
      "cell_type": "markdown",
      "metadata": {
        "id": "FbVhjPpzn6BM"
      },
      "source": [
        "This guide trains a neural network model to classify [images of clothing, like sneakers and shirts](https://github.com/zalandoresearch/fashion-mnist), saves the trained model, and then serves it with [TensorFlow Serving](https://www.tensorflow.org/serving/).  The focus is on TensorFlow Serving, rather than the modeling and training in TensorFlow, so for a complete example which focuses on the modeling and training see the [Basic Classification example](https://github.com/tensorflow/docs/blob/master/site/en/r1/tutorials/keras/basic_classification.ipynb).\n",
        "\n",
        "This guide uses [tf.keras](https://github.com/tensorflow/docs/blob/master/site/en/r1/guide/keras.ipynb), a high-level API to build and train models in TensorFlow."
      ]
    },
    {
      "cell_type": "code",
      "metadata": {
        "id": "FWkuJabJSKGB"
      },
      "source": [
        "import sys\n",
        "\n",
        "# Confirm that we're using Python 3\n",
        "assert sys.version_info.major is 3, 'Oops, not running Python 3. Use Runtime > Change runtime type'"
      ],
      "execution_count": 2,
      "outputs": []
    },
    {
      "cell_type": "code",
      "metadata": {
        "id": "P7jbH5xyCqLE",
        "outputId": "2db74c1b-f8c9-4526-b65f-295f24b977fb",
        "colab": {
          "base_uri": "https://localhost:8080/",
          "height": 51
        }
      },
      "source": [
        "# TensorFlow and tf.keras\n",
        "print(\"Installing dependencies for Colab environment\")\n",
        "!pip install -Uq grpcio==1.26.0\n"
      ],
      "execution_count": 3,
      "outputs": [
        {
          "output_type": "stream",
          "text": [
            "Installing dependencies for Colab environment\n",
            "\u001b[K     |████████████████████████████████| 2.4MB 2.8MB/s \n",
            "\u001b[?25h"
          ],
          "name": "stdout"
        }
      ]
    },
    {
      "cell_type": "code",
      "metadata": {
        "id": "dzLKpmZICaWN",
        "outputId": "9ed40135-7559-450f-eabb-8df2360706b7",
        "colab": {
          "base_uri": "https://localhost:8080/",
          "height": 34
        }
      },
      "source": [
        "import cv2\n",
        "import glob\n",
        "import os\n",
        "import random\n",
        "import pandas as pd\n",
        "import seaborn as sns\n",
        "from google.colab import files\n",
        "from shutil import copy\n",
        "from shutil import copytree, rmtree\n",
        "import tensorflow as tf\n",
        "from keras.preprocessing.image import ImageDataGenerator\n",
        "from tensorflow.keras import Input\n",
        "import matplotlib.pyplot as plt\n",
        "from PIL import Image\n",
        "import numpy as np\n",
        "from sklearn.model_selection import train_test_split\n",
        "import tensorflow as tf\n",
        "from keras.losses import categorical_crossentropy\n",
        "from tensorflow.keras.regularizers import l2\n",
        "from tensorflow.keras.models import Sequential\n",
        "from tensorflow.keras.layers import Dense\n",
        "from tensorflow.keras.layers import Flatten\n",
        "from tensorflow.keras.layers import Dropout\n",
        "from tensorflow.keras.layers import Conv2D, MaxPooling2D\n",
        "from tensorflow.keras.optimizers import Adam,Adadelta,SGD\n",
        "from tensorflow.keras.backend import mean\n",
        "from tensorflow.keras.losses import mse\n",
        "from tensorflow.keras.callbacks import EarlyStopping, ModelCheckpoint, LearningRateScheduler \n",
        "from tensorflow.keras.applications.inception_v3 import preprocess_input, InceptionV3\n",
        "from tensorflow.keras.layers import GlobalAveragePooling2D\n",
        "from tensorflow.keras.models import Model\n",
        "from zipfile import ZipFile \n",
        "from sklearn.metrics import confusion_matrix\n",
        "\n",
        "print('TensorFlow version: {}'.format(tf.__version__))"
      ],
      "execution_count": 34,
      "outputs": [
        {
          "output_type": "stream",
          "text": [
            "TensorFlow version: 2.3.0\n"
          ],
          "name": "stdout"
        }
      ]
    },
    {
      "cell_type": "markdown",
      "metadata": {
        "id": "5jAk1ZXqTJqN"
      },
      "source": [
        "## Create your model"
      ]
    },
    {
      "cell_type": "code",
      "metadata": {
        "id": "ORJkMPl8C6y7",
        "outputId": "bd1eaa79-ee08-4b69-a715-e46f772cf74d",
        "colab": {
          "base_uri": "https://localhost:8080/",
          "height": 34
        }
      },
      "source": [
        "from google.colab import drive\n",
        "\n",
        "drive.mount('/content/drive')"
      ],
      "execution_count": 5,
      "outputs": [
        {
          "output_type": "stream",
          "text": [
            "Mounted at /content/drive\n"
          ],
          "name": "stdout"
        }
      ]
    },
    {
      "cell_type": "code",
      "metadata": {
        "id": "A8X9cyR8FUX-"
      },
      "source": [
        "file_name = '/content/drive/My Drive/foodie API/food.zip'"
      ],
      "execution_count": 6,
      "outputs": []
    },
    {
      "cell_type": "code",
      "metadata": {
        "id": "8Ixv6Ba0iyv7"
      },
      "source": [
        "names=['lobster_roll_sandwich',\n",
        " 'beet_salad',\n",
        " 'red_velvet_cake',\n",
        " 'falafel',\n",
        " 'paella',\n",
        " 'french_onion_soup',\n",
        " 'caesar_salad',\n",
        " 'chicken_quesadilla',\n",
        " 'beef_carpaccio',\n",
        " 'macaroni_and_cheese',\n",
        " 'lobster_bisque',\n",
        " 'ice_cream',\n",
        " 'omelette',\n",
        " 'frozen_yogurt',\n",
        " 'panna_cotta',\n",
        " 'beignets',\n",
        " 'ravioli',\n",
        " 'tacos',\n",
        " 'edamame',\n",
        " 'risotto',\n",
        " 'creme_brulee',\n",
        " 'chocolate_mousse',\n",
        " 'onion_rings',\n",
        " 'hot_and_sour_soup',\n",
        " 'pizza',\n",
        " 'hamburger',\n",
        " 'cannoli',\n",
        " 'pancakes',\n",
        " 'shrimp_and_grits',\n",
        " 'sashimi',\n",
        " 'lasagna',\n",
        " 'hummus',\n",
        " 'oysters',\n",
        " 'baby_back_ribs',\n",
        " 'chocolate_cake',\n",
        " 'guacamole',\n",
        " 'fish_and_chips',\n",
        " 'croque_madame',\n",
        " 'bread_pudding',\n",
        " 'eggs_benedict',\n",
        " 'takoyaki',\n",
        " 'ceviche',\n",
        " 'spaghetti_carbonara',\n",
        " 'scallops',\n",
        " 'spaghetti_bolognese',\n",
        " 'tuna_tartare',\n",
        " 'sushi',\n",
        " 'french_fries',\n",
        " 'pulled_pork_sandwich',\n",
        " 'bruschetta',\n",
        " 'gyoza',\n",
        " 'spring_rolls',\n",
        " 'huevos_rancheros',\n",
        " 'beef_tartare',\n",
        " 'pho',\n",
        " 'hot_dog',\n",
        " 'crab_cakes',\n",
        " 'cup_cakes',\n",
        " 'fried_rice',\n",
        " 'churros',\n",
        " 'escargots',\n",
        " 'ramen',\n",
        " 'foie_gras',\n",
        " 'chicken_curry',\n",
        " 'garlic_bread',\n",
        " 'strawberry_shortcake',\n",
        " 'tiramisu',\n",
        " 'clam_chowder',\n",
        " 'fried_calamari',\n",
        " 'french_toast',\n",
        " 'chicken_wings',\n",
        " 'poutine',\n",
        " 'dumplings',\n",
        " 'samosa',\n",
        " 'steak',\n",
        " 'gnocchi',\n",
        " 'macarons',\n",
        " 'cheesecake',\n",
        " 'waffles',\n",
        " 'cheese_plate',\n",
        " 'nachos',\n",
        " 'greek_salad',\n",
        " 'peking_duck',\n",
        " 'carrot_cake',\n",
        " 'mussels',\n",
        " 'breakfast_burrito',\n",
        " 'filet_mignon',\n",
        " 'pad_thai',\n",
        " 'club_sandwich',\n",
        " 'deviled_eggs',\n",
        " 'baklava',\n",
        " 'caprese_salad',\n",
        " 'seaweed_salad',\n",
        " 'grilled_salmon',\n",
        " 'bibimbap',\n",
        " 'apple_pie',\n",
        " 'donuts',\n",
        " 'prime_rib',\n",
        " 'grilled_cheese_sandwich',\n",
        " 'miso_soup',\n",
        " 'pork_chop']"
      ],
      "execution_count": 7,
      "outputs": []
    },
    {
      "cell_type": "code",
      "metadata": {
        "id": "KUaKp6Tinsp_"
      },
      "source": [
        "from zipfile import ZipFile \n",
        "\n",
        "archive = ZipFile(file_name)\n",
        "\n",
        "for file in archive.namelist():\n",
        "  \n",
        "  if file.split('/')[1] in names[0:20]:\n",
        "      archive.extract(file)"
      ],
      "execution_count": 8,
      "outputs": []
    },
    {
      "cell_type": "code",
      "metadata": {
        "id": "kaORjlzWmYKl"
      },
      "source": [
        "train_datagen = ImageDataGenerator(\n",
        "        rescale=1. / 255,\n",
        "        shear_range=0.2,\n",
        "        horizontal_flip=True)"
      ],
      "execution_count": 9,
      "outputs": []
    },
    {
      "cell_type": "code",
      "metadata": {
        "id": "ExfRC_n9mYQ_"
      },
      "source": [
        "test_datagen = ImageDataGenerator(rescale=1. / 255)"
      ],
      "execution_count": 10,
      "outputs": []
    },
    {
      "cell_type": "code",
      "metadata": {
        "id": "6mrQkp5GmYTW",
        "outputId": "eb6ff44a-82fd-43b0-808c-b6d72fe0878e",
        "colab": {
          "base_uri": "https://localhost:8080/",
          "height": 34
        }
      },
      "source": [
        "train_generator = train_datagen.flow_from_directory(\n",
        "    '/content/train',\n",
        "    target_size=(75,75),\n",
        "    batch_size=80,\n",
        "    class_mode='categorical',\n",
        "    color_mode='rgb')"
      ],
      "execution_count": 11,
      "outputs": [
        {
          "output_type": "stream",
          "text": [
            "Found 15000 images belonging to 20 classes.\n"
          ],
          "name": "stdout"
        }
      ]
    },
    {
      "cell_type": "code",
      "metadata": {
        "id": "3VieON_GmYXv",
        "outputId": "fce3d2ed-e097-4e7e-e464-de530bf1ac35",
        "colab": {
          "base_uri": "https://localhost:8080/",
          "height": 34
        }
      },
      "source": [
        "test_generator = test_datagen.flow_from_directory(\n",
        "    '/content/test',\n",
        "    target_size=(75,75),\n",
        "    batch_size=80,\n",
        "    class_mode='categorical',\n",
        "    color_mode='rgb')"
      ],
      "execution_count": 12,
      "outputs": [
        {
          "output_type": "stream",
          "text": [
            "Found 5000 images belonging to 20 classes.\n"
          ],
          "name": "stdout"
        }
      ]
    },
    {
      "cell_type": "code",
      "metadata": {
        "id": "0-vN5d00nD-0",
        "outputId": "b62dc783-36bd-4420-a990-4fb4b858b46b",
        "colab": {
          "base_uri": "https://localhost:8080/",
          "height": 285
        }
      },
      "source": [
        "plt.imshow(train_generator[0][0][0])"
      ],
      "execution_count": 13,
      "outputs": [
        {
          "output_type": "execute_result",
          "data": {
            "text/plain": [
              "<matplotlib.image.AxesImage at 0x7f39900b1748>"
            ]
          },
          "metadata": {
            "tags": []
          },
          "execution_count": 13
        },
        {
          "output_type": "display_data",
          "data": {
            "image/png": "[encoded data removed]",
            "text/plain": [
              "<Figure size 432x288 with 1 Axes>"
            ]
          },
          "metadata": {
            "tags": [],
            "needs_background": "light"
          }
        }
      ]
    },
    {
      "cell_type": "code",
      "metadata": {
        "id": "zdJPmouQnEBn"
      },
      "source": [
        ""
      ],
      "execution_count": 13,
      "outputs": []
    },
    {
      "cell_type": "code",
      "metadata": {
        "id": "TBAQcF-18Mka"
      },
      "source": [
        "import os\n",
        "os.mkdir('../content/models/')"
      ],
      "execution_count": 14,
      "outputs": []
    },
    {
      "cell_type": "markdown",
      "metadata": {
        "id": "toi-X5LnnVbi"
      },
      "source": [
        "We define our net topology\n"
      ]
    },
    {
      "cell_type": "code",
      "metadata": {
        "id": "JvHDiSDHnEHG"
      },
      "source": [
        "epocas=50\n",
        "n_classes=len(train_generator.class_indices)\n",
        "#opt = tf.keras.optimizers.Adam(learning_rate=0.1)\n",
        "#optimizer = tf.train.AdamOptimizer(0.001)\n",
        "opt = SGD(lr=1e-2, momentum=0.9, decay=1e-2 / epocas)\n",
        "loss=\"categorical_crossentropy\"\n",
        "optimizers=[Adam(),Adadelta(),SGD(learning_rate=1)]"
      ],
      "execution_count": 15,
      "outputs": []
    },
    {
      "cell_type": "code",
      "metadata": {
        "id": "Qa6z_kyQnENj",
        "outputId": "00ce1ef0-4131-480e-9c8b-f858fc1b0b44",
        "colab": {
          "base_uri": "https://localhost:8080/",
          "height": 51
        }
      },
      "source": [
        "inception=InceptionV3(\n",
        "    include_top=False,\n",
        "    weights=\"imagenet\",\n",
        "    input_shape=(75,75,3),\n",
        "    pooling=None,\n",
        "    classes=n_classes,\n",
        "    classifier_activation=\"softmax\",\n",
        ")\n"
      ],
      "execution_count": 16,
      "outputs": [
        {
          "output_type": "stream",
          "text": [
            "Downloading data from https://storage.googleapis.com/tensorflow/keras-applications/inception_v3/inception_v3_weights_tf_dim_ordering_tf_kernels_notop.h5\n",
            "87916544/87910968 [==============================] - 2s 0us/step\n"
          ],
          "name": "stdout"
        }
      ]
    },
    {
      "cell_type": "code",
      "metadata": {
        "id": "MX8RPn6o-Cyn"
      },
      "source": [
        "x = inception.output\n",
        "x = GlobalAveragePooling2D()(x)\n",
        "x = Dense(128,activation='relu')(x)\n",
        "x = Dropout(0.2)(x)"
      ],
      "execution_count": 17,
      "outputs": []
    },
    {
      "cell_type": "code",
      "metadata": {
        "id": "dJR2_Ltg-Dft"
      },
      "source": [
        "predictions = Dense(n_classes,kernel_regularizer=l2(0.005), activation='softmax')(x)\n",
        "\n",
        "model = Model(inputs=inception.input, outputs=predictions)"
      ],
      "execution_count": 18,
      "outputs": []
    },
    {
      "cell_type": "code",
      "metadata": {
        "id": "cs1i3LXN-FIB"
      },
      "source": [
        "model.compile(optimizer=opt, loss=loss, metrics=['accuracy'])"
      ],
      "execution_count": 19,
      "outputs": []
    },
    {
      "cell_type": "code",
      "metadata": {
        "id": "ueyi7N8_-G2W"
      },
      "source": [
        "earlystopping = EarlyStopping(\n",
        "    monitor = 'loss', \n",
        "    verbose = 1, \n",
        "    patience = 20\n",
        ")\n",
        "checkpointer = ModelCheckpoint(filepath='../content/models/part_V2_check_20.hdf5', verbose=1, save_best_only=True)"
      ],
      "execution_count": 20,
      "outputs": []
    },
    {
      "cell_type": "code",
      "metadata": {
        "id": "EPcsLEJlnEYC",
        "outputId": "d188ae7c-e4e4-46d0-9761-c14c5b214fb8",
        "colab": {
          "base_uri": "https://localhost:8080/",
          "height": 1000
        }
      },
      "source": [
        "history = model.fit(train_generator,\n",
        "                    validation_data=test_generator,\n",
        "                    epochs=epocas,\n",
        "                    verbose=1,\n",
        "                    callbacks=[earlystopping,checkpointer])\n",
        "\n"
      ],
      "execution_count": 21,
      "outputs": [
        {
          "output_type": "stream",
          "text": [
            "Epoch 1/50\n",
            "188/188 [==============================] - ETA: 0s - loss: 3.1315 - accuracy: 0.0681\n",
            "Epoch 00001: val_loss improved from inf to 6.87645, saving model to ../output/models/part_V2_check_20.hdf5\n",
            "188/188 [==============================] - 110s 583ms/step - loss: 3.1315 - accuracy: 0.0681 - val_loss: 6.8764 - val_accuracy: 0.0510\n",
            "Epoch 2/50\n",
            "188/188 [==============================] - ETA: 0s - loss: 2.7434 - accuracy: 0.1727\n",
            "Epoch 00002: val_loss improved from 6.87645 to 2.70200, saving model to ../output/models/part_V2_check_20.hdf5\n",
            "188/188 [==============================] - 108s 575ms/step - loss: 2.7434 - accuracy: 0.1727 - val_loss: 2.7020 - val_accuracy: 0.2098\n",
            "Epoch 3/50\n",
            "188/188 [==============================] - ETA: 0s - loss: 2.1098 - accuracy: 0.3627\n",
            "Epoch 00003: val_loss improved from 2.70200 to 1.97855, saving model to ../output/models/part_V2_check_20.hdf5\n",
            "188/188 [==============================] - 108s 574ms/step - loss: 2.1098 - accuracy: 0.3627 - val_loss: 1.9785 - val_accuracy: 0.4208\n",
            "Epoch 4/50\n",
            "188/188 [==============================] - ETA: 0s - loss: 1.6417 - accuracy: 0.5192\n",
            "Epoch 00004: val_loss improved from 1.97855 to 1.82342, saving model to ../output/models/part_V2_check_20.hdf5\n",
            "188/188 [==============================] - 107s 570ms/step - loss: 1.6417 - accuracy: 0.5192 - val_loss: 1.8234 - val_accuracy: 0.4670\n",
            "Epoch 5/50\n",
            "188/188 [==============================] - ETA: 0s - loss: 1.3240 - accuracy: 0.6182\n",
            "Epoch 00005: val_loss did not improve from 1.82342\n",
            "188/188 [==============================] - 107s 571ms/step - loss: 1.3240 - accuracy: 0.6182 - val_loss: 9.0779 - val_accuracy: 0.1944\n",
            "Epoch 6/50\n",
            "188/188 [==============================] - ETA: 0s - loss: 1.1460 - accuracy: 0.6759\n",
            "Epoch 00006: val_loss improved from 1.82342 to 1.46094, saving model to ../output/models/part_V2_check_20.hdf5\n",
            "188/188 [==============================] - 107s 570ms/step - loss: 1.1460 - accuracy: 0.6759 - val_loss: 1.4609 - val_accuracy: 0.5810\n",
            "Epoch 7/50\n",
            "188/188 [==============================] - ETA: 0s - loss: 0.9458 - accuracy: 0.7306\n",
            "Epoch 00007: val_loss improved from 1.46094 to 1.44528, saving model to ../output/models/part_V2_check_20.hdf5\n",
            "188/188 [==============================] - 107s 571ms/step - loss: 0.9458 - accuracy: 0.7306 - val_loss: 1.4453 - val_accuracy: 0.5980\n",
            "Epoch 8/50\n",
            "188/188 [==============================] - ETA: 0s - loss: 0.8257 - accuracy: 0.7704\n",
            "Epoch 00008: val_loss did not improve from 1.44528\n",
            "188/188 [==============================] - 107s 570ms/step - loss: 0.8257 - accuracy: 0.7704 - val_loss: 1.7294 - val_accuracy: 0.5354\n",
            "Epoch 9/50\n",
            "188/188 [==============================] - ETA: 0s - loss: 0.7725 - accuracy: 0.7853\n",
            "Epoch 00009: val_loss did not improve from 1.44528\n",
            "188/188 [==============================] - 107s 571ms/step - loss: 0.7725 - accuracy: 0.7853 - val_loss: 2.2355 - val_accuracy: 0.4636\n",
            "Epoch 10/50\n",
            "188/188 [==============================] - ETA: 0s - loss: 0.6783 - accuracy: 0.8127\n",
            "Epoch 00010: val_loss did not improve from 1.44528\n",
            "188/188 [==============================] - 107s 570ms/step - loss: 0.6783 - accuracy: 0.8127 - val_loss: 1.5722 - val_accuracy: 0.5930\n",
            "Epoch 11/50\n",
            "188/188 [==============================] - ETA: 0s - loss: 0.5695 - accuracy: 0.8441\n",
            "Epoch 00011: val_loss did not improve from 1.44528\n",
            "188/188 [==============================] - 107s 569ms/step - loss: 0.5695 - accuracy: 0.8441 - val_loss: 1.4495 - val_accuracy: 0.6284\n",
            "Epoch 12/50\n",
            "188/188 [==============================] - ETA: 0s - loss: 0.4654 - accuracy: 0.8763\n",
            "Epoch 00012: val_loss did not improve from 1.44528\n",
            "188/188 [==============================] - 107s 567ms/step - loss: 0.4654 - accuracy: 0.8763 - val_loss: 1.5126 - val_accuracy: 0.6094\n",
            "Epoch 13/50\n",
            "188/188 [==============================] - ETA: 0s - loss: 0.4563 - accuracy: 0.8766\n",
            "Epoch 00013: val_loss did not improve from 1.44528\n",
            "188/188 [==============================] - 107s 568ms/step - loss: 0.4563 - accuracy: 0.8766 - val_loss: 2.2652 - val_accuracy: 0.4990\n",
            "Epoch 14/50\n",
            "188/188 [==============================] - ETA: 0s - loss: 0.4556 - accuracy: 0.8751\n",
            "Epoch 00014: val_loss did not improve from 1.44528\n",
            "188/188 [==============================] - 107s 569ms/step - loss: 0.4556 - accuracy: 0.8751 - val_loss: 1.4472 - val_accuracy: 0.6386\n",
            "Epoch 15/50\n",
            "188/188 [==============================] - ETA: 0s - loss: 0.3386 - accuracy: 0.9121\n",
            "Epoch 00015: val_loss did not improve from 1.44528\n",
            "188/188 [==============================] - 107s 568ms/step - loss: 0.3386 - accuracy: 0.9121 - val_loss: 1.5790 - val_accuracy: 0.6266\n",
            "Epoch 16/50\n",
            "188/188 [==============================] - ETA: 0s - loss: 0.2876 - accuracy: 0.9272\n",
            "Epoch 00016: val_loss did not improve from 1.44528\n",
            "188/188 [==============================] - 106s 563ms/step - loss: 0.2876 - accuracy: 0.9272 - val_loss: 1.5433 - val_accuracy: 0.6284\n",
            "Epoch 17/50\n",
            "188/188 [==============================] - ETA: 0s - loss: 0.3130 - accuracy: 0.9169\n",
            "Epoch 00017: val_loss did not improve from 1.44528\n",
            "188/188 [==============================] - 106s 563ms/step - loss: 0.3130 - accuracy: 0.9169 - val_loss: 1.7881 - val_accuracy: 0.6232\n",
            "Epoch 18/50\n",
            "188/188 [==============================] - ETA: 0s - loss: 0.2385 - accuracy: 0.9419\n",
            "Epoch 00018: val_loss did not improve from 1.44528\n",
            "188/188 [==============================] - 105s 558ms/step - loss: 0.2385 - accuracy: 0.9419 - val_loss: 1.6200 - val_accuracy: 0.6522\n",
            "Epoch 19/50\n",
            "188/188 [==============================] - ETA: 0s - loss: 0.2009 - accuracy: 0.9535\n",
            "Epoch 00019: val_loss did not improve from 1.44528\n",
            "188/188 [==============================] - 107s 567ms/step - loss: 0.2009 - accuracy: 0.9535 - val_loss: 1.8076 - val_accuracy: 0.6116\n",
            "Epoch 20/50\n",
            "188/188 [==============================] - ETA: 0s - loss: 0.1875 - accuracy: 0.9555\n",
            "Epoch 00020: val_loss did not improve from 1.44528\n",
            "188/188 [==============================] - 106s 564ms/step - loss: 0.1875 - accuracy: 0.9555 - val_loss: 1.7204 - val_accuracy: 0.6194\n",
            "Epoch 21/50\n",
            "188/188 [==============================] - ETA: 0s - loss: 0.1444 - accuracy: 0.9689\n",
            "Epoch 00021: val_loss did not improve from 1.44528\n",
            "188/188 [==============================] - 106s 565ms/step - loss: 0.1444 - accuracy: 0.9689 - val_loss: 1.5798 - val_accuracy: 0.6576\n",
            "Epoch 22/50\n",
            "188/188 [==============================] - ETA: 0s - loss: 0.1247 - accuracy: 0.9740\n",
            "Epoch 00022: val_loss did not improve from 1.44528\n",
            "188/188 [==============================] - 105s 560ms/step - loss: 0.1247 - accuracy: 0.9740 - val_loss: 1.5018 - val_accuracy: 0.6706\n",
            "Epoch 23/50\n",
            "188/188 [==============================] - ETA: 0s - loss: 0.1153 - accuracy: 0.9759\n",
            "Epoch 00023: val_loss did not improve from 1.44528\n",
            "188/188 [==============================] - 105s 557ms/step - loss: 0.1153 - accuracy: 0.9759 - val_loss: 1.4530 - val_accuracy: 0.6822\n",
            "Epoch 24/50\n",
            "188/188 [==============================] - ETA: 0s - loss: 0.1066 - accuracy: 0.9796\n",
            "Epoch 00024: val_loss did not improve from 1.44528\n",
            "188/188 [==============================] - 105s 560ms/step - loss: 0.1066 - accuracy: 0.9796 - val_loss: 1.5374 - val_accuracy: 0.6644\n",
            "Epoch 25/50\n",
            "188/188 [==============================] - ETA: 0s - loss: 0.0924 - accuracy: 0.9835\n",
            "Epoch 00025: val_loss improved from 1.44528 to 1.41695, saving model to ../output/models/part_V2_check_20.hdf5\n",
            "188/188 [==============================] - 104s 554ms/step - loss: 0.0924 - accuracy: 0.9835 - val_loss: 1.4170 - val_accuracy: 0.6874\n",
            "Epoch 26/50\n",
            "188/188 [==============================] - ETA: 0s - loss: 0.0802 - accuracy: 0.9869\n",
            "Epoch 00026: val_loss did not improve from 1.41695\n",
            "188/188 [==============================] - 105s 556ms/step - loss: 0.0802 - accuracy: 0.9869 - val_loss: 1.4320 - val_accuracy: 0.6884\n",
            "Epoch 27/50\n",
            "188/188 [==============================] - ETA: 0s - loss: 0.0724 - accuracy: 0.9885\n",
            "Epoch 00027: val_loss improved from 1.41695 to 1.38166, saving model to ../output/models/part_V2_check_20.hdf5\n",
            "188/188 [==============================] - 105s 560ms/step - loss: 0.0724 - accuracy: 0.9885 - val_loss: 1.3817 - val_accuracy: 0.6972\n",
            "Epoch 28/50\n",
            "188/188 [==============================] - ETA: 0s - loss: 0.0638 - accuracy: 0.9905\n",
            "Epoch 00028: val_loss did not improve from 1.38166\n",
            "188/188 [==============================] - 106s 564ms/step - loss: 0.0638 - accuracy: 0.9905 - val_loss: 1.4243 - val_accuracy: 0.6858\n",
            "Epoch 29/50\n",
            "188/188 [==============================] - ETA: 0s - loss: 0.0561 - accuracy: 0.9930\n",
            "Epoch 00029: val_loss did not improve from 1.38166\n",
            "188/188 [==============================] - 106s 563ms/step - loss: 0.0561 - accuracy: 0.9930 - val_loss: 1.4243 - val_accuracy: 0.6916\n",
            "Epoch 30/50\n",
            "188/188 [==============================] - ETA: 0s - loss: 0.0511 - accuracy: 0.9938\n",
            "Epoch 00030: val_loss improved from 1.38166 to 1.37752, saving model to ../output/models/part_V2_check_20.hdf5\n",
            "188/188 [==============================] - 106s 562ms/step - loss: 0.0511 - accuracy: 0.9938 - val_loss: 1.3775 - val_accuracy: 0.6946\n",
            "Epoch 31/50\n",
            "188/188 [==============================] - ETA: 0s - loss: 0.0532 - accuracy: 0.9928\n",
            "Epoch 00031: val_loss did not improve from 1.37752\n",
            "188/188 [==============================] - 106s 563ms/step - loss: 0.0532 - accuracy: 0.9928 - val_loss: 1.4002 - val_accuracy: 0.6966\n",
            "Epoch 32/50\n",
            "188/188 [==============================] - ETA: 0s - loss: 0.0500 - accuracy: 0.9937\n",
            "Epoch 00032: val_loss did not improve from 1.37752\n",
            "188/188 [==============================] - 106s 563ms/step - loss: 0.0500 - accuracy: 0.9937 - val_loss: 1.4719 - val_accuracy: 0.6854\n",
            "Epoch 33/50\n",
            "188/188 [==============================] - ETA: 0s - loss: 0.0443 - accuracy: 0.9954\n",
            "Epoch 00033: val_loss improved from 1.37752 to 1.33262, saving model to ../output/models/part_V2_check_20.hdf5\n",
            "188/188 [==============================] - 106s 563ms/step - loss: 0.0443 - accuracy: 0.9954 - val_loss: 1.3326 - val_accuracy: 0.7032\n",
            "Epoch 34/50\n",
            "188/188 [==============================] - ETA: 0s - loss: 0.0441 - accuracy: 0.9950\n",
            "Epoch 00034: val_loss did not improve from 1.33262\n",
            "188/188 [==============================] - 105s 560ms/step - loss: 0.0441 - accuracy: 0.9950 - val_loss: 1.3656 - val_accuracy: 0.7008\n",
            "Epoch 35/50\n",
            "188/188 [==============================] - ETA: 0s - loss: 0.0373 - accuracy: 0.9975\n",
            "Epoch 00035: val_loss did not improve from 1.33262\n",
            "188/188 [==============================] - 105s 559ms/step - loss: 0.0373 - accuracy: 0.9975 - val_loss: 1.3408 - val_accuracy: 0.7102\n",
            "Epoch 36/50\n",
            "188/188 [==============================] - ETA: 0s - loss: 0.0377 - accuracy: 0.9970\n",
            "Epoch 00036: val_loss did not improve from 1.33262\n",
            "188/188 [==============================] - 105s 559ms/step - loss: 0.0377 - accuracy: 0.9970 - val_loss: 1.3484 - val_accuracy: 0.7072\n",
            "Epoch 37/50\n",
            "188/188 [==============================] - ETA: 0s - loss: 0.0342 - accuracy: 0.9975\n",
            "Epoch 00037: val_loss improved from 1.33262 to 1.30089, saving model to ../output/models/part_V2_check_20.hdf5\n",
            "188/188 [==============================] - 106s 565ms/step - loss: 0.0342 - accuracy: 0.9975 - val_loss: 1.3009 - val_accuracy: 0.7120\n",
            "Epoch 38/50\n",
            "188/188 [==============================] - ETA: 0s - loss: 0.0366 - accuracy: 0.9967\n",
            "Epoch 00038: val_loss did not improve from 1.30089\n",
            "188/188 [==============================] - 106s 566ms/step - loss: 0.0366 - accuracy: 0.9967 - val_loss: 1.3220 - val_accuracy: 0.7070\n",
            "Epoch 39/50\n",
            "188/188 [==============================] - ETA: 0s - loss: 0.0351 - accuracy: 0.9971\n",
            "Epoch 00039: val_loss did not improve from 1.30089\n",
            "188/188 [==============================] - 107s 568ms/step - loss: 0.0351 - accuracy: 0.9971 - val_loss: 1.3074 - val_accuracy: 0.7058\n",
            "Epoch 40/50\n",
            "188/188 [==============================] - ETA: 0s - loss: 0.0330 - accuracy: 0.9973\n",
            "Epoch 00040: val_loss did not improve from 1.30089\n",
            "188/188 [==============================] - 107s 569ms/step - loss: 0.0330 - accuracy: 0.9973 - val_loss: 1.3078 - val_accuracy: 0.7108\n",
            "Epoch 41/50\n",
            "188/188 [==============================] - ETA: 0s - loss: 0.0315 - accuracy: 0.9973\n",
            "Epoch 00041: val_loss did not improve from 1.30089\n",
            "188/188 [==============================] - 107s 568ms/step - loss: 0.0315 - accuracy: 0.9973 - val_loss: 1.3085 - val_accuracy: 0.7144\n",
            "Epoch 42/50\n",
            "188/188 [==============================] - ETA: 0s - loss: 0.0361 - accuracy: 0.9959\n",
            "Epoch 00042: val_loss did not improve from 1.30089\n",
            "188/188 [==============================] - 107s 567ms/step - loss: 0.0361 - accuracy: 0.9959 - val_loss: 1.3401 - val_accuracy: 0.7094\n",
            "Epoch 43/50\n",
            "188/188 [==============================] - ETA: 0s - loss: 0.0304 - accuracy: 0.9973\n",
            "Epoch 00043: val_loss did not improve from 1.30089\n",
            "188/188 [==============================] - 107s 568ms/step - loss: 0.0304 - accuracy: 0.9973 - val_loss: 1.3103 - val_accuracy: 0.7130\n",
            "Epoch 44/50\n",
            "188/188 [==============================] - ETA: 0s - loss: 0.0282 - accuracy: 0.9983\n",
            "Epoch 00044: val_loss improved from 1.30089 to 1.27128, saving model to ../output/models/part_V2_check_20.hdf5\n",
            "188/188 [==============================] - 106s 566ms/step - loss: 0.0282 - accuracy: 0.9983 - val_loss: 1.2713 - val_accuracy: 0.7176\n",
            "Epoch 45/50\n",
            "188/188 [==============================] - ETA: 0s - loss: 0.0265 - accuracy: 0.9987\n",
            "Epoch 00045: val_loss did not improve from 1.27128\n",
            "188/188 [==============================] - 107s 567ms/step - loss: 0.0265 - accuracy: 0.9987 - val_loss: 1.2972 - val_accuracy: 0.7116\n",
            "Epoch 46/50\n",
            "188/188 [==============================] - ETA: 0s - loss: 0.0269 - accuracy: 0.9984\n",
            "Epoch 00046: val_loss improved from 1.27128 to 1.26856, saving model to ../output/models/part_V2_check_20.hdf5\n",
            "188/188 [==============================] - 107s 570ms/step - loss: 0.0269 - accuracy: 0.9984 - val_loss: 1.2686 - val_accuracy: 0.7192\n",
            "Epoch 47/50\n",
            "188/188 [==============================] - ETA: 0s - loss: 0.0251 - accuracy: 0.9987\n",
            "Epoch 00047: val_loss did not improve from 1.26856\n",
            "188/188 [==============================] - 107s 568ms/step - loss: 0.0251 - accuracy: 0.9987 - val_loss: 1.2851 - val_accuracy: 0.7134\n",
            "Epoch 48/50\n",
            "188/188 [==============================] - ETA: 0s - loss: 0.0241 - accuracy: 0.9989\n",
            "Epoch 00048: val_loss did not improve from 1.26856\n",
            "188/188 [==============================] - 107s 567ms/step - loss: 0.0241 - accuracy: 0.9989 - val_loss: 1.2919 - val_accuracy: 0.7106\n",
            "Epoch 49/50\n",
            "188/188 [==============================] - ETA: 0s - loss: 0.0228 - accuracy: 0.9992\n",
            "Epoch 00049: val_loss did not improve from 1.26856\n",
            "188/188 [==============================] - 107s 567ms/step - loss: 0.0228 - accuracy: 0.9992 - val_loss: 1.2814 - val_accuracy: 0.7130\n",
            "Epoch 50/50\n",
            "188/188 [==============================] - ETA: 0s - loss: 0.0223 - accuracy: 0.9995\n",
            "Epoch 00050: val_loss did not improve from 1.26856\n",
            "188/188 [==============================] - 107s 568ms/step - loss: 0.0223 - accuracy: 0.9995 - val_loss: 1.2837 - val_accuracy: 0.7140\n"
          ],
          "name": "stdout"
        },
        {
          "output_type": "error",
          "ename": "OSError",
          "evalue": "ignored",
          "traceback": [
            "\u001b[0;31m---------------------------------------------------------------------------\u001b[0m",
            "\u001b[0;31mOSError\u001b[0m                                   Traceback (most recent call last)",
            "\u001b[0;32m<ipython-input-21-9cc7cc155e55>\u001b[0m in \u001b[0;36m<module>\u001b[0;34m()\u001b[0m\n\u001b[1;32m      5\u001b[0m                     callbacks=[earlystopping,checkpointer])\n\u001b[1;32m      6\u001b[0m \u001b[0;34m\u001b[0m\u001b[0m\n\u001b[0;32m----> 7\u001b[0;31m \u001b[0mmodel\u001b[0m\u001b[0;34m.\u001b[0m\u001b[0msave\u001b[0m\u001b[0;34m(\u001b[0m\u001b[0;34m'../output/models/part_V2_model_20.hdf5'\u001b[0m\u001b[0;34m)\u001b[0m\u001b[0;34m\u001b[0m\u001b[0;34m\u001b[0m\u001b[0m\n\u001b[0m",
            "\u001b[0;32m/usr/local/lib/python3.6/dist-packages/tensorflow/python/keras/engine/training.py\u001b[0m in \u001b[0;36msave\u001b[0;34m(self, filepath, overwrite, include_optimizer, save_format, signatures, options)\u001b[0m\n\u001b[1;32m   1977\u001b[0m     \"\"\"\n\u001b[1;32m   1978\u001b[0m     save.save_model(self, filepath, overwrite, include_optimizer, save_format,\n\u001b[0;32m-> 1979\u001b[0;31m                     signatures, options)\n\u001b[0m\u001b[1;32m   1980\u001b[0m \u001b[0;34m\u001b[0m\u001b[0m\n\u001b[1;32m   1981\u001b[0m   def save_weights(self,\n",
            "\u001b[0;32m/usr/local/lib/python3.6/dist-packages/tensorflow/python/keras/saving/save.py\u001b[0m in \u001b[0;36msave_model\u001b[0;34m(model, filepath, overwrite, include_optimizer, save_format, signatures, options)\u001b[0m\n\u001b[1;32m    129\u001b[0m           'or using `save_weights`.')\n\u001b[1;32m    130\u001b[0m     hdf5_format.save_model_to_hdf5(\n\u001b[0;32m--> 131\u001b[0;31m         model, filepath, overwrite, include_optimizer)\n\u001b[0m\u001b[1;32m    132\u001b[0m   \u001b[0;32melse\u001b[0m\u001b[0;34m:\u001b[0m\u001b[0;34m\u001b[0m\u001b[0;34m\u001b[0m\u001b[0m\n\u001b[1;32m    133\u001b[0m     saved_model_save.save(model, filepath, overwrite, include_optimizer,\n",
            "\u001b[0;32m/usr/local/lib/python3.6/dist-packages/tensorflow/python/keras/saving/hdf5_format.py\u001b[0m in \u001b[0;36msave_model_to_hdf5\u001b[0;34m(model, filepath, overwrite, include_optimizer)\u001b[0m\n\u001b[1;32m    100\u001b[0m         \u001b[0;32mreturn\u001b[0m\u001b[0;34m\u001b[0m\u001b[0;34m\u001b[0m\u001b[0m\n\u001b[1;32m    101\u001b[0m \u001b[0;34m\u001b[0m\u001b[0m\n\u001b[0;32m--> 102\u001b[0;31m     \u001b[0mf\u001b[0m \u001b[0;34m=\u001b[0m \u001b[0mh5py\u001b[0m\u001b[0;34m.\u001b[0m\u001b[0mFile\u001b[0m\u001b[0;34m(\u001b[0m\u001b[0mfilepath\u001b[0m\u001b[0;34m,\u001b[0m \u001b[0mmode\u001b[0m\u001b[0;34m=\u001b[0m\u001b[0;34m'w'\u001b[0m\u001b[0;34m)\u001b[0m\u001b[0;34m\u001b[0m\u001b[0;34m\u001b[0m\u001b[0m\n\u001b[0m\u001b[1;32m    103\u001b[0m     \u001b[0mopened_new_file\u001b[0m \u001b[0;34m=\u001b[0m \u001b[0;32mTrue\u001b[0m\u001b[0;34m\u001b[0m\u001b[0;34m\u001b[0m\u001b[0m\n\u001b[1;32m    104\u001b[0m   \u001b[0;32melse\u001b[0m\u001b[0;34m:\u001b[0m\u001b[0;34m\u001b[0m\u001b[0;34m\u001b[0m\u001b[0m\n",
            "\u001b[0;32m/usr/local/lib/python3.6/dist-packages/h5py/_hl/files.py\u001b[0m in \u001b[0;36m__init__\u001b[0;34m(self, name, mode, driver, libver, userblock_size, swmr, rdcc_nslots, rdcc_nbytes, rdcc_w0, track_order, **kwds)\u001b[0m\n\u001b[1;32m    406\u001b[0m                 fid = make_fid(name, mode, userblock_size,\n\u001b[1;32m    407\u001b[0m                                \u001b[0mfapl\u001b[0m\u001b[0;34m,\u001b[0m \u001b[0mfcpl\u001b[0m\u001b[0;34m=\u001b[0m\u001b[0mmake_fcpl\u001b[0m\u001b[0;34m(\u001b[0m\u001b[0mtrack_order\u001b[0m\u001b[0;34m=\u001b[0m\u001b[0mtrack_order\u001b[0m\u001b[0;34m)\u001b[0m\u001b[0;34m,\u001b[0m\u001b[0;34m\u001b[0m\u001b[0;34m\u001b[0m\u001b[0m\n\u001b[0;32m--> 408\u001b[0;31m                                swmr=swmr)\n\u001b[0m\u001b[1;32m    409\u001b[0m \u001b[0;34m\u001b[0m\u001b[0m\n\u001b[1;32m    410\u001b[0m             \u001b[0;32mif\u001b[0m \u001b[0misinstance\u001b[0m\u001b[0;34m(\u001b[0m\u001b[0mlibver\u001b[0m\u001b[0;34m,\u001b[0m \u001b[0mtuple\u001b[0m\u001b[0;34m)\u001b[0m\u001b[0;34m:\u001b[0m\u001b[0;34m\u001b[0m\u001b[0;34m\u001b[0m\u001b[0m\n",
            "\u001b[0;32m/usr/local/lib/python3.6/dist-packages/h5py/_hl/files.py\u001b[0m in \u001b[0;36mmake_fid\u001b[0;34m(name, mode, userblock_size, fapl, fcpl, swmr)\u001b[0m\n\u001b[1;32m    177\u001b[0m         \u001b[0mfid\u001b[0m \u001b[0;34m=\u001b[0m \u001b[0mh5f\u001b[0m\u001b[0;34m.\u001b[0m\u001b[0mcreate\u001b[0m\u001b[0;34m(\u001b[0m\u001b[0mname\u001b[0m\u001b[0;34m,\u001b[0m \u001b[0mh5f\u001b[0m\u001b[0;34m.\u001b[0m\u001b[0mACC_EXCL\u001b[0m\u001b[0;34m,\u001b[0m \u001b[0mfapl\u001b[0m\u001b[0;34m=\u001b[0m\u001b[0mfapl\u001b[0m\u001b[0;34m,\u001b[0m \u001b[0mfcpl\u001b[0m\u001b[0;34m=\u001b[0m\u001b[0mfcpl\u001b[0m\u001b[0;34m)\u001b[0m\u001b[0;34m\u001b[0m\u001b[0;34m\u001b[0m\u001b[0m\n\u001b[1;32m    178\u001b[0m     \u001b[0;32melif\u001b[0m \u001b[0mmode\u001b[0m \u001b[0;34m==\u001b[0m \u001b[0;34m'w'\u001b[0m\u001b[0;34m:\u001b[0m\u001b[0;34m\u001b[0m\u001b[0;34m\u001b[0m\u001b[0m\n\u001b[0;32m--> 179\u001b[0;31m         \u001b[0mfid\u001b[0m \u001b[0;34m=\u001b[0m \u001b[0mh5f\u001b[0m\u001b[0;34m.\u001b[0m\u001b[0mcreate\u001b[0m\u001b[0;34m(\u001b[0m\u001b[0mname\u001b[0m\u001b[0;34m,\u001b[0m \u001b[0mh5f\u001b[0m\u001b[0;34m.\u001b[0m\u001b[0mACC_TRUNC\u001b[0m\u001b[0;34m,\u001b[0m \u001b[0mfapl\u001b[0m\u001b[0;34m=\u001b[0m\u001b[0mfapl\u001b[0m\u001b[0;34m,\u001b[0m \u001b[0mfcpl\u001b[0m\u001b[0;34m=\u001b[0m\u001b[0mfcpl\u001b[0m\u001b[0;34m)\u001b[0m\u001b[0;34m\u001b[0m\u001b[0;34m\u001b[0m\u001b[0m\n\u001b[0m\u001b[1;32m    180\u001b[0m     \u001b[0;32melif\u001b[0m \u001b[0mmode\u001b[0m \u001b[0;34m==\u001b[0m \u001b[0;34m'a'\u001b[0m\u001b[0;34m:\u001b[0m\u001b[0;34m\u001b[0m\u001b[0;34m\u001b[0m\u001b[0m\n\u001b[1;32m    181\u001b[0m         \u001b[0;31m# Open in append mode (read/write).\u001b[0m\u001b[0;34m\u001b[0m\u001b[0;34m\u001b[0m\u001b[0;34m\u001b[0m\u001b[0m\n",
            "\u001b[0;32mh5py/_objects.pyx\u001b[0m in \u001b[0;36mh5py._objects.with_phil.wrapper\u001b[0;34m()\u001b[0m\n",
            "\u001b[0;32mh5py/_objects.pyx\u001b[0m in \u001b[0;36mh5py._objects.with_phil.wrapper\u001b[0;34m()\u001b[0m\n",
            "\u001b[0;32mh5py/h5f.pyx\u001b[0m in \u001b[0;36mh5py.h5f.create\u001b[0;34m()\u001b[0m\n",
            "\u001b[0;31mOSError\u001b[0m: Unable to create file (unable to open file: name = '../output/models/part_V2_model_20.hdf5', errno = 2, error message = 'No such file or directory', flags = 13, o_flags = 242)"
          ]
        }
      ]
    },
    {
      "cell_type": "code",
      "metadata": {
        "id": "JKXdXgNVuSJZ",
        "outputId": "b9e11b6d-5bd7-4404-84aa-293e3206c03c",
        "colab": {
          "base_uri": "https://localhost:8080/",
          "height": 513
        }
      },
      "source": [
        "plt.figure(figsize=(8,8))\n",
        "plt.subplot(2,1,1)\n",
        "plt.title('InceptionV3 model')\n",
        "plt.plot(history.history['accuracy'],'r')\n",
        "plt.ylabel('Accuracy')\n",
        "plt.plot(history.history['val_accuracy'],'y')\n",
        "plt.legend(['train accuracy','validation accuracy'], loc='best')\n",
        "\n",
        "\n",
        "\n",
        "plt.subplot(2,1,2)\n",
        "plt.plot(history.history['loss'],'g')\n",
        "plt.ylabel('Loss')\n",
        "plt.xlabel('Epoch')\n",
        "plt.plot(history.history['val_loss'],'b')\n",
        "plt.legend(['train loss','validation loss'], loc='best')\n",
        "\n",
        "\n",
        "plt.savefig('../content/models/graphV2_20.png')"
      ],
      "execution_count": 27,
      "outputs": [
        {
          "output_type": "display_data",
          "data": {
            "image/png": "[encoded data removed]",
            "text/plain": [
              "<Figure size 576x576 with 2 Axes>"
            ]
          },
          "metadata": {
            "tags": [],
            "needs_background": "light"
          }
        }
      ]
    },
    {
      "cell_type": "code",
      "metadata": {
        "id": "gId_lPGbXMfa"
      },
      "source": [
        "model.save('../content/models/part_V2_model_20.hdf5')"
      ],
      "execution_count": 22,
      "outputs": []
    },
    {
      "cell_type": "code",
      "metadata": {
        "id": "wnmPFgHTnEcW",
        "outputId": "9240e62d-b680-4022-db1e-f7e6338a2c80",
        "colab": {
          "base_uri": "https://localhost:8080/",
          "height": 17
        }
      },
      "source": [
        "files.download('../content/models/graphV2_20.png')"
      ],
      "execution_count": 28,
      "outputs": [
        {
          "output_type": "display_data",
          "data": {
            "application/javascript": [
              "\n",
              "    async function download(id, filename, size) {\n",
              "      if (!google.colab.kernel.accessAllowed) {\n",
              "        return;\n",
              "      }\n",
              "      const div = document.createElement('div');\n",
              "      const label = document.createElement('label');\n",
              "      label.textContent = `Downloading \"${filename}\": `;\n",
              "      div.appendChild(label);\n",
              "      const progress = document.createElement('progress');\n",
              "      progress.max = size;\n",
              "      div.appendChild(progress);\n",
              "      document.body.appendChild(div);\n",
              "\n",
              "      const buffers = [];\n",
              "      let downloaded = 0;\n",
              "\n",
              "      const channel = await google.colab.kernel.comms.open(id);\n",
              "      // Send a message to notify the kernel that we're ready.\n",
              "      channel.send({})\n",
              "\n",
              "      for await (const message of channel.messages) {\n",
              "        // Send a message to notify the kernel that we're ready.\n",
              "        channel.send({})\n",
              "        if (message.buffers) {\n",
              "          for (const buffer of message.buffers) {\n",
              "            buffers.push(buffer);\n",
              "            downloaded += buffer.byteLength;\n",
              "            progress.value = downloaded;\n",
              "          }\n",
              "        }\n",
              "      }\n",
              "      const blob = new Blob(buffers, {type: 'application/binary'});\n",
              "      const a = document.createElement('a');\n",
              "      a.href = window.URL.createObjectURL(blob);\n",
              "      a.download = filename;\n",
              "      div.appendChild(a);\n",
              "      a.click();\n",
              "      div.remove();\n",
              "    }\n",
              "  "
            ],
            "text/plain": [
              "<IPython.core.display.Javascript object>"
            ]
          },
          "metadata": {
            "tags": []
          }
        },
        {
          "output_type": "display_data",
          "data": {
            "application/javascript": [
              "download(\"download_747905f2-c780-4a2e-bce2-05f7b18a4b0e\", \"graphV2_20.png\", 33583)"
            ],
            "text/plain": [
              "<IPython.core.display.Javascript object>"
            ]
          },
          "metadata": {
            "tags": []
          }
        }
      ]
    },
    {
      "cell_type": "code",
      "metadata": {
        "id": "YkHm3uAknEfy"
      },
      "source": [
        "files.download('../content/models/part_V2_check.hdf5')"
      ],
      "execution_count": null,
      "outputs": []
    },
    {
      "cell_type": "code",
      "metadata": {
        "id": "OBxFH57onEa7",
        "outputId": "ca432303-5094-432f-d690-65f96ea1b65a",
        "colab": {
          "base_uri": "https://localhost:8080/",
          "height": 17
        }
      },
      "source": [
        "files.download('../content/models/part_V2_model_20.hdf5')"
      ],
      "execution_count": 26,
      "outputs": [
        {
          "output_type": "display_data",
          "data": {
            "application/javascript": [
              "\n",
              "    async function download(id, filename, size) {\n",
              "      if (!google.colab.kernel.accessAllowed) {\n",
              "        return;\n",
              "      }\n",
              "      const div = document.createElement('div');\n",
              "      const label = document.createElement('label');\n",
              "      label.textContent = `Downloading \"${filename}\": `;\n",
              "      div.appendChild(label);\n",
              "      const progress = document.createElement('progress');\n",
              "      progress.max = size;\n",
              "      div.appendChild(progress);\n",
              "      document.body.appendChild(div);\n",
              "\n",
              "      const buffers = [];\n",
              "      let downloaded = 0;\n",
              "\n",
              "      const channel = await google.colab.kernel.comms.open(id);\n",
              "      // Send a message to notify the kernel that we're ready.\n",
              "      channel.send({})\n",
              "\n",
              "      for await (const message of channel.messages) {\n",
              "        // Send a message to notify the kernel that we're ready.\n",
              "        channel.send({})\n",
              "        if (message.buffers) {\n",
              "          for (const buffer of message.buffers) {\n",
              "            buffers.push(buffer);\n",
              "            downloaded += buffer.byteLength;\n",
              "            progress.value = downloaded;\n",
              "          }\n",
              "        }\n",
              "      }\n",
              "      const blob = new Blob(buffers, {type: 'application/binary'});\n",
              "      const a = document.createElement('a');\n",
              "      a.href = window.URL.createObjectURL(blob);\n",
              "      a.download = filename;\n",
              "      div.appendChild(a);\n",
              "      a.click();\n",
              "      div.remove();\n",
              "    }\n",
              "  "
            ],
            "text/plain": [
              "<IPython.core.display.Javascript object>"
            ]
          },
          "metadata": {
            "tags": []
          }
        },
        {
          "output_type": "display_data",
          "data": {
            "application/javascript": [
              "download(\"download_e5801fbe-a8c6-468b-ae1f-6a0e68f98bc7\", \"part_V2_model_20.hdf5\", 177736840)"
            ],
            "text/plain": [
              "<IPython.core.display.Javascript object>"
            ]
          },
          "metadata": {
            "tags": []
          }
        }
      ]
    },
    {
      "cell_type": "code",
      "metadata": {
        "id": "gv_l5zFhnEWS"
      },
      "source": [
        "y_pred=model.predict(test_generator)"
      ],
      "execution_count": 29,
      "outputs": []
    },
    {
      "cell_type": "code",
      "metadata": {
        "id": "i_YHYiVmnELZ"
      },
      "source": [
        "y_pred = np.argmax(y_pred, axis=1)"
      ],
      "execution_count": 30,
      "outputs": []
    },
    {
      "cell_type": "code",
      "metadata": {
        "id": "kPRL9bxPnEJ1",
        "outputId": "2535d139-848e-413b-e0f9-65ab74cb047d",
        "colab": {
          "base_uri": "https://localhost:8080/",
          "height": 282
        }
      },
      "source": [
        "#Confusion Matrix \n",
        "cm=confusion_matrix(test_generator.classes, y_pred)\n",
        "sns.heatmap(cm,annot=True)"
      ],
      "execution_count": 35,
      "outputs": [
        {
          "output_type": "execute_result",
          "data": {
            "text/plain": [
              "<matplotlib.axes._subplots.AxesSubplot at 0x7f36fc1dc8d0>"
            ]
          },
          "metadata": {
            "tags": []
          },
          "execution_count": 35
        },
        {
          "output_type": "display_data",
          "data": {
            "image/png": "[encoded data removed]",
            "text/plain": [
              "<Figure size 432x288 with 2 Axes>"
            ]
          },
          "metadata": {
            "tags": [],
            "needs_background": "light"
          }
        }
      ]
    },
    {
      "cell_type": "code",
      "metadata": {
        "id": "0TmD4rQr-itz"
      },
      "source": [
        ""
      ],
      "execution_count": null,
      "outputs": []
    }
  ]
}