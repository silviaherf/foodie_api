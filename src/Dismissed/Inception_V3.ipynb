{
  "nbformat": 4,
  "nbformat_minor": 0,
  "metadata": {
    "accelerator": "GPU",
    "colab": {
      "name": "Inception_V3.ipynb",
      "provenance": [],
      "collapsed_sections": [],
      "toc_visible": true,
      "include_colab_link": true
    },
    "kernelspec": {
      "display_name": "Python 3",
      "name": "python3"
    }
  },
  "cells": [
    {
      "cell_type": "markdown",
      "metadata": {
        "id": "view-in-github",
        "colab_type": "text"
      },
      "source": [
        "<a href=\"https://colab.research.google.com/github/silviaherf/foodie_api/blob/main/src/Dismissed/Inception_V3.ipynb\" target=\"_parent\"><img src=\"https://colab.research.google.com/assets/colab-badge.svg\" alt=\"Open In Colab\"/></a>"
      ]
    },
    {
      "cell_type": "markdown",
      "metadata": {
        "id": "MhoQ0WE77laV"
      },
      "source": [
        "##### Copyright 2020 The TensorFlow Authors."
      ]
    },
    {
      "cell_type": "code",
      "metadata": {
        "cellView": "form",
        "id": "_ckMIh7O7s6D"
      },
      "source": [
        "#@title Licensed under the Apache License, Version 2.0 (the \"License\");\n",
        "# you may not use this file except in compliance with the License.\n",
        "# You may obtain a copy of the License at\n",
        "#\n",
        "# https://www.apache.org/licenses/LICENSE-2.0\n",
        "#\n",
        "# Unless required by applicable law or agreed to in writing, software\n",
        "# distributed under the License is distributed on an \"AS IS\" BASIS,\n",
        "# WITHOUT WARRANTIES OR CONDITIONS OF ANY KIND, either express or implied.\n",
        "# See the License for the specific language governing permissions and\n",
        "# limitations under the License."
      ],
      "execution_count": 1,
      "outputs": []
    },
    {
      "cell_type": "markdown",
      "metadata": {
        "id": "jYysdyb-CaWM"
      },
      "source": [
        "# Train and serve a TensorFlow model with TensorFlow Serving"
      ]
    },
    {
      "cell_type": "markdown",
      "metadata": {
        "id": "E6FwTNtl3S4v"
      },
      "source": [
        "**Warning: This notebook is designed to be run in a Google Colab only**.  It installs packages on the system and requires root access.  If you want to run it in a local Jupyter notebook, please proceed with caution.\n",
        "\n",
        "Note: You can run this example right now in a Jupyter-style notebook, no setup required!  Just click \"Run in Google Colab\"\n",
        "\n",
        "<div class=\"devsite-table-wrapper\"><table class=\"tfo-notebook-buttons\" align=\"left\">\n",
        "<tr><td><a target=\"_blank\" href=\"https://www.tensorflow.org/tfx/tutorials/serving/rest_simple\">\n",
        "<img src=\"https://www.tensorflow.org/images/tf_logo_32px.png\" />View on TensorFlow.org</a></td>\n",
        "<td><a target=\"_blank\" href=\"https://colab.research.google.com/github/tensorflow/tfx/blob/master/docs/tutorials/serving/rest_simple.ipynb\">\n",
        "<img src=\"https://www.tensorflow.org/images/colab_logo_32px.png\">Run in Google Colab</a></td>\n",
        "<td><a target=\"_blank\" href=\"https://github.com/tensorflow/tfx/blob/master/docs/tutorials/serving/rest_simple.ipynb\">\n",
        "<img width=32px src=\"https://www.tensorflow.org/images/GitHub-Mark-32px.png\">View source on GitHub</a></td>\n",
        "</tr></table></div>"
      ]
    },
    {
      "cell_type": "markdown",
      "metadata": {
        "id": "FbVhjPpzn6BM"
      },
      "source": [
        "This guide trains a neural network model to classify [images of clothing, like sneakers and shirts](https://github.com/zalandoresearch/fashion-mnist), saves the trained model, and then serves it with [TensorFlow Serving](https://www.tensorflow.org/serving/).  The focus is on TensorFlow Serving, rather than the modeling and training in TensorFlow, so for a complete example which focuses on the modeling and training see the [Basic Classification example](https://github.com/tensorflow/docs/blob/master/site/en/r1/tutorials/keras/basic_classification.ipynb).\n",
        "\n",
        "This guide uses [tf.keras](https://github.com/tensorflow/docs/blob/master/site/en/r1/guide/keras.ipynb), a high-level API to build and train models in TensorFlow."
      ]
    },
    {
      "cell_type": "code",
      "metadata": {
        "id": "FWkuJabJSKGB"
      },
      "source": [
        "import sys\n",
        "\n",
        "# Confirm that we're using Python 3\n",
        "assert sys.version_info.major is 3, 'Oops, not running Python 3. Use Runtime > Change runtime type'"
      ],
      "execution_count": 2,
      "outputs": []
    },
    {
      "cell_type": "code",
      "metadata": {
        "id": "P7jbH5xyCqLE",
        "outputId": "1a496578-d453-4701-c6bd-224258e67d22",
        "colab": {
          "base_uri": "https://localhost:8080/",
          "height": 51
        }
      },
      "source": [
        "# TensorFlow and tf.keras\n",
        "print(\"Installing dependencies for Colab environment\")\n",
        "!pip install -Uq grpcio==1.26.0\n"
      ],
      "execution_count": 3,
      "outputs": [
        {
          "output_type": "stream",
          "text": [
            "Installing dependencies for Colab environment\n",
            "\u001b[K     |████████████████████████████████| 2.4MB 7.4MB/s \n",
            "\u001b[?25h"
          ],
          "name": "stdout"
        }
      ]
    },
    {
      "cell_type": "code",
      "metadata": {
        "id": "dzLKpmZICaWN",
        "outputId": "89756afb-2912-4315-c6aa-295447012163",
        "colab": {
          "base_uri": "https://localhost:8080/",
          "height": 34
        }
      },
      "source": [
        "import cv2\n",
        "import glob\n",
        "import os\n",
        "import random\n",
        "import pandas as pd\n",
        "import seaborn as sns\n",
        "from google.colab import files\n",
        "from shutil import copy\n",
        "from shutil import copytree, rmtree\n",
        "import tensorflow as tf\n",
        "from keras.preprocessing.image import ImageDataGenerator\n",
        "from tensorflow.keras import Input\n",
        "import matplotlib.pyplot as plt\n",
        "from PIL import Image\n",
        "import numpy as np\n",
        "from sklearn.model_selection import train_test_split\n",
        "import tensorflow as tf\n",
        "from keras.losses import categorical_crossentropy\n",
        "from tensorflow.keras.regularizers import l2\n",
        "from tensorflow.keras.models import Sequential\n",
        "from tensorflow.keras.layers import Dense\n",
        "from tensorflow.keras.layers import Flatten\n",
        "from tensorflow.keras.layers import Dropout\n",
        "from tensorflow.keras.layers import Conv2D, MaxPooling2D\n",
        "from tensorflow.keras.optimizers import Adam,Adadelta,SGD\n",
        "from tensorflow.keras.backend import mean\n",
        "from tensorflow.keras.losses import mse\n",
        "from tensorflow.keras.callbacks import EarlyStopping, ModelCheckpoint, LearningRateScheduler \n",
        "from tensorflow.keras.applications.inception_v3 import preprocess_input, InceptionV3\n",
        "from tensorflow.keras.layers import GlobalAveragePooling2D\n",
        "from tensorflow.keras.models import Model\n",
        "from zipfile import ZipFile \n",
        "from sklearn.metrics import confusion_matrix\n",
        "\n",
        "print('TensorFlow version: {}'.format(tf.__version__))"
      ],
      "execution_count": 4,
      "outputs": [
        {
          "output_type": "stream",
          "text": [
            "TensorFlow version: 2.3.0\n"
          ],
          "name": "stdout"
        }
      ]
    },
    {
      "cell_type": "markdown",
      "metadata": {
        "id": "5jAk1ZXqTJqN"
      },
      "source": [
        "## Create your model"
      ]
    },
    {
      "cell_type": "code",
      "metadata": {
        "id": "ORJkMPl8C6y7",
        "outputId": "58f8014b-29a5-4c7b-921e-49d7d05345a0",
        "colab": {
          "base_uri": "https://localhost:8080/",
          "height": 34
        }
      },
      "source": [
        "from google.colab import drive\n",
        "\n",
        "drive.mount('/content/drive')"
      ],
      "execution_count": 5,
      "outputs": [
        {
          "output_type": "stream",
          "text": [
            "Mounted at /content/drive\n"
          ],
          "name": "stdout"
        }
      ]
    },
    {
      "cell_type": "code",
      "metadata": {
        "id": "A8X9cyR8FUX-"
      },
      "source": [
        "file_name = '/content/drive/My Drive/foodie API/food.zip'"
      ],
      "execution_count": 6,
      "outputs": []
    },
    {
      "cell_type": "code",
      "metadata": {
        "id": "8Ixv6Ba0iyv7"
      },
      "source": [
        "names=[\n",
        " 'tacos',\n",
        " 'pizza',\n",
        " 'hamburger',\n",
        " 'spaghetti_bolognese',\n",
        " 'sushi'\n",
        "]"
      ],
      "execution_count": 7,
      "outputs": []
    },
    {
      "cell_type": "code",
      "metadata": {
        "id": "KUaKp6Tinsp_"
      },
      "source": [
        "from zipfile import ZipFile \n",
        "\n",
        "archive = ZipFile(file_name)\n",
        "\n",
        "for file in archive.namelist():\n",
        "  \n",
        "  if file.split('/')[1] in names[0:20]:\n",
        "      archive.extract(file)"
      ],
      "execution_count": 8,
      "outputs": []
    },
    {
      "cell_type": "code",
      "metadata": {
        "id": "kaORjlzWmYKl"
      },
      "source": [
        "train_datagen = ImageDataGenerator(\n",
        "        rescale=1. / 255,\n",
        "        horizontal_flip=True)"
      ],
      "execution_count": 9,
      "outputs": []
    },
    {
      "cell_type": "code",
      "metadata": {
        "id": "ExfRC_n9mYQ_"
      },
      "source": [
        "test_datagen = ImageDataGenerator(rescale=1. / 255)"
      ],
      "execution_count": 10,
      "outputs": []
    },
    {
      "cell_type": "code",
      "metadata": {
        "id": "6mrQkp5GmYTW",
        "outputId": "b01c1499-b8af-41cb-846b-cc4a7197807f",
        "colab": {
          "base_uri": "https://localhost:8080/",
          "height": 34
        }
      },
      "source": [
        "train_generator = train_datagen.flow_from_directory(\n",
        "    '/content/train',\n",
        "    target_size=(75,75),\n",
        "    batch_size=80,\n",
        "    class_mode='categorical',\n",
        "    color_mode='rgb')"
      ],
      "execution_count": 11,
      "outputs": [
        {
          "output_type": "stream",
          "text": [
            "Found 3750 images belonging to 5 classes.\n"
          ],
          "name": "stdout"
        }
      ]
    },
    {
      "cell_type": "code",
      "metadata": {
        "id": "3VieON_GmYXv",
        "outputId": "fc123dae-f68f-4178-f5a0-be0c93cd8c2c",
        "colab": {
          "base_uri": "https://localhost:8080/",
          "height": 34
        }
      },
      "source": [
        "test_generator = test_datagen.flow_from_directory(\n",
        "    '/content/test',\n",
        "    target_size=(75,75),\n",
        "    batch_size=80,\n",
        "    class_mode='categorical',\n",
        "    color_mode='rgb')"
      ],
      "execution_count": 12,
      "outputs": [
        {
          "output_type": "stream",
          "text": [
            "Found 1250 images belonging to 5 classes.\n"
          ],
          "name": "stdout"
        }
      ]
    },
    {
      "cell_type": "code",
      "metadata": {
        "id": "0-vN5d00nD-0",
        "outputId": "be08a4ac-aac2-4bba-ce00-dcbc7baaa943",
        "colab": {
          "base_uri": "https://localhost:8080/",
          "height": 285
        }
      },
      "source": [
        "plt.imshow(train_generator[0][0][0])"
      ],
      "execution_count": 13,
      "outputs": [
        {
          "output_type": "execute_result",
          "data": {
            "text/plain": [
              "<matplotlib.image.AxesImage at 0x7ff1b61df518>"
            ]
          },
          "metadata": {
            "tags": []
          },
          "execution_count": 13
        },
        {
          "output_type": "display_data",
          "data": {
            "image/png": "[encoded data removed]",
            "text/plain": [
              "<Figure size 432x288 with 1 Axes>"
            ]
          },
          "metadata": {
            "tags": [],
            "needs_background": "light"
          }
        }
      ]
    },
    {
      "cell_type": "code",
      "metadata": {
        "id": "zdJPmouQnEBn"
      },
      "source": [
        ""
      ],
      "execution_count": 13,
      "outputs": []
    },
    {
      "cell_type": "code",
      "metadata": {
        "id": "TBAQcF-18Mka"
      },
      "source": [
        "os.mkdir('../content/models/')"
      ],
      "execution_count": 14,
      "outputs": []
    },
    {
      "cell_type": "markdown",
      "metadata": {
        "id": "toi-X5LnnVbi"
      },
      "source": [
        "We define our net topology\n"
      ]
    },
    {
      "cell_type": "code",
      "metadata": {
        "id": "JvHDiSDHnEHG"
      },
      "source": [
        "epocas=50\n",
        "n_classes=len(train_generator.class_indices)\n",
        "#opt = tf.keras.optimizers.Adam(learning_rate=0.1)\n",
        "#optimizer = tf.train.AdamOptimizer(0.001)\n",
        "opt = SGD(lr=1e-2, momentum=0.9, decay=1e-2 / epocas)\n",
        "loss=\"categorical_crossentropy\"\n",
        "optimizers=[Adam(),Adadelta(),SGD(learning_rate=1)]"
      ],
      "execution_count": 15,
      "outputs": []
    },
    {
      "cell_type": "code",
      "metadata": {
        "id": "Qa6z_kyQnENj",
        "outputId": "e32fc454-cf45-4bbb-95f4-c7166da0a098",
        "colab": {
          "base_uri": "https://localhost:8080/",
          "height": 71
        }
      },
      "source": [
        "inception=InceptionV3(\n",
        "    include_top=False,\n",
        "    weights=\"imagenet\",\n",
        "    input_shape=(75,75,3),\n",
        "    pooling=None,\n",
        "    classes=n_classes,\n",
        "    classifier_activation=\"softmax\",\n",
        ")\n"
      ],
      "execution_count": 16,
      "outputs": [
        {
          "output_type": "stream",
          "text": [
            "Downloading data from https://storage.googleapis.com/tensorflow/keras-applications/inception_v3/inception_v3_weights_tf_dim_ordering_tf_kernels_notop.h5\n",
            "87916544/87910968 [==============================] - 2s 0us/step\n"
          ],
          "name": "stdout"
        }
      ]
    },
    {
      "cell_type": "code",
      "metadata": {
        "id": "MX8RPn6o-Cyn"
      },
      "source": [
        "x = inception.output\n",
        "x = GlobalAveragePooling2D()(x)\n",
        "x = Dense(128,activation='relu')(x)\n",
        "x = Dropout(0.8)(x)"
      ],
      "execution_count": 17,
      "outputs": []
    },
    {
      "cell_type": "code",
      "metadata": {
        "id": "dJR2_Ltg-Dft"
      },
      "source": [
        "predictions = Dense(n_classes,kernel_regularizer=l2(0.005), activation='softmax')(x)\n",
        "\n",
        "model = Model(inputs=inception.input, outputs=predictions)"
      ],
      "execution_count": 18,
      "outputs": []
    },
    {
      "cell_type": "code",
      "metadata": {
        "id": "cs1i3LXN-FIB"
      },
      "source": [
        "model.compile(optimizer=opt, loss=loss, metrics=['accuracy'])"
      ],
      "execution_count": 19,
      "outputs": []
    },
    {
      "cell_type": "code",
      "metadata": {
        "id": "ueyi7N8_-G2W"
      },
      "source": [
        "earlystopping = EarlyStopping(monitor='val_loss', patience=5, mode='min', verbose=1)\n",
        "\n",
        "checkpointer = ModelCheckpoint(filepath='../content/models/part_V2_check_5.hdf5', verbose=1, save_best_only=True)"
      ],
      "execution_count": 20,
      "outputs": []
    },
    {
      "cell_type": "code",
      "metadata": {
        "id": "EPcsLEJlnEYC",
        "outputId": "489f7071-f1d7-4fb3-823a-a4ce1c6d00dc",
        "colab": {
          "base_uri": "https://localhost:8080/",
          "height": 1000
        }
      },
      "source": [
        "history = model.fit(train_generator,\n",
        "                    validation_data=test_generator,\n",
        "                    epochs=epocas,\n",
        "                    verbose=1,\n",
        "                    callbacks=[earlystopping,checkpointer])\n",
        "\n"
      ],
      "execution_count": 21,
      "outputs": [
        {
          "output_type": "stream",
          "text": [
            "Epoch 1/50\n",
            "47/47 [==============================] - ETA: 0s - loss: 1.8087 - accuracy: 0.2091\n",
            "Epoch 00001: val_loss improved from inf to 694.24792, saving model to ../content/models/part_V2_check_5.hdf5\n",
            "47/47 [==============================] - 31s 665ms/step - loss: 1.8087 - accuracy: 0.2091 - val_loss: 694.2479 - val_accuracy: 0.2000\n",
            "Epoch 2/50\n",
            "47/47 [==============================] - ETA: 0s - loss: 1.7736 - accuracy: 0.2099\n",
            "Epoch 00002: val_loss improved from 694.24792 to 26.45380, saving model to ../content/models/part_V2_check_5.hdf5\n",
            "47/47 [==============================] - 27s 569ms/step - loss: 1.7736 - accuracy: 0.2099 - val_loss: 26.4538 - val_accuracy: 0.1864\n",
            "Epoch 3/50\n",
            "47/47 [==============================] - ETA: 0s - loss: 1.6479 - accuracy: 0.2035\n",
            "Epoch 00003: val_loss improved from 26.45380 to 1.67714, saving model to ../content/models/part_V2_check_5.hdf5\n",
            "47/47 [==============================] - 26s 558ms/step - loss: 1.6479 - accuracy: 0.2035 - val_loss: 1.6771 - val_accuracy: 0.2024\n",
            "Epoch 4/50\n",
            "47/47 [==============================] - ETA: 0s - loss: 1.6417 - accuracy: 0.2064\n",
            "Epoch 00004: val_loss improved from 1.67714 to 1.63796, saving model to ../content/models/part_V2_check_5.hdf5\n",
            "47/47 [==============================] - 26s 546ms/step - loss: 1.6417 - accuracy: 0.2064 - val_loss: 1.6380 - val_accuracy: 0.2200\n",
            "Epoch 5/50\n",
            "47/47 [==============================] - ETA: 0s - loss: 1.6384 - accuracy: 0.2013\n",
            "Epoch 00005: val_loss improved from 1.63796 to 1.63193, saving model to ../content/models/part_V2_check_5.hdf5\n",
            "47/47 [==============================] - 26s 561ms/step - loss: 1.6384 - accuracy: 0.2013 - val_loss: 1.6319 - val_accuracy: 0.2072\n",
            "Epoch 6/50\n",
            "47/47 [==============================] - ETA: 0s - loss: 1.6358 - accuracy: 0.1952\n",
            "Epoch 00006: val_loss improved from 1.63193 to 1.63045, saving model to ../content/models/part_V2_check_5.hdf5\n",
            "47/47 [==============================] - 26s 561ms/step - loss: 1.6358 - accuracy: 0.1952 - val_loss: 1.6305 - val_accuracy: 0.2120\n",
            "Epoch 7/50\n",
            "47/47 [==============================] - ETA: 0s - loss: 1.6321 - accuracy: 0.2115\n",
            "Epoch 00007: val_loss improved from 1.63045 to 1.62741, saving model to ../content/models/part_V2_check_5.hdf5\n",
            "47/47 [==============================] - 26s 545ms/step - loss: 1.6321 - accuracy: 0.2115 - val_loss: 1.6274 - val_accuracy: 0.2320\n",
            "Epoch 8/50\n",
            "47/47 [==============================] - ETA: 0s - loss: 1.6277 - accuracy: 0.2144\n",
            "Epoch 00008: val_loss improved from 1.62741 to 1.62346, saving model to ../content/models/part_V2_check_5.hdf5\n",
            "47/47 [==============================] - 26s 544ms/step - loss: 1.6277 - accuracy: 0.2144 - val_loss: 1.6235 - val_accuracy: 0.2352\n",
            "Epoch 9/50\n",
            "47/47 [==============================] - ETA: 0s - loss: 1.6234 - accuracy: 0.2093\n",
            "Epoch 00009: val_loss improved from 1.62346 to 1.59883, saving model to ../content/models/part_V2_check_5.hdf5\n",
            "47/47 [==============================] - 25s 540ms/step - loss: 1.6234 - accuracy: 0.2093 - val_loss: 1.5988 - val_accuracy: 0.2552\n",
            "Epoch 10/50\n",
            "47/47 [==============================] - ETA: 0s - loss: 1.6276 - accuracy: 0.2099\n",
            "Epoch 00010: val_loss did not improve from 1.59883\n",
            "47/47 [==============================] - 23s 483ms/step - loss: 1.6276 - accuracy: 0.2099 - val_loss: 1.6002 - val_accuracy: 0.2576\n",
            "Epoch 11/50\n",
            "47/47 [==============================] - ETA: 0s - loss: 1.6251 - accuracy: 0.2224\n",
            "Epoch 00011: val_loss did not improve from 1.59883\n",
            "47/47 [==============================] - 23s 492ms/step - loss: 1.6251 - accuracy: 0.2224 - val_loss: 1.6056 - val_accuracy: 0.2368\n",
            "Epoch 12/50\n",
            "47/47 [==============================] - ETA: 0s - loss: 1.6123 - accuracy: 0.2373\n",
            "Epoch 00012: val_loss improved from 1.59883 to 1.59756, saving model to ../content/models/part_V2_check_5.hdf5\n",
            "47/47 [==============================] - 24s 505ms/step - loss: 1.6123 - accuracy: 0.2373 - val_loss: 1.5976 - val_accuracy: 0.2264\n",
            "Epoch 13/50\n",
            "47/47 [==============================] - ETA: 0s - loss: 1.5837 - accuracy: 0.2840\n",
            "Epoch 00013: val_loss improved from 1.59756 to 1.56708, saving model to ../content/models/part_V2_check_5.hdf5\n",
            "47/47 [==============================] - 23s 499ms/step - loss: 1.5837 - accuracy: 0.2840 - val_loss: 1.5671 - val_accuracy: 0.3824\n",
            "Epoch 14/50\n",
            "47/47 [==============================] - ETA: 0s - loss: 1.5287 - accuracy: 0.3507\n",
            "Epoch 00014: val_loss did not improve from 1.56708\n",
            "47/47 [==============================] - 23s 488ms/step - loss: 1.5287 - accuracy: 0.3507 - val_loss: 1.5929 - val_accuracy: 0.3272\n",
            "Epoch 15/50\n",
            "47/47 [==============================] - ETA: 0s - loss: 1.4511 - accuracy: 0.3923\n",
            "Epoch 00015: val_loss improved from 1.56708 to 1.48457, saving model to ../content/models/part_V2_check_5.hdf5\n",
            "47/47 [==============================] - 26s 559ms/step - loss: 1.4511 - accuracy: 0.3923 - val_loss: 1.4846 - val_accuracy: 0.4208\n",
            "Epoch 16/50\n",
            "47/47 [==============================] - ETA: 0s - loss: 1.3422 - accuracy: 0.4456\n",
            "Epoch 00016: val_loss improved from 1.48457 to 1.40852, saving model to ../content/models/part_V2_check_5.hdf5\n",
            "47/47 [==============================] - 27s 569ms/step - loss: 1.3422 - accuracy: 0.4456 - val_loss: 1.4085 - val_accuracy: 0.4096\n",
            "Epoch 17/50\n",
            "47/47 [==============================] - ETA: 0s - loss: 1.2227 - accuracy: 0.4893\n",
            "Epoch 00017: val_loss improved from 1.40852 to 1.28336, saving model to ../content/models/part_V2_check_5.hdf5\n",
            "47/47 [==============================] - 27s 574ms/step - loss: 1.2227 - accuracy: 0.4893 - val_loss: 1.2834 - val_accuracy: 0.5312\n",
            "Epoch 18/50\n",
            "47/47 [==============================] - ETA: 0s - loss: 1.0758 - accuracy: 0.5795\n",
            "Epoch 00018: val_loss did not improve from 1.28336\n",
            "47/47 [==============================] - 26s 545ms/step - loss: 1.0758 - accuracy: 0.5795 - val_loss: 1.2857 - val_accuracy: 0.4488\n",
            "Epoch 19/50\n",
            "47/47 [==============================] - ETA: 0s - loss: 1.0098 - accuracy: 0.6203\n",
            "Epoch 00019: val_loss improved from 1.28336 to 1.20250, saving model to ../content/models/part_V2_check_5.hdf5\n",
            "47/47 [==============================] - 26s 560ms/step - loss: 1.0098 - accuracy: 0.6203 - val_loss: 1.2025 - val_accuracy: 0.5256\n",
            "Epoch 20/50\n",
            "47/47 [==============================] - ETA: 0s - loss: 0.9330 - accuracy: 0.6445\n",
            "Epoch 00020: val_loss did not improve from 1.20250\n",
            "47/47 [==============================] - 23s 496ms/step - loss: 0.9330 - accuracy: 0.6445 - val_loss: 1.2140 - val_accuracy: 0.4672\n",
            "Epoch 21/50\n",
            "47/47 [==============================] - ETA: 0s - loss: 0.9115 - accuracy: 0.6779\n",
            "Epoch 00021: val_loss improved from 1.20250 to 1.14065, saving model to ../content/models/part_V2_check_5.hdf5\n",
            "47/47 [==============================] - 26s 564ms/step - loss: 0.9115 - accuracy: 0.6779 - val_loss: 1.1406 - val_accuracy: 0.6072\n",
            "Epoch 22/50\n",
            "47/47 [==============================] - ETA: 0s - loss: 0.7834 - accuracy: 0.7224\n",
            "Epoch 00022: val_loss improved from 1.14065 to 0.94700, saving model to ../content/models/part_V2_check_5.hdf5\n",
            "47/47 [==============================] - 26s 563ms/step - loss: 0.7834 - accuracy: 0.7224 - val_loss: 0.9470 - val_accuracy: 0.6496\n",
            "Epoch 23/50\n",
            "47/47 [==============================] - ETA: 0s - loss: 0.7172 - accuracy: 0.7512\n",
            "Epoch 00023: val_loss improved from 0.94700 to 0.91033, saving model to ../content/models/part_V2_check_5.hdf5\n",
            "47/47 [==============================] - 25s 541ms/step - loss: 0.7172 - accuracy: 0.7512 - val_loss: 0.9103 - val_accuracy: 0.7016\n",
            "Epoch 24/50\n",
            "47/47 [==============================] - ETA: 0s - loss: 0.6449 - accuracy: 0.7800\n",
            "Epoch 00024: val_loss improved from 0.91033 to 0.83150, saving model to ../content/models/part_V2_check_5.hdf5\n",
            "47/47 [==============================] - 26s 550ms/step - loss: 0.6449 - accuracy: 0.7800 - val_loss: 0.8315 - val_accuracy: 0.6960\n",
            "Epoch 25/50\n",
            "47/47 [==============================] - ETA: 0s - loss: 0.6465 - accuracy: 0.7936\n",
            "Epoch 00025: val_loss improved from 0.83150 to 0.82599, saving model to ../content/models/part_V2_check_5.hdf5\n",
            "47/47 [==============================] - 26s 557ms/step - loss: 0.6465 - accuracy: 0.7936 - val_loss: 0.8260 - val_accuracy: 0.7040\n",
            "Epoch 26/50\n",
            "47/47 [==============================] - ETA: 0s - loss: 0.5721 - accuracy: 0.8173\n",
            "Epoch 00026: val_loss did not improve from 0.82599\n",
            "47/47 [==============================] - 24s 519ms/step - loss: 0.5721 - accuracy: 0.8173 - val_loss: 1.0548 - val_accuracy: 0.6464\n",
            "Epoch 27/50\n",
            "47/47 [==============================] - ETA: 0s - loss: 0.5196 - accuracy: 0.8336\n",
            "Epoch 00027: val_loss did not improve from 0.82599\n",
            "47/47 [==============================] - 25s 523ms/step - loss: 0.5196 - accuracy: 0.8336 - val_loss: 0.9517 - val_accuracy: 0.7056\n",
            "Epoch 28/50\n",
            "47/47 [==============================] - ETA: 0s - loss: 0.4555 - accuracy: 0.8547\n",
            "Epoch 00028: val_loss improved from 0.82599 to 0.77141, saving model to ../content/models/part_V2_check_5.hdf5\n",
            "47/47 [==============================] - 25s 537ms/step - loss: 0.4555 - accuracy: 0.8547 - val_loss: 0.7714 - val_accuracy: 0.7264\n",
            "Epoch 29/50\n",
            "47/47 [==============================] - ETA: 0s - loss: 0.4180 - accuracy: 0.8779\n",
            "Epoch 00029: val_loss did not improve from 0.77141\n",
            "47/47 [==============================] - 24s 500ms/step - loss: 0.4180 - accuracy: 0.8779 - val_loss: 1.0800 - val_accuracy: 0.6688\n",
            "Epoch 30/50\n",
            "47/47 [==============================] - ETA: 0s - loss: 0.3838 - accuracy: 0.8939\n",
            "Epoch 00030: val_loss did not improve from 0.77141\n",
            "47/47 [==============================] - 24s 519ms/step - loss: 0.3838 - accuracy: 0.8939 - val_loss: 1.0415 - val_accuracy: 0.6880\n",
            "Epoch 31/50\n",
            "47/47 [==============================] - ETA: 0s - loss: 0.3882 - accuracy: 0.8859\n",
            "Epoch 00031: val_loss did not improve from 0.77141\n",
            "47/47 [==============================] - 23s 497ms/step - loss: 0.3882 - accuracy: 0.8859 - val_loss: 0.8594 - val_accuracy: 0.7416\n",
            "Epoch 32/50\n",
            "47/47 [==============================] - ETA: 0s - loss: 0.3358 - accuracy: 0.9099\n",
            "Epoch 00032: val_loss did not improve from 0.77141\n",
            "47/47 [==============================] - 22s 478ms/step - loss: 0.3358 - accuracy: 0.9099 - val_loss: 1.1948 - val_accuracy: 0.6936\n",
            "Epoch 33/50\n",
            "47/47 [==============================] - ETA: 0s - loss: 0.2984 - accuracy: 0.9224\n",
            "Epoch 00033: val_loss did not improve from 0.77141\n",
            "47/47 [==============================] - 23s 480ms/step - loss: 0.2984 - accuracy: 0.9224 - val_loss: 1.2488 - val_accuracy: 0.6848\n",
            "Epoch 00033: early stopping\n"
          ],
          "name": "stdout"
        }
      ]
    },
    {
      "cell_type": "code",
      "metadata": {
        "id": "JKXdXgNVuSJZ",
        "outputId": "87851d4b-a460-45de-9c97-f72e01e097c5",
        "colab": {
          "base_uri": "https://localhost:8080/",
          "height": 513
        }
      },
      "source": [
        "plt.figure(figsize=(8,8))\n",
        "plt.subplot(2,1,1)\n",
        "plt.title('InceptionV3 model')\n",
        "plt.plot(history.history['accuracy'],'r')\n",
        "plt.ylabel('Accuracy')\n",
        "plt.plot(history.history['val_accuracy'],'y')\n",
        "plt.legend(['train accuracy','validation accuracy'], loc='best')\n",
        "\n",
        "\n",
        "\n",
        "plt.subplot(2,1,2)\n",
        "plt.plot(history.history['loss'],'g')\n",
        "plt.ylabel('Loss')\n",
        "plt.xlabel('Epoch')\n",
        "plt.plot(history.history['val_loss'],'b')\n",
        "plt.legend(['train loss','validation loss'], loc='best')\n",
        "\n",
        "\n",
        "plt.savefig('../content/models/graphV2_5.png')"
      ],
      "execution_count": 22,
      "outputs": [
        {
          "output_type": "display_data",
          "data": {
            "image/png": "[encoded data removed]",
            "text/plain": [
              "<Figure size 576x576 with 2 Axes>"
            ]
          },
          "metadata": {
            "tags": [],
            "needs_background": "light"
          }
        }
      ]
    },
    {
      "cell_type": "code",
      "metadata": {
        "id": "gId_lPGbXMfa"
      },
      "source": [
        "model.save('../content/models/part_V2_model_5.hdf5')"
      ],
      "execution_count": 23,
      "outputs": []
    },
    {
      "cell_type": "code",
      "metadata": {
        "id": "wnmPFgHTnEcW",
        "outputId": "00dc2095-a6fe-445f-ef7b-05448aa73ec8",
        "colab": {
          "base_uri": "https://localhost:8080/",
          "height": 17
        }
      },
      "source": [
        "files.download('../content/models/graphV2_5.png')"
      ],
      "execution_count": 24,
      "outputs": [
        {
          "output_type": "display_data",
          "data": {
            "application/javascript": [
              "\n",
              "    async function download(id, filename, size) {\n",
              "      if (!google.colab.kernel.accessAllowed) {\n",
              "        return;\n",
              "      }\n",
              "      const div = document.createElement('div');\n",
              "      const label = document.createElement('label');\n",
              "      label.textContent = `Downloading \"${filename}\": `;\n",
              "      div.appendChild(label);\n",
              "      const progress = document.createElement('progress');\n",
              "      progress.max = size;\n",
              "      div.appendChild(progress);\n",
              "      document.body.appendChild(div);\n",
              "\n",
              "      const buffers = [];\n",
              "      let downloaded = 0;\n",
              "\n",
              "      const channel = await google.colab.kernel.comms.open(id);\n",
              "      // Send a message to notify the kernel that we're ready.\n",
              "      channel.send({})\n",
              "\n",
              "      for await (const message of channel.messages) {\n",
              "        // Send a message to notify the kernel that we're ready.\n",
              "        channel.send({})\n",
              "        if (message.buffers) {\n",
              "          for (const buffer of message.buffers) {\n",
              "            buffers.push(buffer);\n",
              "            downloaded += buffer.byteLength;\n",
              "            progress.value = downloaded;\n",
              "          }\n",
              "        }\n",
              "      }\n",
              "      const blob = new Blob(buffers, {type: 'application/binary'});\n",
              "      const a = document.createElement('a');\n",
              "      a.href = window.URL.createObjectURL(blob);\n",
              "      a.download = filename;\n",
              "      div.appendChild(a);\n",
              "      a.click();\n",
              "      div.remove();\n",
              "    }\n",
              "  "
            ],
            "text/plain": [
              "<IPython.core.display.Javascript object>"
            ]
          },
          "metadata": {
            "tags": []
          }
        },
        {
          "output_type": "display_data",
          "data": {
            "application/javascript": [
              "download(\"download_6906099e-25d2-4511-a85a-57de91145a81\", \"graphV2_5.png\", 33277)"
            ],
            "text/plain": [
              "<IPython.core.display.Javascript object>"
            ]
          },
          "metadata": {
            "tags": []
          }
        }
      ]
    },
    {
      "cell_type": "code",
      "metadata": {
        "id": "YkHm3uAknEfy",
        "outputId": "a4fbe18a-8295-46fc-8fb0-5d1956e0fbe3",
        "colab": {
          "base_uri": "https://localhost:8080/",
          "height": 17
        }
      },
      "source": [
        "files.download('../content/models/part_V2_check_5.hdf5')"
      ],
      "execution_count": 25,
      "outputs": [
        {
          "output_type": "display_data",
          "data": {
            "application/javascript": [
              "\n",
              "    async function download(id, filename, size) {\n",
              "      if (!google.colab.kernel.accessAllowed) {\n",
              "        return;\n",
              "      }\n",
              "      const div = document.createElement('div');\n",
              "      const label = document.createElement('label');\n",
              "      label.textContent = `Downloading \"${filename}\": `;\n",
              "      div.appendChild(label);\n",
              "      const progress = document.createElement('progress');\n",
              "      progress.max = size;\n",
              "      div.appendChild(progress);\n",
              "      document.body.appendChild(div);\n",
              "\n",
              "      const buffers = [];\n",
              "      let downloaded = 0;\n",
              "\n",
              "      const channel = await google.colab.kernel.comms.open(id);\n",
              "      // Send a message to notify the kernel that we're ready.\n",
              "      channel.send({})\n",
              "\n",
              "      for await (const message of channel.messages) {\n",
              "        // Send a message to notify the kernel that we're ready.\n",
              "        channel.send({})\n",
              "        if (message.buffers) {\n",
              "          for (const buffer of message.buffers) {\n",
              "            buffers.push(buffer);\n",
              "            downloaded += buffer.byteLength;\n",
              "            progress.value = downloaded;\n",
              "          }\n",
              "        }\n",
              "      }\n",
              "      const blob = new Blob(buffers, {type: 'application/binary'});\n",
              "      const a = document.createElement('a');\n",
              "      a.href = window.URL.createObjectURL(blob);\n",
              "      a.download = filename;\n",
              "      div.appendChild(a);\n",
              "      a.click();\n",
              "      div.remove();\n",
              "    }\n",
              "  "
            ],
            "text/plain": [
              "<IPython.core.display.Javascript object>"
            ]
          },
          "metadata": {
            "tags": []
          }
        },
        {
          "output_type": "display_data",
          "data": {
            "application/javascript": [
              "download(\"download_43f34c39-e354-41ad-bf63-70b74cc16a07\", \"part_V2_check_5.hdf5\", 177721480)"
            ],
            "text/plain": [
              "<IPython.core.display.Javascript object>"
            ]
          },
          "metadata": {
            "tags": []
          }
        }
      ]
    },
    {
      "cell_type": "code",
      "metadata": {
        "id": "OBxFH57onEa7",
        "outputId": "3cc656c1-718b-4507-a0a4-d8cb1e98a9b9",
        "colab": {
          "base_uri": "https://localhost:8080/",
          "height": 17
        }
      },
      "source": [
        "files.download('../content/models/part_V2_model_5.hdf5')"
      ],
      "execution_count": 26,
      "outputs": [
        {
          "output_type": "display_data",
          "data": {
            "application/javascript": [
              "\n",
              "    async function download(id, filename, size) {\n",
              "      if (!google.colab.kernel.accessAllowed) {\n",
              "        return;\n",
              "      }\n",
              "      const div = document.createElement('div');\n",
              "      const label = document.createElement('label');\n",
              "      label.textContent = `Downloading \"${filename}\": `;\n",
              "      div.appendChild(label);\n",
              "      const progress = document.createElement('progress');\n",
              "      progress.max = size;\n",
              "      div.appendChild(progress);\n",
              "      document.body.appendChild(div);\n",
              "\n",
              "      const buffers = [];\n",
              "      let downloaded = 0;\n",
              "\n",
              "      const channel = await google.colab.kernel.comms.open(id);\n",
              "      // Send a message to notify the kernel that we're ready.\n",
              "      channel.send({})\n",
              "\n",
              "      for await (const message of channel.messages) {\n",
              "        // Send a message to notify the kernel that we're ready.\n",
              "        channel.send({})\n",
              "        if (message.buffers) {\n",
              "          for (const buffer of message.buffers) {\n",
              "            buffers.push(buffer);\n",
              "            downloaded += buffer.byteLength;\n",
              "            progress.value = downloaded;\n",
              "          }\n",
              "        }\n",
              "      }\n",
              "      const blob = new Blob(buffers, {type: 'application/binary'});\n",
              "      const a = document.createElement('a');\n",
              "      a.href = window.URL.createObjectURL(blob);\n",
              "      a.download = filename;\n",
              "      div.appendChild(a);\n",
              "      a.click();\n",
              "      div.remove();\n",
              "    }\n",
              "  "
            ],
            "text/plain": [
              "<IPython.core.display.Javascript object>"
            ]
          },
          "metadata": {
            "tags": []
          }
        },
        {
          "output_type": "display_data",
          "data": {
            "application/javascript": [
              "download(\"download_b10d68f8-f0aa-42c4-bdd4-973a586e0620\", \"part_V2_model_5.hdf5\", 177721480)"
            ],
            "text/plain": [
              "<IPython.core.display.Javascript object>"
            ]
          },
          "metadata": {
            "tags": []
          }
        }
      ]
    },
    {
      "cell_type": "code",
      "metadata": {
        "id": "gv_l5zFhnEWS"
      },
      "source": [
        "y_pred=model.predict(test_generator)"
      ],
      "execution_count": 27,
      "outputs": []
    },
    {
      "cell_type": "code",
      "metadata": {
        "id": "i_YHYiVmnELZ"
      },
      "source": [
        "y_pred = np.argmax(y_pred, axis=1)"
      ],
      "execution_count": 28,
      "outputs": []
    },
    {
      "cell_type": "code",
      "metadata": {
        "id": "kPRL9bxPnEJ1",
        "outputId": "1d8b43d8-4ce3-4093-8ea3-f9b7aa80df48",
        "colab": {
          "base_uri": "https://localhost:8080/",
          "height": 283
        }
      },
      "source": [
        "#Confusion Matrix \n",
        "cm=confusion_matrix(test_generator.classes, y_pred)\n",
        "sns.heatmap(cm,annot=True)"
      ],
      "execution_count": 29,
      "outputs": [
        {
          "output_type": "execute_result",
          "data": {
            "text/plain": [
              "<matplotlib.axes._subplots.AxesSubplot at 0x7ff157e66550>"
            ]
          },
          "metadata": {
            "tags": []
          },
          "execution_count": 29
        },
        {
          "output_type": "display_data",
          "data": {
            "image/png": "[encoded data removed]",
            "text/plain": [
              "<Figure size 432x288 with 2 Axes>"
            ]
          },
          "metadata": {
            "tags": [],
            "needs_background": "light"
          }
        }
      ]
    },
    {
      "cell_type": "code",
      "metadata": {
        "id": "0TmD4rQr-itz"
      },
      "source": [
        ""
      ],
      "execution_count": 29,
      "outputs": []
    }
  ]
}