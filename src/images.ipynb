{
 "cells": [
  {
   "cell_type": "code",
   "execution_count": 21,
   "metadata": {},
   "outputs": [],
   "source": [
    "import cv2\n",
    "import glob\n",
    "import re\n",
    "import pandas as pd\n",
    "from keras.preprocessing.image import ImageDataGenerator\n",
    "import matplotlib.pyplot as plt\n",
    "from PIL import Image\n",
    "import numpy as np\n",
    "from sklearn import preprocessing\n",
    "from sklearn.model_selection import train_test_split"
   ]
  },
  {
   "cell_type": "markdown",
   "metadata": {},
   "source": [
    "### We want to extract every different dish we have in our subfolders"
   ]
  },
  {
   "cell_type": "code",
   "execution_count": 2,
   "metadata": {},
   "outputs": [],
   "source": [
    "path = \"../input/images/\""
   ]
  },
  {
   "cell_type": "code",
   "execution_count": 3,
   "metadata": {},
   "outputs": [],
   "source": [
    "folders=glob.glob(f'{path}*')"
   ]
  },
  {
   "cell_type": "code",
   "execution_count": 4,
   "metadata": {},
   "outputs": [],
   "source": [
    "def take_dish_name(path):\n",
    "    dishes=glob.glob(f'{path}*')\n",
    "    names=[]\n",
    "    for dish in dishes:\n",
    "        names.append(dish.replace(r'../input/images/',''))\n",
    "    return names"
   ]
  },
  {
   "cell_type": "code",
   "execution_count": 5,
   "metadata": {},
   "outputs": [],
   "source": [
    "names=take_dish_name(path)"
   ]
  },
  {
   "cell_type": "code",
   "execution_count": 6,
   "metadata": {},
   "outputs": [
    {
     "data": {
      "text/plain": [
       "'lobster_roll_sandwich'"
      ]
     },
     "execution_count": 6,
     "metadata": {},
     "output_type": "execute_result"
    }
   ],
   "source": [
    "names[0]"
   ]
  },
  {
   "cell_type": "code",
   "execution_count": 7,
   "metadata": {},
   "outputs": [],
   "source": [
    "def pictures_to_df(path=\"../input/images/\"):\n",
    "\n",
    "    dishes = [\n",
    "        *glob.glob(f\"{path}/**/*.jpg\"),\n",
    "        *glob.glob(f\"{path}/**/*.JPG\")\n",
    "    ]\n",
    "    pictures = pd.DataFrame({\n",
    "        \"path\": dishes\n",
    "    })\n",
    "\n",
    "    pictures['dish']=pictures.path.apply(lambda x: x.split(\"/\")[3])\n",
    "    return pictures\n"
   ]
  },
  {
   "cell_type": "code",
   "execution_count": 8,
   "metadata": {},
   "outputs": [],
   "source": [
    "pictures=pictures_to_df(path=\"../input/images/\")"
   ]
  },
  {
   "cell_type": "code",
   "execution_count": 15,
   "metadata": {},
   "outputs": [
    {
     "data": {
      "text/html": [
       "<div>\n",
       "<style scoped>\n",
       "    .dataframe tbody tr th:only-of-type {\n",
       "        vertical-align: middle;\n",
       "    }\n",
       "\n",
       "    .dataframe tbody tr th {\n",
       "        vertical-align: top;\n",
       "    }\n",
       "\n",
       "    .dataframe thead th {\n",
       "        text-align: right;\n",
       "    }\n",
       "</style>\n",
       "<table border=\"1\" class=\"dataframe\">\n",
       "  <thead>\n",
       "    <tr style=\"text-align: right;\">\n",
       "      <th></th>\n",
       "      <th>path</th>\n",
       "      <th>dish</th>\n",
       "    </tr>\n",
       "  </thead>\n",
       "  <tbody>\n",
       "    <tr>\n",
       "      <th>0</th>\n",
       "      <td>../input/images/lobster_roll_sandwich/2019505.jpg</td>\n",
       "      <td>lobster_roll_sandwich</td>\n",
       "    </tr>\n",
       "    <tr>\n",
       "      <th>1</th>\n",
       "      <td>../input/images/lobster_roll_sandwich/708911.jpg</td>\n",
       "      <td>lobster_roll_sandwich</td>\n",
       "    </tr>\n",
       "    <tr>\n",
       "      <th>2</th>\n",
       "      <td>../input/images/lobster_roll_sandwich/784321.jpg</td>\n",
       "      <td>lobster_roll_sandwich</td>\n",
       "    </tr>\n",
       "    <tr>\n",
       "      <th>3</th>\n",
       "      <td>../input/images/lobster_roll_sandwich/1626426.jpg</td>\n",
       "      <td>lobster_roll_sandwich</td>\n",
       "    </tr>\n",
       "    <tr>\n",
       "      <th>4</th>\n",
       "      <td>../input/images/lobster_roll_sandwich/849365.jpg</td>\n",
       "      <td>lobster_roll_sandwich</td>\n",
       "    </tr>\n",
       "    <tr>\n",
       "      <th>...</th>\n",
       "      <td>...</td>\n",
       "      <td>...</td>\n",
       "    </tr>\n",
       "    <tr>\n",
       "      <th>100995</th>\n",
       "      <td>../input/images/pork_chop/3757142.jpg</td>\n",
       "      <td>pork_chop</td>\n",
       "    </tr>\n",
       "    <tr>\n",
       "      <th>100996</th>\n",
       "      <td>../input/images/pork_chop/3648040.jpg</td>\n",
       "      <td>pork_chop</td>\n",
       "    </tr>\n",
       "    <tr>\n",
       "      <th>100997</th>\n",
       "      <td>../input/images/pork_chop/1325768.jpg</td>\n",
       "      <td>pork_chop</td>\n",
       "    </tr>\n",
       "    <tr>\n",
       "      <th>100998</th>\n",
       "      <td>../input/images/pork_chop/766176.jpg</td>\n",
       "      <td>pork_chop</td>\n",
       "    </tr>\n",
       "    <tr>\n",
       "      <th>100999</th>\n",
       "      <td>../input/images/pork_chop/1490214.jpg</td>\n",
       "      <td>pork_chop</td>\n",
       "    </tr>\n",
       "  </tbody>\n",
       "</table>\n",
       "<p>101000 rows × 2 columns</p>\n",
       "</div>"
      ],
      "text/plain": [
       "                                                     path  \\\n",
       "0       ../input/images/lobster_roll_sandwich/2019505.jpg   \n",
       "1        ../input/images/lobster_roll_sandwich/708911.jpg   \n",
       "2        ../input/images/lobster_roll_sandwich/784321.jpg   \n",
       "3       ../input/images/lobster_roll_sandwich/1626426.jpg   \n",
       "4        ../input/images/lobster_roll_sandwich/849365.jpg   \n",
       "...                                                   ...   \n",
       "100995              ../input/images/pork_chop/3757142.jpg   \n",
       "100996              ../input/images/pork_chop/3648040.jpg   \n",
       "100997              ../input/images/pork_chop/1325768.jpg   \n",
       "100998               ../input/images/pork_chop/766176.jpg   \n",
       "100999              ../input/images/pork_chop/1490214.jpg   \n",
       "\n",
       "                         dish  \n",
       "0       lobster_roll_sandwich  \n",
       "1       lobster_roll_sandwich  \n",
       "2       lobster_roll_sandwich  \n",
       "3       lobster_roll_sandwich  \n",
       "4       lobster_roll_sandwich  \n",
       "...                       ...  \n",
       "100995              pork_chop  \n",
       "100996              pork_chop  \n",
       "100997              pork_chop  \n",
       "100998              pork_chop  \n",
       "100999              pork_chop  \n",
       "\n",
       "[101000 rows x 2 columns]"
      ]
     },
     "execution_count": 15,
     "metadata": {},
     "output_type": "execute_result"
    }
   ],
   "source": [
    "pictures"
   ]
  },
  {
   "cell_type": "code",
   "execution_count": 16,
   "metadata": {},
   "outputs": [],
   "source": [
    "le = preprocessing.LabelEncoder()\n",
    "pictures['dish_ord'] = le.fit_transform(pictures['dish'])"
   ]
  },
  {
   "cell_type": "code",
   "execution_count": 18,
   "metadata": {},
   "outputs": [
    {
     "data": {
      "text/html": [
       "<div>\n",
       "<style scoped>\n",
       "    .dataframe tbody tr th:only-of-type {\n",
       "        vertical-align: middle;\n",
       "    }\n",
       "\n",
       "    .dataframe tbody tr th {\n",
       "        vertical-align: top;\n",
       "    }\n",
       "\n",
       "    .dataframe thead th {\n",
       "        text-align: right;\n",
       "    }\n",
       "</style>\n",
       "<table border=\"1\" class=\"dataframe\">\n",
       "  <thead>\n",
       "    <tr style=\"text-align: right;\">\n",
       "      <th></th>\n",
       "      <th>path</th>\n",
       "      <th>dish</th>\n",
       "      <th>dish_ord</th>\n",
       "    </tr>\n",
       "  </thead>\n",
       "  <tbody>\n",
       "    <tr>\n",
       "      <th>0</th>\n",
       "      <td>../input/images/lobster_roll_sandwich/2019505.jpg</td>\n",
       "      <td>lobster_roll_sandwich</td>\n",
       "      <td>61</td>\n",
       "    </tr>\n",
       "    <tr>\n",
       "      <th>1</th>\n",
       "      <td>../input/images/lobster_roll_sandwich/708911.jpg</td>\n",
       "      <td>lobster_roll_sandwich</td>\n",
       "      <td>61</td>\n",
       "    </tr>\n",
       "    <tr>\n",
       "      <th>2</th>\n",
       "      <td>../input/images/lobster_roll_sandwich/784321.jpg</td>\n",
       "      <td>lobster_roll_sandwich</td>\n",
       "      <td>61</td>\n",
       "    </tr>\n",
       "    <tr>\n",
       "      <th>3</th>\n",
       "      <td>../input/images/lobster_roll_sandwich/1626426.jpg</td>\n",
       "      <td>lobster_roll_sandwich</td>\n",
       "      <td>61</td>\n",
       "    </tr>\n",
       "    <tr>\n",
       "      <th>4</th>\n",
       "      <td>../input/images/lobster_roll_sandwich/849365.jpg</td>\n",
       "      <td>lobster_roll_sandwich</td>\n",
       "      <td>61</td>\n",
       "    </tr>\n",
       "  </tbody>\n",
       "</table>\n",
       "</div>"
      ],
      "text/plain": [
       "                                                path                   dish  \\\n",
       "0  ../input/images/lobster_roll_sandwich/2019505.jpg  lobster_roll_sandwich   \n",
       "1   ../input/images/lobster_roll_sandwich/708911.jpg  lobster_roll_sandwich   \n",
       "2   ../input/images/lobster_roll_sandwich/784321.jpg  lobster_roll_sandwich   \n",
       "3  ../input/images/lobster_roll_sandwich/1626426.jpg  lobster_roll_sandwich   \n",
       "4   ../input/images/lobster_roll_sandwich/849365.jpg  lobster_roll_sandwich   \n",
       "\n",
       "   dish_ord  \n",
       "0        61  \n",
       "1        61  \n",
       "2        61  \n",
       "3        61  \n",
       "4        61  "
      ]
     },
     "execution_count": 18,
     "metadata": {},
     "output_type": "execute_result"
    }
   ],
   "source": [
    "pictures.head()"
   ]
  },
  {
   "cell_type": "markdown",
   "metadata": {},
   "source": [
    "### Displaying photos to check them"
   ]
  },
  {
   "cell_type": "code",
   "execution_count": 34,
   "metadata": {},
   "outputs": [
    {
     "data": {
      "text/plain": [
       "<matplotlib.image.AxesImage at 0x7fdcb0014c40>"
      ]
     },
     "execution_count": 34,
     "metadata": {},
     "output_type": "execute_result"
    },
    {
     "data": {
      "image/png": "[encoded data removed]",
      "text/plain": [
       "<Figure size 432x288 with 1 Axes>"
      ]
     },
     "metadata": {
      "needs_background": "light"
     },
     "output_type": "display_data"
    }
   ],
   "source": [
    "img = Image.open(\"../input/images/pizza/2965.jpg\")\n",
    "imgbw = np.array(img.convert(\"L\"))\n",
    "plt.imshow(imgbw, cmap=\"gray\")"
   ]
  },
  {
   "cell_type": "markdown",
   "metadata": {},
   "source": [
    "### We create our X_train,X_test and X_val to train out neural net"
   ]
  },
  {
   "cell_type": "code",
   "execution_count": 19,
   "metadata": {},
   "outputs": [],
   "source": [
    "X=pictures['path']"
   ]
  },
  {
   "cell_type": "code",
   "execution_count": 20,
   "metadata": {},
   "outputs": [],
   "source": [
    "y=pictures['dish_ord']"
   ]
  },
  {
   "cell_type": "code",
   "execution_count": 31,
   "metadata": {},
   "outputs": [],
   "source": [
    "X_train,X_test,y_train,y_test=train_test_split(X,y,test_size=0.15)"
   ]
  },
  {
   "cell_type": "code",
   "execution_count": 32,
   "metadata": {},
   "outputs": [],
   "source": [
    "X_train,X_val,y_train,y_val=train_test_split(X_train,y_train,test_size=0.15)"
   ]
  },
  {
   "cell_type": "code",
   "execution_count": 33,
   "metadata": {},
   "outputs": [
    {
     "data": {
      "text/plain": [
       "(72972,)"
      ]
     },
     "execution_count": 33,
     "metadata": {},
     "output_type": "execute_result"
    }
   ],
   "source": [
    "X_train.shape"
   ]
  },
  {
   "cell_type": "code",
   "execution_count": 34,
   "metadata": {},
   "outputs": [
    {
     "data": {
      "text/plain": [
       "(15150,)"
      ]
     },
     "execution_count": 34,
     "metadata": {},
     "output_type": "execute_result"
    }
   ],
   "source": [
    "X_test.shape"
   ]
  },
  {
   "cell_type": "code",
   "execution_count": 35,
   "metadata": {},
   "outputs": [
    {
     "data": {
      "text/plain": [
       "(12878,)"
      ]
     },
     "execution_count": 35,
     "metadata": {},
     "output_type": "execute_result"
    }
   ],
   "source": [
    "X_val.shape"
   ]
  },
  {
   "cell_type": "code",
   "execution_count": 41,
   "metadata": {},
   "outputs": [
    {
     "data": {
      "text/plain": [
       "101000"
      ]
     },
     "execution_count": 41,
     "metadata": {},
     "output_type": "execute_result"
    }
   ],
   "source": [
    "X_train.shape[0]+X_test.shape[0]+X_val.shape[0]"
   ]
  },
  {
   "cell_type": "markdown",
   "metadata": {},
   "source": [
    "### Divinding photos by classes"
   ]
  },
  {
   "cell_type": "code",
   "execution_count": 5,
   "metadata": {},
   "outputs": [],
   "source": [
    "datagen=keras.preprocessing.image.ImageDataGenerator(rescale=1./255)"
   ]
  },
  {
   "cell_type": "code",
   "execution_count": 20,
   "metadata": {},
   "outputs": [
    {
     "name": "stdout",
     "output_type": "stream",
     "text": [
      "Found 101000 images belonging to 101 classes.\n"
     ]
    }
   ],
   "source": [
    "platos=datagen.flow_from_directory(\"../input/images/\", target_size=(300, 375), color_mode='grayscale',class_mode='categorical',batch_size=128)"
   ]
  },
  {
   "cell_type": "code",
   "execution_count": 21,
   "metadata": {},
   "outputs": [
    {
     "data": {
      "text/plain": [
       "<tensorflow.python.keras.preprocessing.image.DirectoryIterator at 0x7fdca285fc40>"
      ]
     },
     "execution_count": 21,
     "metadata": {},
     "output_type": "execute_result"
    }
   ],
   "source": [
    "platos"
   ]
  },
  {
   "cell_type": "markdown",
   "metadata": {},
   "source": [
    "### Now, we must define out net typology"
   ]
  },
  {
   "cell_type": "code",
   "execution_count": null,
   "metadata": {},
   "outputs": [],
   "source": []
  },
  {
   "cell_type": "code",
   "execution_count": null,
   "metadata": {},
   "outputs": [],
   "source": []
  },
  {
   "cell_type": "code",
   "execution_count": null,
   "metadata": {},
   "outputs": [],
   "source": []
  }
 ],
 "metadata": {
  "kernelspec": {
   "display_name": "Python 3",
   "language": "python",
   "name": "python3"
  },
  "language_info": {
   "codemirror_mode": {
    "name": "ipython",
    "version": 3
   },
   "file_extension": ".py",
   "mimetype": "text/x-python",
   "name": "python",
   "nbconvert_exporter": "python",
   "pygments_lexer": "ipython3",
   "version": "3.8.5"
  }
 },
 "nbformat": 4,
 "nbformat_minor": 4
}
