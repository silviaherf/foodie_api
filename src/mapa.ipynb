{
 "cells": [
  {
   "cell_type": "code",
   "execution_count": 23,
   "metadata": {},
   "outputs": [],
   "source": [
    "import pandas as pd\n",
    "import requests\n",
    "import os\n",
    "from dotenv import load_dotenv\n",
    "load_dotenv()\n",
    "from datetime import date\n",
    "from bs4 import BeautifulSoup\n",
    "from folium import Map, Marker, Icon, FeatureGroup, LayerControl, Choropleth\n",
    "import branca\n",
    "from folium.plugins import HeatMap\n",
    "import json\n",
    "from bs4 import BeautifulSoup\n",
    "import geocoder\n",
    "from geopy.geocoders import Nominatim\n"
   ]
  },
  {
   "cell_type": "code",
   "execution_count": 4,
   "metadata": {},
   "outputs": [],
   "source": [
    "def get_venue_foursquare(place='Madrid',food='burger',price=2):\n",
    "    \n",
    "    \"\"\"\n",
    "    This function makes a request to a URL and returns its response.\n",
    "    \"\"\"\n",
    "    api_user=os.getenv('CLIENT_ID')\n",
    "    api_key=os.getenv('CLIENT_SECRET')    \n",
    "    \n",
    "    g = geocoder.ip('me')\n",
    "    lat,long=g.latlng\n",
    "    location=f'{str(lat)},{str(long)}'\n",
    "    today = date.today().strftime(\"%Y%m%d\")\n",
    "    \n",
    "    baseUrl=\"https://api.foursquare.com\"\n",
    "    endpoint=f'/v2/venues/explore/?ll={location}&query={food}&limit=5&sortByDistance=1&sortByPopularity=1&price={price}&client_id={api_user}&client_secret={api_key}&v={today}'\n",
    " \n",
    "    url = f\"{baseUrl}{endpoint}\"\n",
    "    \n",
    "\n",
    "    res = requests.get(url)\n",
    "        \n",
    "    data = res.json()\n",
    "    if res.status_code != 200:\n",
    "        \n",
    "        raise ValueError(f'Invalid FourSquare API call: status code: {res.status_code}')\n",
    "                         #: {data[\"message\"]}\\nSee more in {data[\"documentation_url\"]}')\n",
    "        \n",
    "    else:\n",
    "        print(f\"Requested data to {baseUrl}; status_code:{res.status_code}\")\n",
    "        \n",
    "        return res"
   ]
  },
  {
   "cell_type": "code",
   "execution_count": 5,
   "metadata": {},
   "outputs": [
    {
     "name": "stdout",
     "output_type": "stream",
     "text": [
      "Requested data to https://api.foursquare.com; status_code:200\n"
     ]
    }
   ],
   "source": [
    "res=get_venue_foursquare(food='sushi')"
   ]
  },
  {
   "cell_type": "markdown",
   "metadata": {},
   "source": [
    "Nombre del restaurante:"
   ]
  },
  {
   "cell_type": "code",
   "execution_count": 6,
   "metadata": {},
   "outputs": [],
   "source": [
    "name=res.json()['response']['groups'][0]['items'][0]['venue']['name']"
   ]
  },
  {
   "cell_type": "markdown",
   "metadata": {},
   "source": [
    "Direccion"
   ]
  },
  {
   "cell_type": "code",
   "execution_count": 7,
   "metadata": {},
   "outputs": [
    {
     "data": {
      "text/plain": [
       "{'address': 'Calle Villalar, 4',\n",
       " 'lat': 40.42116858895287,\n",
       " 'lng': -3.689797446212131,\n",
       " 'labeledLatLngs': [{'label': 'display',\n",
       "   'lat': 40.42116858895287,\n",
       "   'lng': -3.689797446212131}],\n",
       " 'distance': 1203,\n",
       " 'postalCode': '28001',\n",
       " 'cc': 'ES',\n",
       " 'neighborhood': 'Recoletos',\n",
       " 'city': 'Madrid',\n",
       " 'state': 'Madrid',\n",
       " 'country': 'España',\n",
       " 'formattedAddress': ['Calle Villalar, 4', '28001 Madrid Madrid', 'España']}"
      ]
     },
     "execution_count": 7,
     "metadata": {},
     "output_type": "execute_result"
    }
   ],
   "source": [
    "res.json()['response']['groups'][0]['items'][0]['venue']['location']"
   ]
  },
  {
   "cell_type": "code",
   "execution_count": 8,
   "metadata": {},
   "outputs": [
    {
     "data": {
      "text/plain": [
       "'Calle Villalar, 4'"
      ]
     },
     "execution_count": 8,
     "metadata": {},
     "output_type": "execute_result"
    }
   ],
   "source": [
    "res.json()['response']['groups'][0]['items'][0]['venue']['location']['address']"
   ]
  },
  {
   "cell_type": "code",
   "execution_count": 9,
   "metadata": {},
   "outputs": [],
   "source": [
    "lat=res.json()['response']['groups'][0]['items'][1]['venue']['location']['labeledLatLngs'][0]['lat']"
   ]
  },
  {
   "cell_type": "code",
   "execution_count": 10,
   "metadata": {},
   "outputs": [
    {
     "data": {
      "text/plain": [
       "40.41684998102102"
      ]
     },
     "execution_count": 10,
     "metadata": {},
     "output_type": "execute_result"
    }
   ],
   "source": [
    "lat"
   ]
  },
  {
   "cell_type": "code",
   "execution_count": 11,
   "metadata": {},
   "outputs": [],
   "source": [
    "long=res.json()['response']['groups'][0]['items'][1]['venue']['location']['labeledLatLngs'][0]['lng']"
   ]
  },
  {
   "cell_type": "code",
   "execution_count": 12,
   "metadata": {},
   "outputs": [
    {
     "data": {
      "text/plain": [
       "[40.41684998102102, -3.7086242881877367]"
      ]
     },
     "execution_count": 12,
     "metadata": {},
     "output_type": "execute_result"
    }
   ],
   "source": [
    "[lat,long]"
   ]
  },
  {
   "cell_type": "code",
   "execution_count": 13,
   "metadata": {},
   "outputs": [],
   "source": [
    "location=f'{str(lat)},{str(long)}'"
   ]
  },
  {
   "cell_type": "code",
   "execution_count": 14,
   "metadata": {},
   "outputs": [],
   "source": [
    "import geocoder\n",
    "g = geocoder.ip('me')\n",
    "lat,long=g.latlng"
   ]
  },
  {
   "cell_type": "code",
   "execution_count": 15,
   "metadata": {},
   "outputs": [],
   "source": [
    "location=f'{str(lat)},{str(long)}'"
   ]
  },
  {
   "cell_type": "code",
   "execution_count": 16,
   "metadata": {},
   "outputs": [],
   "source": [
    "m = Map(location=g.latlng,zoom_start=15)"
   ]
  },
  {
   "cell_type": "code",
   "execution_count": null,
   "metadata": {},
   "outputs": [],
   "source": []
  },
  {
   "cell_type": "code",
   "execution_count": 17,
   "metadata": {},
   "outputs": [
    {
     "data": {
      "text/plain": [
       "<folium.map.Marker at 0x7f44e441b4c0>"
      ]
     },
     "execution_count": 17,
     "metadata": {},
     "output_type": "execute_result"
    }
   ],
   "source": [
    "chincheta = Marker(location=[lat,long], tooltip=name)\n",
    "chincheta.add_to(m)"
   ]
  },
  {
   "cell_type": "code",
   "execution_count": 18,
   "metadata": {},
   "outputs": [
    {
     "data": {
      "text/html": [
       "<div style=\"width:100%;\"><div style=\"position:relative;width:100%;height:0;padding-bottom:60%;\"><span style=\"color:#565656\">Make this Notebook Trusted to load map: File -> Trust Notebook</span><iframe src=\"about:blank\" style=\"position:absolute;width:100%;height:100%;left:0;top:0;border:none !important;\" data-html=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 onload=\"this.contentDocument.open();this.contentDocument.write(atob(this.getAttribute('data-html')));this.contentDocument.close();\" allowfullscreen webkitallowfullscreen mozallowfullscreen></iframe></div></div>"
      ],
      "text/plain": [
       "<folium.folium.Map at 0x7f44a980a9d0>"
      ]
     },
     "execution_count": 18,
     "metadata": {},
     "output_type": "execute_result"
    }
   ],
   "source": [
    "m"
   ]
  },
  {
   "cell_type": "code",
   "execution_count": 19,
   "metadata": {},
   "outputs": [],
   "source": [
    "m.save(\"../output/mapa.html\")"
   ]
  },
  {
   "cell_type": "code",
   "execution_count": 31,
   "metadata": {},
   "outputs": [
    {
     "data": {
      "text/plain": [
       "{'tourism': 'Apartamentos del Sol',\n",
       " 'house_number': '3',\n",
       " 'road': 'Puerta del Sol',\n",
       " 'quarter': 'Sol',\n",
       " 'suburb': 'Sol',\n",
       " 'city_district': 'Centro',\n",
       " 'city': 'Madrid',\n",
       " 'municipality': 'Área metropolitana de Madrid y Corredor del Henares',\n",
       " 'county': 'Comunidad de Madrid',\n",
       " 'state': 'Comunidad de Madrid',\n",
       " 'postcode': '28013',\n",
       " 'country': 'España',\n",
       " 'country_code': 'es'}"
      ]
     },
     "execution_count": 31,
     "metadata": {},
     "output_type": "execute_result"
    }
   ],
   "source": [
    "locator = Nominatim(user_agent='myGeocoder')\n",
    "address_raw = locator.reverse(location)\n",
    "address_raw.raw['address']"
   ]
  },
  {
   "cell_type": "code",
   "execution_count": 41,
   "metadata": {},
   "outputs": [
    {
     "data": {
      "text/plain": [
       "'Puerta del Sol, 3'"
      ]
     },
     "execution_count": 41,
     "metadata": {},
     "output_type": "execute_result"
    }
   ],
   "source": [
    "address=f\"{address_raw.raw['address']['road']}, {address_raw.raw['address']['house_number']}\"\n",
    "address"
   ]
  },
  {
   "cell_type": "code",
   "execution_count": 203,
   "metadata": {},
   "outputs": [],
   "source": [
    "from tempfile import NamedTemporaryFile\n",
    "import webbrowser\n",
    "\n",
    "g = geocoder.ip('me')\n",
    "lat,long=g.latlng\n",
    "location=f'{str(lat)},{str(long)}'\n",
    "m = Map(location=g.latlng,zoom_start=15)\n",
    "\n",
    "tmp = NamedTemporaryFile()\n",
    "m.save(tmp.name)\n"
   ]
  },
  {
   "cell_type": "code",
   "execution_count": null,
   "metadata": {},
   "outputs": [],
   "source": [
    "with open(tmp.name) as f:\n",
    "    folium_map_html = f.read()\n",
    "webbrowser.open(folium_map_html)"
   ]
  },
  {
   "cell_type": "code",
   "execution_count": null,
   "metadata": {},
   "outputs": [],
   "source": [
    "j = r.json()\n",
    "lat = j['latitude']\n",
    "lon = j['longitude']"
   ]
  },
  {
   "cell_type": "code",
   "execution_count": null,
   "metadata": {},
   "outputs": [],
   "source": []
  },
  {
   "cell_type": "code",
   "execution_count": null,
   "metadata": {},
   "outputs": [],
   "source": []
  },
  {
   "cell_type": "code",
   "execution_count": null,
   "metadata": {},
   "outputs": [],
   "source": []
  },
  {
   "cell_type": "code",
   "execution_count": 2,
   "metadata": {},
   "outputs": [
    {
     "ename": "ModuleNotFoundError",
     "evalue": "No module named 'google.colab'",
     "output_type": "error",
     "traceback": [
      "\u001b[0;31m---------------------------------------------------------------------------\u001b[0m",
      "\u001b[0;31mModuleNotFoundError\u001b[0m                       Traceback (most recent call last)",
      "\u001b[0;32m<ipython-input-2-72edf3658aa1>\u001b[0m in \u001b[0;36m<module>\u001b[0;34m\u001b[0m\n\u001b[0;32m----> 1\u001b[0;31m \u001b[0;32mfrom\u001b[0m \u001b[0mgoogle\u001b[0m\u001b[0;34m.\u001b[0m\u001b[0mcolab\u001b[0m \u001b[0;32mimport\u001b[0m \u001b[0mfiles\u001b[0m\u001b[0;34m\u001b[0m\u001b[0;34m\u001b[0m\u001b[0m\n\u001b[0m\u001b[1;32m      2\u001b[0m \u001b[0;34m\u001b[0m\u001b[0m\n\u001b[1;32m      3\u001b[0m \u001b[0muploaded\u001b[0m \u001b[0;34m=\u001b[0m \u001b[0mfiles\u001b[0m\u001b[0;34m.\u001b[0m\u001b[0mupload\u001b[0m\u001b[0;34m(\u001b[0m\u001b[0;34m)\u001b[0m\u001b[0;34m\u001b[0m\u001b[0;34m\u001b[0m\u001b[0m\n",
      "\u001b[0;31mModuleNotFoundError\u001b[0m: No module named 'google.colab'"
     ]
    }
   ],
   "source": [
    "from google.colab import files\n",
    "\n",
    "uploaded = files.upload()\n"
   ]
  },
  {
   "cell_type": "code",
   "execution_count": null,
   "metadata": {},
   "outputs": [],
   "source": [
    "\n",
    "for fn in uploaded.keys():\n",
    "  print('User uploaded file \"{name}\" with length {length} bytes'.format(\n",
    "      name=fn, length=len(uploaded[fn])))"
   ]
  },
  {
   "cell_type": "code",
   "execution_count": null,
   "metadata": {},
   "outputs": [],
   "source": [
    "import tensorflow as tf"
   ]
  },
  {
   "cell_type": "code",
   "execution_count": null,
   "metadata": {},
   "outputs": [],
   "source": [
    " from google.colab import files\n",
    "uploaded = files.upload()\n",
    " ahi cargas el archivo train y despues\n",
    "import io\n",
    "df2 = pd.read_csv(io.BytesIO(uploaded['nombre .csv'])) ("
   ]
  },
  {
   "cell_type": "code",
   "execution_count": null,
   "metadata": {},
   "outputs": [],
   "source": []
  },
  {
   "cell_type": "code",
   "execution_count": null,
   "metadata": {},
   "outputs": [],
   "source": [
    " webbrowser.open(url)"
   ]
  },
  {
   "cell_type": "code",
   "execution_count": null,
   "metadata": {},
   "outputs": [],
   "source": []
  },
  {
   "cell_type": "code",
   "execution_count": 10,
   "metadata": {},
   "outputs": [
    {
     "data": {
      "text/html": [
       "<div>\n",
       "<style scoped>\n",
       "    .dataframe tbody tr th:only-of-type {\n",
       "        vertical-align: middle;\n",
       "    }\n",
       "\n",
       "    .dataframe tbody tr th {\n",
       "        vertical-align: top;\n",
       "    }\n",
       "\n",
       "    .dataframe thead th {\n",
       "        text-align: right;\n",
       "    }\n",
       "</style>\n",
       "<table border=\"1\" class=\"dataframe\">\n",
       "  <thead>\n",
       "    <tr style=\"text-align: right;\">\n",
       "      <th></th>\n",
       "      <th>@fechaActualizacion</th>\n",
       "      <th>@id</th>\n",
       "      <th>basicData</th>\n",
       "      <th>geoData</th>\n",
       "      <th>multimedia</th>\n",
       "      <th>extradata</th>\n",
       "    </tr>\n",
       "  </thead>\n",
       "  <tbody>\n",
       "    <tr>\n",
       "      <th>0</th>\n",
       "      <td>2020-09-28</td>\n",
       "      <td>95456</td>\n",
       "      <td>{'language': 'es', 'name': 'Dani Brasserie', '...</td>\n",
       "      <td>{'address': 'de Sevilla,   3', 'zipcode': '280...</td>\n",
       "      <td>{'media': [{'@type': 'image', 'description': N...</td>\n",
       "      <td>{'item': [{'@name': 'idTipo', '#text': '2'}, {...</td>\n",
       "    </tr>\n",
       "    <tr>\n",
       "      <th>1</th>\n",
       "      <td>2020-09-28</td>\n",
       "      <td>95264</td>\n",
       "      <td>{'language': 'es', 'name': 'Bloom', 'email': '...</td>\n",
       "      <td>{'address': 'de Alberto Aguilera, 54', 'zipcod...</td>\n",
       "      <td>{'media': [{'@type': 'image', 'description': N...</td>\n",
       "      <td>{'item': [{'@name': 'idTipo', '#text': '2'}, {...</td>\n",
       "    </tr>\n",
       "    <tr>\n",
       "      <th>2</th>\n",
       "      <td>2020-07-16</td>\n",
       "      <td>95070</td>\n",
       "      <td>{'language': 'es', 'name': 'La Venencia', 'ema...</td>\n",
       "      <td>{'address': 'de Echegaray, 7', 'zipcode': '280...</td>\n",
       "      <td>{'media': {'@type': 'image', 'description': No...</td>\n",
       "      <td>{'item': [{'@name': 'idTipo', '#text': '2'}, {...</td>\n",
       "    </tr>\n",
       "    <tr>\n",
       "      <th>3</th>\n",
       "      <td>2020-09-09</td>\n",
       "      <td>95052</td>\n",
       "      <td>{'language': 'es', 'name': 'Gran V&amp;iacute;a 55...</td>\n",
       "      <td>{'address': 'Gran Vía , 55', 'zipcode': '28013...</td>\n",
       "      <td>{'media': [{'@type': 'image', 'description': N...</td>\n",
       "      <td>{'item': [{'@name': 'idTipo', '#text': '2'}, {...</td>\n",
       "    </tr>\n",
       "    <tr>\n",
       "      <th>4</th>\n",
       "      <td>2020-07-02</td>\n",
       "      <td>94984</td>\n",
       "      <td>{'language': 'es', 'name': 'Bodega de La Ardos...</td>\n",
       "      <td>{'address': 'de Colón, 13', 'zipcode': '28004'...</td>\n",
       "      <td>{'media': {'@type': 'image', 'description': No...</td>\n",
       "      <td>{'item': [{'@name': 'idTipo', '#text': '2'}, {...</td>\n",
       "    </tr>\n",
       "    <tr>\n",
       "      <th>...</th>\n",
       "      <td>...</td>\n",
       "      <td>...</td>\n",
       "      <td>...</td>\n",
       "      <td>...</td>\n",
       "      <td>...</td>\n",
       "      <td>...</td>\n",
       "    </tr>\n",
       "    <tr>\n",
       "      <th>1053</th>\n",
       "      <td>2018-06-25</td>\n",
       "      <td>68608</td>\n",
       "      <td>{'language': 'es', 'name': 'Casa Benigna', 'em...</td>\n",
       "      <td>{'address': 'Benigno Soto, 9', 'zipcode': '280...</td>\n",
       "      <td>{'media': [{'@type': 'image', 'description': N...</td>\n",
       "      <td>{'item': [{'@name': 'idTipo', '#text': '2'}, {...</td>\n",
       "    </tr>\n",
       "    <tr>\n",
       "      <th>1054</th>\n",
       "      <td>2016-12-21</td>\n",
       "      <td>68609</td>\n",
       "      <td>{'language': 'es', 'name': 'East 47', 'email':...</td>\n",
       "      <td>{'address': 'Cortes, 10', 'zipcode': '28014', ...</td>\n",
       "      <td>{'media': [{'@type': 'image', 'description': N...</td>\n",
       "      <td>{'item': [{'@name': 'idTipo', '#text': '2'}, {...</td>\n",
       "    </tr>\n",
       "    <tr>\n",
       "      <th>1055</th>\n",
       "      <td>2020-09-08</td>\n",
       "      <td>68610</td>\n",
       "      <td>{'language': 'es', 'name': 'Ecocentro', 'email...</td>\n",
       "      <td>{'address': 'Esquilache, 2 -12', 'zipcode': '2...</td>\n",
       "      <td>{'media': [{'@type': 'image', 'description': N...</td>\n",
       "      <td>{'item': [{'@name': 'idTipo', '#text': '2'}, {...</td>\n",
       "    </tr>\n",
       "    <tr>\n",
       "      <th>1056</th>\n",
       "      <td>2017-01-12</td>\n",
       "      <td>68612</td>\n",
       "      <td>{'language': 'es', 'name': 'La Finca de Susana...</td>\n",
       "      <td>{'address': 'Príncipe, 10', 'zipcode': '28014'...</td>\n",
       "      <td>{'media': [{'@type': 'image', 'description': N...</td>\n",
       "      <td>{'item': [{'@name': 'idTipo', '#text': '2'}, {...</td>\n",
       "    </tr>\n",
       "    <tr>\n",
       "      <th>1057</th>\n",
       "      <td>2017-01-09</td>\n",
       "      <td>68614</td>\n",
       "      <td>{'language': 'es', 'name': 'Goizeko Wellington...</td>\n",
       "      <td>{'address': 'Villanueva, 34', 'zipcode': '2800...</td>\n",
       "      <td>{'media': [{'@type': 'image', 'description': N...</td>\n",
       "      <td>{'item': [{'@name': 'idTipo', '#text': '2'}, {...</td>\n",
       "    </tr>\n",
       "  </tbody>\n",
       "</table>\n",
       "<p>1058 rows × 6 columns</p>\n",
       "</div>"
      ],
      "text/plain": [
       "     @fechaActualizacion    @id  \\\n",
       "0             2020-09-28  95456   \n",
       "1             2020-09-28  95264   \n",
       "2             2020-07-16  95070   \n",
       "3             2020-09-09  95052   \n",
       "4             2020-07-02  94984   \n",
       "...                  ...    ...   \n",
       "1053          2018-06-25  68608   \n",
       "1054          2016-12-21  68609   \n",
       "1055          2020-09-08  68610   \n",
       "1056          2017-01-12  68612   \n",
       "1057          2017-01-09  68614   \n",
       "\n",
       "                                              basicData  \\\n",
       "0     {'language': 'es', 'name': 'Dani Brasserie', '...   \n",
       "1     {'language': 'es', 'name': 'Bloom', 'email': '...   \n",
       "2     {'language': 'es', 'name': 'La Venencia', 'ema...   \n",
       "3     {'language': 'es', 'name': 'Gran V&iacute;a 55...   \n",
       "4     {'language': 'es', 'name': 'Bodega de La Ardos...   \n",
       "...                                                 ...   \n",
       "1053  {'language': 'es', 'name': 'Casa Benigna', 'em...   \n",
       "1054  {'language': 'es', 'name': 'East 47', 'email':...   \n",
       "1055  {'language': 'es', 'name': 'Ecocentro', 'email...   \n",
       "1056  {'language': 'es', 'name': 'La Finca de Susana...   \n",
       "1057  {'language': 'es', 'name': 'Goizeko Wellington...   \n",
       "\n",
       "                                                geoData  \\\n",
       "0     {'address': 'de Sevilla,   3', 'zipcode': '280...   \n",
       "1     {'address': 'de Alberto Aguilera, 54', 'zipcod...   \n",
       "2     {'address': 'de Echegaray, 7', 'zipcode': '280...   \n",
       "3     {'address': 'Gran Vía , 55', 'zipcode': '28013...   \n",
       "4     {'address': 'de Colón, 13', 'zipcode': '28004'...   \n",
       "...                                                 ...   \n",
       "1053  {'address': 'Benigno Soto, 9', 'zipcode': '280...   \n",
       "1054  {'address': 'Cortes, 10', 'zipcode': '28014', ...   \n",
       "1055  {'address': 'Esquilache, 2 -12', 'zipcode': '2...   \n",
       "1056  {'address': 'Príncipe, 10', 'zipcode': '28014'...   \n",
       "1057  {'address': 'Villanueva, 34', 'zipcode': '2800...   \n",
       "\n",
       "                                             multimedia  \\\n",
       "0     {'media': [{'@type': 'image', 'description': N...   \n",
       "1     {'media': [{'@type': 'image', 'description': N...   \n",
       "2     {'media': {'@type': 'image', 'description': No...   \n",
       "3     {'media': [{'@type': 'image', 'description': N...   \n",
       "4     {'media': {'@type': 'image', 'description': No...   \n",
       "...                                                 ...   \n",
       "1053  {'media': [{'@type': 'image', 'description': N...   \n",
       "1054  {'media': [{'@type': 'image', 'description': N...   \n",
       "1055  {'media': [{'@type': 'image', 'description': N...   \n",
       "1056  {'media': [{'@type': 'image', 'description': N...   \n",
       "1057  {'media': [{'@type': 'image', 'description': N...   \n",
       "\n",
       "                                              extradata  \n",
       "0     {'item': [{'@name': 'idTipo', '#text': '2'}, {...  \n",
       "1     {'item': [{'@name': 'idTipo', '#text': '2'}, {...  \n",
       "2     {'item': [{'@name': 'idTipo', '#text': '2'}, {...  \n",
       "3     {'item': [{'@name': 'idTipo', '#text': '2'}, {...  \n",
       "4     {'item': [{'@name': 'idTipo', '#text': '2'}, {...  \n",
       "...                                                 ...  \n",
       "1053  {'item': [{'@name': 'idTipo', '#text': '2'}, {...  \n",
       "1054  {'item': [{'@name': 'idTipo', '#text': '2'}, {...  \n",
       "1055  {'item': [{'@name': 'idTipo', '#text': '2'}, {...  \n",
       "1056  {'item': [{'@name': 'idTipo', '#text': '2'}, {...  \n",
       "1057  {'item': [{'@name': 'idTipo', '#text': '2'}, {...  \n",
       "\n",
       "[1058 rows x 6 columns]"
      ]
     },
     "execution_count": 10,
     "metadata": {},
     "output_type": "execute_result"
    }
   ],
   "source": [
    "pandas_read_xml.read_xml('restaurantes_v1_es.xml',['serviceList','service'])"
   ]
  },
  {
   "cell_type": "code",
   "execution_count": null,
   "metadata": {},
   "outputs": [],
   "source": []
  },
  {
   "cell_type": "code",
   "execution_count": null,
   "metadata": {},
   "outputs": [],
   "source": []
  },
  {
   "cell_type": "code",
   "execution_count": null,
   "metadata": {},
   "outputs": [],
   "source": []
  },
  {
   "cell_type": "code",
   "execution_count": null,
   "metadata": {},
   "outputs": [],
   "source": []
  },
  {
   "cell_type": "code",
   "execution_count": 6,
   "metadata": {},
   "outputs": [
    {
     "ename": "ParserError",
     "evalue": "Error tokenizing data. C error: Expected 37 fields in line 15, saw 46\n",
     "output_type": "error",
     "traceback": [
      "\u001b[0;31m---------------------------------------------------------------------------\u001b[0m",
      "\u001b[0;31mParserError\u001b[0m                               Traceback (most recent call last)",
      "\u001b[0;32m<ipython-input-6-df7b041f0c67>\u001b[0m in \u001b[0;36m<module>\u001b[0;34m\u001b[0m\n\u001b[0;32m----> 1\u001b[0;31m \u001b[0mpd\u001b[0m\u001b[0;34m.\u001b[0m\u001b[0mread_csv\u001b[0m\u001b[0;34m(\u001b[0m\u001b[0;34m'../input/openfood.csv'\u001b[0m\u001b[0;34m,\u001b[0m\u001b[0mencoding\u001b[0m\u001b[0;34m=\u001b[0m\u001b[0;34m'latin-1'\u001b[0m\u001b[0;34m)\u001b[0m\u001b[0;34m\u001b[0m\u001b[0;34m\u001b[0m\u001b[0m\n\u001b[0m",
      "\u001b[0;32m/usr/local/lib/python3.8/dist-packages/pandas/io/parsers.py\u001b[0m in \u001b[0;36mread_csv\u001b[0;34m(filepath_or_buffer, sep, delimiter, header, names, index_col, usecols, squeeze, prefix, mangle_dupe_cols, dtype, engine, converters, true_values, false_values, skipinitialspace, skiprows, skipfooter, nrows, na_values, keep_default_na, na_filter, verbose, skip_blank_lines, parse_dates, infer_datetime_format, keep_date_col, date_parser, dayfirst, cache_dates, iterator, chunksize, compression, thousands, decimal, lineterminator, quotechar, quoting, doublequote, escapechar, comment, encoding, dialect, error_bad_lines, warn_bad_lines, delim_whitespace, low_memory, memory_map, float_precision)\u001b[0m\n\u001b[1;32m    684\u001b[0m     )\n\u001b[1;32m    685\u001b[0m \u001b[0;34m\u001b[0m\u001b[0m\n\u001b[0;32m--> 686\u001b[0;31m     \u001b[0;32mreturn\u001b[0m \u001b[0m_read\u001b[0m\u001b[0;34m(\u001b[0m\u001b[0mfilepath_or_buffer\u001b[0m\u001b[0;34m,\u001b[0m \u001b[0mkwds\u001b[0m\u001b[0;34m)\u001b[0m\u001b[0;34m\u001b[0m\u001b[0;34m\u001b[0m\u001b[0m\n\u001b[0m\u001b[1;32m    687\u001b[0m \u001b[0;34m\u001b[0m\u001b[0m\n\u001b[1;32m    688\u001b[0m \u001b[0;34m\u001b[0m\u001b[0m\n",
      "\u001b[0;32m/usr/local/lib/python3.8/dist-packages/pandas/io/parsers.py\u001b[0m in \u001b[0;36m_read\u001b[0;34m(filepath_or_buffer, kwds)\u001b[0m\n\u001b[1;32m    456\u001b[0m \u001b[0;34m\u001b[0m\u001b[0m\n\u001b[1;32m    457\u001b[0m     \u001b[0;32mtry\u001b[0m\u001b[0;34m:\u001b[0m\u001b[0;34m\u001b[0m\u001b[0;34m\u001b[0m\u001b[0m\n\u001b[0;32m--> 458\u001b[0;31m         \u001b[0mdata\u001b[0m \u001b[0;34m=\u001b[0m \u001b[0mparser\u001b[0m\u001b[0;34m.\u001b[0m\u001b[0mread\u001b[0m\u001b[0;34m(\u001b[0m\u001b[0mnrows\u001b[0m\u001b[0;34m)\u001b[0m\u001b[0;34m\u001b[0m\u001b[0;34m\u001b[0m\u001b[0m\n\u001b[0m\u001b[1;32m    459\u001b[0m     \u001b[0;32mfinally\u001b[0m\u001b[0;34m:\u001b[0m\u001b[0;34m\u001b[0m\u001b[0;34m\u001b[0m\u001b[0m\n\u001b[1;32m    460\u001b[0m         \u001b[0mparser\u001b[0m\u001b[0;34m.\u001b[0m\u001b[0mclose\u001b[0m\u001b[0;34m(\u001b[0m\u001b[0;34m)\u001b[0m\u001b[0;34m\u001b[0m\u001b[0;34m\u001b[0m\u001b[0m\n",
      "\u001b[0;32m/usr/local/lib/python3.8/dist-packages/pandas/io/parsers.py\u001b[0m in \u001b[0;36mread\u001b[0;34m(self, nrows)\u001b[0m\n\u001b[1;32m   1184\u001b[0m     \u001b[0;32mdef\u001b[0m \u001b[0mread\u001b[0m\u001b[0;34m(\u001b[0m\u001b[0mself\u001b[0m\u001b[0;34m,\u001b[0m \u001b[0mnrows\u001b[0m\u001b[0;34m=\u001b[0m\u001b[0;32mNone\u001b[0m\u001b[0;34m)\u001b[0m\u001b[0;34m:\u001b[0m\u001b[0;34m\u001b[0m\u001b[0;34m\u001b[0m\u001b[0m\n\u001b[1;32m   1185\u001b[0m         \u001b[0mnrows\u001b[0m \u001b[0;34m=\u001b[0m \u001b[0m_validate_integer\u001b[0m\u001b[0;34m(\u001b[0m\u001b[0;34m\"nrows\"\u001b[0m\u001b[0;34m,\u001b[0m \u001b[0mnrows\u001b[0m\u001b[0;34m)\u001b[0m\u001b[0;34m\u001b[0m\u001b[0;34m\u001b[0m\u001b[0m\n\u001b[0;32m-> 1186\u001b[0;31m         \u001b[0mret\u001b[0m \u001b[0;34m=\u001b[0m \u001b[0mself\u001b[0m\u001b[0;34m.\u001b[0m\u001b[0m_engine\u001b[0m\u001b[0;34m.\u001b[0m\u001b[0mread\u001b[0m\u001b[0;34m(\u001b[0m\u001b[0mnrows\u001b[0m\u001b[0;34m)\u001b[0m\u001b[0;34m\u001b[0m\u001b[0;34m\u001b[0m\u001b[0m\n\u001b[0m\u001b[1;32m   1187\u001b[0m \u001b[0;34m\u001b[0m\u001b[0m\n\u001b[1;32m   1188\u001b[0m         \u001b[0;31m# May alter columns / col_dict\u001b[0m\u001b[0;34m\u001b[0m\u001b[0;34m\u001b[0m\u001b[0;34m\u001b[0m\u001b[0m\n",
      "\u001b[0;32m/usr/local/lib/python3.8/dist-packages/pandas/io/parsers.py\u001b[0m in \u001b[0;36mread\u001b[0;34m(self, nrows)\u001b[0m\n\u001b[1;32m   2143\u001b[0m     \u001b[0;32mdef\u001b[0m \u001b[0mread\u001b[0m\u001b[0;34m(\u001b[0m\u001b[0mself\u001b[0m\u001b[0;34m,\u001b[0m \u001b[0mnrows\u001b[0m\u001b[0;34m=\u001b[0m\u001b[0;32mNone\u001b[0m\u001b[0;34m)\u001b[0m\u001b[0;34m:\u001b[0m\u001b[0;34m\u001b[0m\u001b[0;34m\u001b[0m\u001b[0m\n\u001b[1;32m   2144\u001b[0m         \u001b[0;32mtry\u001b[0m\u001b[0;34m:\u001b[0m\u001b[0;34m\u001b[0m\u001b[0;34m\u001b[0m\u001b[0m\n\u001b[0;32m-> 2145\u001b[0;31m             \u001b[0mdata\u001b[0m \u001b[0;34m=\u001b[0m \u001b[0mself\u001b[0m\u001b[0;34m.\u001b[0m\u001b[0m_reader\u001b[0m\u001b[0;34m.\u001b[0m\u001b[0mread\u001b[0m\u001b[0;34m(\u001b[0m\u001b[0mnrows\u001b[0m\u001b[0;34m)\u001b[0m\u001b[0;34m\u001b[0m\u001b[0;34m\u001b[0m\u001b[0m\n\u001b[0m\u001b[1;32m   2146\u001b[0m         \u001b[0;32mexcept\u001b[0m \u001b[0mStopIteration\u001b[0m\u001b[0;34m:\u001b[0m\u001b[0;34m\u001b[0m\u001b[0;34m\u001b[0m\u001b[0m\n\u001b[1;32m   2147\u001b[0m             \u001b[0;32mif\u001b[0m \u001b[0mself\u001b[0m\u001b[0;34m.\u001b[0m\u001b[0m_first_chunk\u001b[0m\u001b[0;34m:\u001b[0m\u001b[0;34m\u001b[0m\u001b[0;34m\u001b[0m\u001b[0m\n",
      "\u001b[0;32mpandas/_libs/parsers.pyx\u001b[0m in \u001b[0;36mpandas._libs.parsers.TextReader.read\u001b[0;34m()\u001b[0m\n",
      "\u001b[0;32mpandas/_libs/parsers.pyx\u001b[0m in \u001b[0;36mpandas._libs.parsers.TextReader._read_low_memory\u001b[0;34m()\u001b[0m\n",
      "\u001b[0;32mpandas/_libs/parsers.pyx\u001b[0m in \u001b[0;36mpandas._libs.parsers.TextReader._read_rows\u001b[0;34m()\u001b[0m\n",
      "\u001b[0;32mpandas/_libs/parsers.pyx\u001b[0m in \u001b[0;36mpandas._libs.parsers.TextReader._tokenize_rows\u001b[0;34m()\u001b[0m\n",
      "\u001b[0;32mpandas/_libs/parsers.pyx\u001b[0m in \u001b[0;36mpandas._libs.parsers.raise_parser_error\u001b[0;34m()\u001b[0m\n",
      "\u001b[0;31mParserError\u001b[0m: Error tokenizing data. C error: Expected 37 fields in line 15, saw 46\n"
     ]
    }
   ],
   "source": [
    "pd.read_csv('../input/openfood.csv',encoding='latin-1')"
   ]
  }
 ],
 "metadata": {
  "kernelspec": {
   "display_name": "Python 3",
   "language": "python",
   "name": "python3"
  },
  "language_info": {
   "codemirror_mode": {
    "name": "ipython",
    "version": 3
   },
   "file_extension": ".py",
   "mimetype": "text/x-python",
   "name": "python",
   "nbconvert_exporter": "python",
   "pygments_lexer": "ipython3",
   "version": "3.8.5"
  }
 },
 "nbformat": 4,
 "nbformat_minor": 4
}
