{
 "cells": [
  {
   "cell_type": "code",
   "execution_count": 2,
   "metadata": {},
   "outputs": [],
   "source": [
    "import cv2\n",
    "import glob\n",
    "import os\n",
    "import matplotlib.pyplot as plt\n",
    "from PIL import Image\n",
    "import numpy as np\n",
    "import tensorflow as tf\n",
    "from tensorflow.keras.models import Model"
   ]
  },
  {
   "cell_type": "markdown",
   "metadata": {},
   "source": [
    "### We remember the classes used for the final model"
   ]
  },
  {
   "cell_type": "code",
   "execution_count": 1,
   "metadata": {},
   "outputs": [],
   "source": [
    "names=[\n",
    " 'tacos',\n",
    " 'pizza',\n",
    " 'hamburger',\n",
    " 'spaghetti_bolognese',\n",
    " 'sushi'\n",
    "]"
   ]
  },
  {
   "cell_type": "markdown",
   "metadata": {},
   "source": [
    "### We define early Stopping, so that fitting stops if loss is not decreasing\n",
    "### Also a model checkpoint, to both save the best model and its weights"
   ]
  },
  {
   "cell_type": "code",
   "execution_count": 3,
   "metadata": {},
   "outputs": [],
   "source": [
    "model = tf.keras.models.load_model('../output/models/13_oct/Inception2_model.hdf5')\n",
    "\n",
    "\n",
    "model.summary();"
   ]
  },
  {
   "cell_type": "code",
   "execution_count": 19,
   "metadata": {},
   "outputs": [
    {
     "name": "stdout",
     "output_type": "stream",
     "text": [
      "Restored model, val_accuracy: 69.36%\n"
     ]
    }
   ],
   "source": [
    "loss,acc = model.evaluate(test_generator, verbose=0)\n",
    "print('Restored model, val_accuracy: {:5.2f}%'.format(100*acc))"
   ]
  },
  {
   "cell_type": "markdown",
   "metadata": {},
   "source": [
    "### Now, we download an image from internet to test out NN"
   ]
  },
  {
   "cell_type": "code",
   "execution_count": 52,
   "metadata": {},
   "outputs": [
    {
     "name": "stdout",
     "output_type": "stream",
     "text": [
      "--2020-10-12 16:10:56--  https://cdn6.recetasdeescandalo.com/wp-content/uploads/2019/09/Paella-mixta-con-marisco-carne-y-verduras.-Receta-de-arroz-deliciosa.jpg\n",
      "Resolving cdn6.recetasdeescandalo.com (cdn6.recetasdeescandalo.com)... 13.224.119.32, 13.224.119.20, 13.224.119.111, ...\n",
      "Connecting to cdn6.recetasdeescandalo.com (cdn6.recetasdeescandalo.com)|13.224.119.32|:443... connected.\n",
      "HTTP request sent, awaiting response... 200 OK\n",
      "Length: 153032 (149K) [image/jpeg]\n",
      "Saving to: ‘downloads/paella.jpg’\n",
      "\n",
      "downloads/paella.jp 100%[===================>] 149,45K  --.-KB/s    in 0,03s   \n",
      "\n",
      "2020-10-12 16:10:56 (4,22 MB/s) - ‘downloads/paella.jpg’ saved [153032/153032]\n",
      "\n"
     ]
    }
   ],
   "source": [
    "!wget -O downloads/tacos.jpg https://cdn6.recetasdeescandalo.com/wp-content/uploads/2019/09/Paella-mixta-con-marisco-carne-y-verduras.-Receta-de-arroz-deliciosa.jpg"
   ]
  },
  {
   "cell_type": "markdown",
   "metadata": {},
   "source": [
    "### We test our model"
   ]
  },
  {
   "cell_type": "code",
   "execution_count": 51,
   "metadata": {},
   "outputs": [],
   "source": [
    "def class_recognition(model, image):\n",
    "    img = cv2.imread(image)\n",
    "    img2 = cv2.cvtColor(img,cv2.COLOR_BGR2RGB)\n",
    "    dim=(75,75)\n",
    "    image=cv2.resize(img2, dim,interpolation=cv2.INTER_AREA)\n",
    "    image = np.expand_dims(image, axis=0) \n",
    "    pred = model.predict(image)\n",
    "    print(pred)\n",
    "    \n",
    "    for k,v in test_generator.class_indices.items():\n",
    "        if v==int(np.where(pred == 1)[1]):\n",
    "            clase=k\n",
    "    return clase"
   ]
  },
  {
   "cell_type": "code",
   "execution_count": 52,
   "metadata": {},
   "outputs": [
    {
     "name": "stdout",
     "output_type": "stream",
     "text": [
      "[[0. 0. 0. 1. 0.]]\n"
     ]
    }
   ],
   "source": [
    "clase=class_recognition(model, './downloads/felipe.jpg')"
   ]
  },
  {
   "cell_type": "code",
   "execution_count": 53,
   "metadata": {},
   "outputs": [
    {
     "data": {
      "text/plain": [
       "'paella'"
      ]
     },
     "execution_count": 53,
     "metadata": {},
     "output_type": "execute_result"
    }
   ],
   "source": [
    "clase"
   ]
  }
 ],
 "metadata": {
  "kernelspec": {
   "display_name": "Python 3",
   "language": "python",
   "name": "python3"
  },
  "language_info": {
   "codemirror_mode": {
    "name": "ipython",
    "version": 3
   },
   "file_extension": ".py",
   "mimetype": "text/x-python",
   "name": "python",
   "nbconvert_exporter": "python",
   "pygments_lexer": "ipython3",
   "version": "3.8.5"
  }
 },
 "nbformat": 4,
 "nbformat_minor": 4
}
